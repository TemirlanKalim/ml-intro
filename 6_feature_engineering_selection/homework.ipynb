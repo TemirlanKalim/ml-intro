{
  "cells": [
    {
      "cell_type": "code",
      "execution_count": 1,
      "metadata": {
        "id": "gKcgP-siDMiQ"
      },
      "outputs": [],
      "source": [
        "import numpy as np\n",
        "import pandas as pd\n",
        "import seaborn as sns\n",
        "import matplotlib.pyplot as plt\n",
        "\n",
        "from sklearn.impute import SimpleImputer\n",
        "from sklearn.preprocessing import StandardScaler, MinMaxScaler, OrdinalEncoder, OneHotEncoder\n",
        "from sklearn.decomposition import PCA\n",
        "\n",
        "from sklearn.feature_selection import VarianceThreshold, SelectFromModel, RFECV, SequentialFeatureSelector\n",
        "\n",
        "from sklearn.ensemble import RandomForestClassifier, RandomForestRegressor\n",
        "from sklearn.linear_model import LogisticRegression\n",
        "\n",
        "from sklearn.model_selection import KFold, cross_val_score, train_test_split\n",
        "from sklearn.pipeline import Pipeline, make_pipeline\n",
        "from sklearn.metrics import accuracy_score\n",
        "\n",
        "from sklearn.datasets import make_classification, load_wine, load_breast_cancer, load_diabetes, load_digits"
      ]
    },
    {
      "cell_type": "code",
      "execution_count": 2,
      "metadata": {
        "id": "Ai-iRUNuDMiS"
      },
      "outputs": [],
      "source": [
        "plt.style.use('seaborn-darkgrid')"
      ]
    },
    {
      "cell_type": "code",
      "execution_count": 3,
      "metadata": {
        "id": "2sCgbqwLDMiT"
      },
      "outputs": [],
      "source": [
        "def plot_scatter(x, y, auto_scaled=True, title=None, clusters=None):\n",
        "    plt.figure(figsize=(4, 4))\n",
        "    plt.scatter(x, y, c=clusters, cmap='bwr')\n",
        "    \n",
        "    if not auto_scaled:\n",
        "        plt.axis('square')\n",
        "    \n",
        "    plt.grid(True)\n",
        "    plt.title(title)\n",
        "    \n",
        "    plt.show()\n",
        "    \n",
        "def return_X_y(data, target_column):\n",
        "    return data.drop(target_column, axis=1), data[target_column]"
      ]
    },
    {
      "cell_type": "code",
      "execution_count": 4,
      "metadata": {
        "id": "dXAqzlBnDMiT"
      },
      "outputs": [],
      "source": [
        "wine_sklearn = load_wine(as_frame=True)\n",
        "wine_data, wine_labels = wine_sklearn['data'], wine_sklearn['target']"
      ]
    },
    {
      "cell_type": "markdown",
      "metadata": {
        "id": "CcHKleVfDMiU"
      },
      "source": [
        "# Homework"
      ]
    },
    {
      "cell_type": "markdown",
      "metadata": {
        "id": "WjjKwV8IDMiU"
      },
      "source": [
        "## Exercise  1 - Scaling (2 points)"
      ]
    },
    {
      "cell_type": "markdown",
      "metadata": {
        "id": "T6CVBp-nDMiV"
      },
      "source": [
        "Perform standardization for wine dataset (`wine_data`) using only basic python, numpy and pandas (without using `StandardScaler` and sklearn at all). Implementation of function (or class) that can get dataset as input and return standardized dataset as output is preferrable, but not necessary.\n",
        "\n",
        "Compare you results (output) with `StandardScaler`.\n",
        "\n",
        "**NOTE:**\n",
        "\n",
        "- 1 point for functional version, 2 points for implementing scaling as sklearn pipeline compartible class. \n",
        "- Maximum for the exercise is 2 points.\n"
      ]
    },
    {
      "cell_type": "markdown",
      "metadata": {
        "id": "tcOpvS-MDMiV"
      },
      "source": [
        "### Simple version (1 point)"
      ]
    },
    {
      "cell_type": "code",
      "source": [
        "# 1 point\n",
        "def scale(X):\n",
        "    return (X-X.mean())/(X.std(ddof=0))"
      ],
      "metadata": {
        "id": "AzBWHmrqpouh"
      },
      "execution_count": 5,
      "outputs": []
    },
    {
      "cell_type": "code",
      "execution_count": 6,
      "metadata": {
        "id": "fB2bAm4wDMiW"
      },
      "outputs": [],
      "source": [
        "assert np.allclose(np.array(scale(wine_data)), StandardScaler().fit_transform(wine_data))"
      ]
    },
    {
      "cell_type": "markdown",
      "metadata": {
        "id": "km9MON9ZDMiW"
      },
      "source": [
        "### Pipeline Version (2 points)"
      ]
    },
    {
      "cell_type": "code",
      "execution_count": 7,
      "metadata": {
        "id": "kuoUkgjKDMiX"
      },
      "outputs": [],
      "source": [
        "# 2 points\n",
        "from sklearn.base import BaseEstimator, TransformerMixin\n",
        "class CustomScaler(BaseEstimator, TransformerMixin):\n",
        "    def __init__(self, columns=None, copy=True, with_mean=True, with_std=True):\n",
        "        self.with_mean=with_mean\n",
        "        self.with_std=with_std\n",
        "        self.copy=copy\n",
        "\n",
        "    def fit(self, X, y=None):\n",
        "\n",
        "        if self.with_std==True:\n",
        "            self.std_=X.std(ddof=0)\n",
        "        else:\n",
        "            self.std_=np.ones(X.shape[0])\n",
        "\n",
        "        if self.with_mean==True:\n",
        "            self.mean_=np.mean(X) \n",
        "        else:\n",
        "            self.mean_=np.zeroes(X.shape[0])\n",
        "\n",
        "        return self\n",
        "\n",
        "\n",
        "    def transform(self, X, y=None, copy=None):\n",
        "        if self.copy==True:\n",
        "            X2=X.copy()\n",
        "            X2=(X2-self.mean_)/self.std_\n",
        "            return  X2\n",
        "        else:\n",
        "            X=(X-self.mean_)/self.std_\n",
        "            return  X"
      ]
    },
    {
      "cell_type": "code",
      "source": [
        "wine_data"
      ],
      "metadata": {
        "colab": {
          "base_uri": "https://localhost:8080/",
          "height": 488
        },
        "id": "06Q21tOXt0nZ",
        "outputId": "da6d5b7f-8cc5-4577-d7a1-2fcb59427b88"
      },
      "execution_count": 8,
      "outputs": [
        {
          "output_type": "execute_result",
          "data": {
            "text/plain": [
              "     alcohol  malic_acid   ash  alcalinity_of_ash  magnesium  total_phenols  \\\n",
              "0      14.23        1.71  2.43               15.6      127.0           2.80   \n",
              "1      13.20        1.78  2.14               11.2      100.0           2.65   \n",
              "2      13.16        2.36  2.67               18.6      101.0           2.80   \n",
              "3      14.37        1.95  2.50               16.8      113.0           3.85   \n",
              "4      13.24        2.59  2.87               21.0      118.0           2.80   \n",
              "..       ...         ...   ...                ...        ...            ...   \n",
              "173    13.71        5.65  2.45               20.5       95.0           1.68   \n",
              "174    13.40        3.91  2.48               23.0      102.0           1.80   \n",
              "175    13.27        4.28  2.26               20.0      120.0           1.59   \n",
              "176    13.17        2.59  2.37               20.0      120.0           1.65   \n",
              "177    14.13        4.10  2.74               24.5       96.0           2.05   \n",
              "\n",
              "     flavanoids  nonflavanoid_phenols  proanthocyanins  color_intensity   hue  \\\n",
              "0          3.06                  0.28             2.29             5.64  1.04   \n",
              "1          2.76                  0.26             1.28             4.38  1.05   \n",
              "2          3.24                  0.30             2.81             5.68  1.03   \n",
              "3          3.49                  0.24             2.18             7.80  0.86   \n",
              "4          2.69                  0.39             1.82             4.32  1.04   \n",
              "..          ...                   ...              ...              ...   ...   \n",
              "173        0.61                  0.52             1.06             7.70  0.64   \n",
              "174        0.75                  0.43             1.41             7.30  0.70   \n",
              "175        0.69                  0.43             1.35            10.20  0.59   \n",
              "176        0.68                  0.53             1.46             9.30  0.60   \n",
              "177        0.76                  0.56             1.35             9.20  0.61   \n",
              "\n",
              "     od280/od315_of_diluted_wines  proline  \n",
              "0                            3.92   1065.0  \n",
              "1                            3.40   1050.0  \n",
              "2                            3.17   1185.0  \n",
              "3                            3.45   1480.0  \n",
              "4                            2.93    735.0  \n",
              "..                            ...      ...  \n",
              "173                          1.74    740.0  \n",
              "174                          1.56    750.0  \n",
              "175                          1.56    835.0  \n",
              "176                          1.62    840.0  \n",
              "177                          1.60    560.0  \n",
              "\n",
              "[178 rows x 13 columns]"
            ],
            "text/html": [
              "\n",
              "  <div id=\"df-cbcde0a8-d88b-49f0-82e5-07d49bcf733e\">\n",
              "    <div class=\"colab-df-container\">\n",
              "      <div>\n",
              "<style scoped>\n",
              "    .dataframe tbody tr th:only-of-type {\n",
              "        vertical-align: middle;\n",
              "    }\n",
              "\n",
              "    .dataframe tbody tr th {\n",
              "        vertical-align: top;\n",
              "    }\n",
              "\n",
              "    .dataframe thead th {\n",
              "        text-align: right;\n",
              "    }\n",
              "</style>\n",
              "<table border=\"1\" class=\"dataframe\">\n",
              "  <thead>\n",
              "    <tr style=\"text-align: right;\">\n",
              "      <th></th>\n",
              "      <th>alcohol</th>\n",
              "      <th>malic_acid</th>\n",
              "      <th>ash</th>\n",
              "      <th>alcalinity_of_ash</th>\n",
              "      <th>magnesium</th>\n",
              "      <th>total_phenols</th>\n",
              "      <th>flavanoids</th>\n",
              "      <th>nonflavanoid_phenols</th>\n",
              "      <th>proanthocyanins</th>\n",
              "      <th>color_intensity</th>\n",
              "      <th>hue</th>\n",
              "      <th>od280/od315_of_diluted_wines</th>\n",
              "      <th>proline</th>\n",
              "    </tr>\n",
              "  </thead>\n",
              "  <tbody>\n",
              "    <tr>\n",
              "      <th>0</th>\n",
              "      <td>14.23</td>\n",
              "      <td>1.71</td>\n",
              "      <td>2.43</td>\n",
              "      <td>15.6</td>\n",
              "      <td>127.0</td>\n",
              "      <td>2.80</td>\n",
              "      <td>3.06</td>\n",
              "      <td>0.28</td>\n",
              "      <td>2.29</td>\n",
              "      <td>5.64</td>\n",
              "      <td>1.04</td>\n",
              "      <td>3.92</td>\n",
              "      <td>1065.0</td>\n",
              "    </tr>\n",
              "    <tr>\n",
              "      <th>1</th>\n",
              "      <td>13.20</td>\n",
              "      <td>1.78</td>\n",
              "      <td>2.14</td>\n",
              "      <td>11.2</td>\n",
              "      <td>100.0</td>\n",
              "      <td>2.65</td>\n",
              "      <td>2.76</td>\n",
              "      <td>0.26</td>\n",
              "      <td>1.28</td>\n",
              "      <td>4.38</td>\n",
              "      <td>1.05</td>\n",
              "      <td>3.40</td>\n",
              "      <td>1050.0</td>\n",
              "    </tr>\n",
              "    <tr>\n",
              "      <th>2</th>\n",
              "      <td>13.16</td>\n",
              "      <td>2.36</td>\n",
              "      <td>2.67</td>\n",
              "      <td>18.6</td>\n",
              "      <td>101.0</td>\n",
              "      <td>2.80</td>\n",
              "      <td>3.24</td>\n",
              "      <td>0.30</td>\n",
              "      <td>2.81</td>\n",
              "      <td>5.68</td>\n",
              "      <td>1.03</td>\n",
              "      <td>3.17</td>\n",
              "      <td>1185.0</td>\n",
              "    </tr>\n",
              "    <tr>\n",
              "      <th>3</th>\n",
              "      <td>14.37</td>\n",
              "      <td>1.95</td>\n",
              "      <td>2.50</td>\n",
              "      <td>16.8</td>\n",
              "      <td>113.0</td>\n",
              "      <td>3.85</td>\n",
              "      <td>3.49</td>\n",
              "      <td>0.24</td>\n",
              "      <td>2.18</td>\n",
              "      <td>7.80</td>\n",
              "      <td>0.86</td>\n",
              "      <td>3.45</td>\n",
              "      <td>1480.0</td>\n",
              "    </tr>\n",
              "    <tr>\n",
              "      <th>4</th>\n",
              "      <td>13.24</td>\n",
              "      <td>2.59</td>\n",
              "      <td>2.87</td>\n",
              "      <td>21.0</td>\n",
              "      <td>118.0</td>\n",
              "      <td>2.80</td>\n",
              "      <td>2.69</td>\n",
              "      <td>0.39</td>\n",
              "      <td>1.82</td>\n",
              "      <td>4.32</td>\n",
              "      <td>1.04</td>\n",
              "      <td>2.93</td>\n",
              "      <td>735.0</td>\n",
              "    </tr>\n",
              "    <tr>\n",
              "      <th>...</th>\n",
              "      <td>...</td>\n",
              "      <td>...</td>\n",
              "      <td>...</td>\n",
              "      <td>...</td>\n",
              "      <td>...</td>\n",
              "      <td>...</td>\n",
              "      <td>...</td>\n",
              "      <td>...</td>\n",
              "      <td>...</td>\n",
              "      <td>...</td>\n",
              "      <td>...</td>\n",
              "      <td>...</td>\n",
              "      <td>...</td>\n",
              "    </tr>\n",
              "    <tr>\n",
              "      <th>173</th>\n",
              "      <td>13.71</td>\n",
              "      <td>5.65</td>\n",
              "      <td>2.45</td>\n",
              "      <td>20.5</td>\n",
              "      <td>95.0</td>\n",
              "      <td>1.68</td>\n",
              "      <td>0.61</td>\n",
              "      <td>0.52</td>\n",
              "      <td>1.06</td>\n",
              "      <td>7.70</td>\n",
              "      <td>0.64</td>\n",
              "      <td>1.74</td>\n",
              "      <td>740.0</td>\n",
              "    </tr>\n",
              "    <tr>\n",
              "      <th>174</th>\n",
              "      <td>13.40</td>\n",
              "      <td>3.91</td>\n",
              "      <td>2.48</td>\n",
              "      <td>23.0</td>\n",
              "      <td>102.0</td>\n",
              "      <td>1.80</td>\n",
              "      <td>0.75</td>\n",
              "      <td>0.43</td>\n",
              "      <td>1.41</td>\n",
              "      <td>7.30</td>\n",
              "      <td>0.70</td>\n",
              "      <td>1.56</td>\n",
              "      <td>750.0</td>\n",
              "    </tr>\n",
              "    <tr>\n",
              "      <th>175</th>\n",
              "      <td>13.27</td>\n",
              "      <td>4.28</td>\n",
              "      <td>2.26</td>\n",
              "      <td>20.0</td>\n",
              "      <td>120.0</td>\n",
              "      <td>1.59</td>\n",
              "      <td>0.69</td>\n",
              "      <td>0.43</td>\n",
              "      <td>1.35</td>\n",
              "      <td>10.20</td>\n",
              "      <td>0.59</td>\n",
              "      <td>1.56</td>\n",
              "      <td>835.0</td>\n",
              "    </tr>\n",
              "    <tr>\n",
              "      <th>176</th>\n",
              "      <td>13.17</td>\n",
              "      <td>2.59</td>\n",
              "      <td>2.37</td>\n",
              "      <td>20.0</td>\n",
              "      <td>120.0</td>\n",
              "      <td>1.65</td>\n",
              "      <td>0.68</td>\n",
              "      <td>0.53</td>\n",
              "      <td>1.46</td>\n",
              "      <td>9.30</td>\n",
              "      <td>0.60</td>\n",
              "      <td>1.62</td>\n",
              "      <td>840.0</td>\n",
              "    </tr>\n",
              "    <tr>\n",
              "      <th>177</th>\n",
              "      <td>14.13</td>\n",
              "      <td>4.10</td>\n",
              "      <td>2.74</td>\n",
              "      <td>24.5</td>\n",
              "      <td>96.0</td>\n",
              "      <td>2.05</td>\n",
              "      <td>0.76</td>\n",
              "      <td>0.56</td>\n",
              "      <td>1.35</td>\n",
              "      <td>9.20</td>\n",
              "      <td>0.61</td>\n",
              "      <td>1.60</td>\n",
              "      <td>560.0</td>\n",
              "    </tr>\n",
              "  </tbody>\n",
              "</table>\n",
              "<p>178 rows × 13 columns</p>\n",
              "</div>\n",
              "      <button class=\"colab-df-convert\" onclick=\"convertToInteractive('df-cbcde0a8-d88b-49f0-82e5-07d49bcf733e')\"\n",
              "              title=\"Convert this dataframe to an interactive table.\"\n",
              "              style=\"display:none;\">\n",
              "        \n",
              "  <svg xmlns=\"http://www.w3.org/2000/svg\" height=\"24px\"viewBox=\"0 0 24 24\"\n",
              "       width=\"24px\">\n",
              "    <path d=\"M0 0h24v24H0V0z\" fill=\"none\"/>\n",
              "    <path d=\"M18.56 5.44l.94 2.06.94-2.06 2.06-.94-2.06-.94-.94-2.06-.94 2.06-2.06.94zm-11 1L8.5 8.5l.94-2.06 2.06-.94-2.06-.94L8.5 2.5l-.94 2.06-2.06.94zm10 10l.94 2.06.94-2.06 2.06-.94-2.06-.94-.94-2.06-.94 2.06-2.06.94z\"/><path d=\"M17.41 7.96l-1.37-1.37c-.4-.4-.92-.59-1.43-.59-.52 0-1.04.2-1.43.59L10.3 9.45l-7.72 7.72c-.78.78-.78 2.05 0 2.83L4 21.41c.39.39.9.59 1.41.59.51 0 1.02-.2 1.41-.59l7.78-7.78 2.81-2.81c.8-.78.8-2.07 0-2.86zM5.41 20L4 18.59l7.72-7.72 1.47 1.35L5.41 20z\"/>\n",
              "  </svg>\n",
              "      </button>\n",
              "      \n",
              "  <style>\n",
              "    .colab-df-container {\n",
              "      display:flex;\n",
              "      flex-wrap:wrap;\n",
              "      gap: 12px;\n",
              "    }\n",
              "\n",
              "    .colab-df-convert {\n",
              "      background-color: #E8F0FE;\n",
              "      border: none;\n",
              "      border-radius: 50%;\n",
              "      cursor: pointer;\n",
              "      display: none;\n",
              "      fill: #1967D2;\n",
              "      height: 32px;\n",
              "      padding: 0 0 0 0;\n",
              "      width: 32px;\n",
              "    }\n",
              "\n",
              "    .colab-df-convert:hover {\n",
              "      background-color: #E2EBFA;\n",
              "      box-shadow: 0px 1px 2px rgba(60, 64, 67, 0.3), 0px 1px 3px 1px rgba(60, 64, 67, 0.15);\n",
              "      fill: #174EA6;\n",
              "    }\n",
              "\n",
              "    [theme=dark] .colab-df-convert {\n",
              "      background-color: #3B4455;\n",
              "      fill: #D2E3FC;\n",
              "    }\n",
              "\n",
              "    [theme=dark] .colab-df-convert:hover {\n",
              "      background-color: #434B5C;\n",
              "      box-shadow: 0px 1px 3px 1px rgba(0, 0, 0, 0.15);\n",
              "      filter: drop-shadow(0px 1px 2px rgba(0, 0, 0, 0.3));\n",
              "      fill: #FFFFFF;\n",
              "    }\n",
              "  </style>\n",
              "\n",
              "      <script>\n",
              "        const buttonEl =\n",
              "          document.querySelector('#df-cbcde0a8-d88b-49f0-82e5-07d49bcf733e button.colab-df-convert');\n",
              "        buttonEl.style.display =\n",
              "          google.colab.kernel.accessAllowed ? 'block' : 'none';\n",
              "\n",
              "        async function convertToInteractive(key) {\n",
              "          const element = document.querySelector('#df-cbcde0a8-d88b-49f0-82e5-07d49bcf733e');\n",
              "          const dataTable =\n",
              "            await google.colab.kernel.invokeFunction('convertToInteractive',\n",
              "                                                     [key], {});\n",
              "          if (!dataTable) return;\n",
              "\n",
              "          const docLinkHtml = 'Like what you see? Visit the ' +\n",
              "            '<a target=\"_blank\" href=https://colab.research.google.com/notebooks/data_table.ipynb>data table notebook</a>'\n",
              "            + ' to learn more about interactive tables.';\n",
              "          element.innerHTML = '';\n",
              "          dataTable['output_type'] = 'display_data';\n",
              "          await google.colab.output.renderOutput(dataTable, element);\n",
              "          const docLink = document.createElement('div');\n",
              "          docLink.innerHTML = docLinkHtml;\n",
              "          element.appendChild(docLink);\n",
              "        }\n",
              "      </script>\n",
              "    </div>\n",
              "  </div>\n",
              "  "
            ]
          },
          "metadata": {},
          "execution_count": 8
        }
      ]
    },
    {
      "cell_type": "code",
      "source": [
        "CustomScaler().fit_transform(wine_data)"
      ],
      "metadata": {
        "colab": {
          "base_uri": "https://localhost:8080/",
          "height": 488
        },
        "id": "Bz7d7FgJtx_k",
        "outputId": "611a4156-da22-4322-8706-828e47116c80"
      },
      "execution_count": 9,
      "outputs": [
        {
          "output_type": "execute_result",
          "data": {
            "text/plain": [
              "      alcohol  malic_acid       ash  alcalinity_of_ash  magnesium  \\\n",
              "0    1.518613   -0.562250  0.232053          -1.169593   1.913905   \n",
              "1    0.246290   -0.499413 -0.827996          -2.490847   0.018145   \n",
              "2    0.196879    0.021231  1.109334          -0.268738   0.088358   \n",
              "3    1.691550   -0.346811  0.487926          -0.809251   0.930918   \n",
              "4    0.295700    0.227694  1.840403           0.451946   1.281985   \n",
              "..        ...         ...       ...                ...        ...   \n",
              "173  0.876275    2.974543  0.305159           0.301803  -0.332922   \n",
              "174  0.493343    1.412609  0.414820           1.052516   0.158572   \n",
              "175  0.332758    1.744744 -0.389355           0.151661   1.422412   \n",
              "176  0.209232    0.227694  0.012732           0.151661   1.422412   \n",
              "177  1.395086    1.583165  1.365208           1.502943  -0.262708   \n",
              "\n",
              "     total_phenols  flavanoids  nonflavanoid_phenols  proanthocyanins  \\\n",
              "0         0.808997    1.034819             -0.659563         1.224884   \n",
              "1         0.568648    0.733629             -0.820719        -0.544721   \n",
              "2         0.808997    1.215533             -0.498407         2.135968   \n",
              "3         2.491446    1.466525             -0.981875         1.032155   \n",
              "4         0.808997    0.663351              0.226796         0.401404   \n",
              "..             ...         ...                   ...              ...   \n",
              "173      -0.985614   -1.424900              1.274310        -0.930179   \n",
              "174      -0.793334   -1.284344              0.549108        -0.316950   \n",
              "175      -1.129824   -1.344582              0.549108        -0.422075   \n",
              "176      -1.033684   -1.354622              1.354888        -0.229346   \n",
              "177      -0.392751   -1.274305              1.596623        -0.422075   \n",
              "\n",
              "     color_intensity       hue  od280/od315_of_diluted_wines   proline  \n",
              "0           0.251717  0.362177                      1.847920  1.013009  \n",
              "1          -0.293321  0.406051                      1.113449  0.965242  \n",
              "2           0.269020  0.318304                      0.788587  1.395148  \n",
              "3           1.186068 -0.427544                      1.184071  2.334574  \n",
              "4          -0.319276  0.362177                      0.449601 -0.037874  \n",
              "..               ...       ...                           ...       ...  \n",
              "173         1.142811 -1.392758                     -1.231206 -0.021952  \n",
              "174         0.969783 -1.129518                     -1.485445  0.009893  \n",
              "175         2.224236 -1.612125                     -1.485445  0.280575  \n",
              "176         1.834923 -1.568252                     -1.400699  0.296498  \n",
              "177         1.791666 -1.524378                     -1.428948 -0.595160  \n",
              "\n",
              "[178 rows x 13 columns]"
            ],
            "text/html": [
              "\n",
              "  <div id=\"df-9db617a7-0952-4cc1-b1cd-339b69ac4663\">\n",
              "    <div class=\"colab-df-container\">\n",
              "      <div>\n",
              "<style scoped>\n",
              "    .dataframe tbody tr th:only-of-type {\n",
              "        vertical-align: middle;\n",
              "    }\n",
              "\n",
              "    .dataframe tbody tr th {\n",
              "        vertical-align: top;\n",
              "    }\n",
              "\n",
              "    .dataframe thead th {\n",
              "        text-align: right;\n",
              "    }\n",
              "</style>\n",
              "<table border=\"1\" class=\"dataframe\">\n",
              "  <thead>\n",
              "    <tr style=\"text-align: right;\">\n",
              "      <th></th>\n",
              "      <th>alcohol</th>\n",
              "      <th>malic_acid</th>\n",
              "      <th>ash</th>\n",
              "      <th>alcalinity_of_ash</th>\n",
              "      <th>magnesium</th>\n",
              "      <th>total_phenols</th>\n",
              "      <th>flavanoids</th>\n",
              "      <th>nonflavanoid_phenols</th>\n",
              "      <th>proanthocyanins</th>\n",
              "      <th>color_intensity</th>\n",
              "      <th>hue</th>\n",
              "      <th>od280/od315_of_diluted_wines</th>\n",
              "      <th>proline</th>\n",
              "    </tr>\n",
              "  </thead>\n",
              "  <tbody>\n",
              "    <tr>\n",
              "      <th>0</th>\n",
              "      <td>1.518613</td>\n",
              "      <td>-0.562250</td>\n",
              "      <td>0.232053</td>\n",
              "      <td>-1.169593</td>\n",
              "      <td>1.913905</td>\n",
              "      <td>0.808997</td>\n",
              "      <td>1.034819</td>\n",
              "      <td>-0.659563</td>\n",
              "      <td>1.224884</td>\n",
              "      <td>0.251717</td>\n",
              "      <td>0.362177</td>\n",
              "      <td>1.847920</td>\n",
              "      <td>1.013009</td>\n",
              "    </tr>\n",
              "    <tr>\n",
              "      <th>1</th>\n",
              "      <td>0.246290</td>\n",
              "      <td>-0.499413</td>\n",
              "      <td>-0.827996</td>\n",
              "      <td>-2.490847</td>\n",
              "      <td>0.018145</td>\n",
              "      <td>0.568648</td>\n",
              "      <td>0.733629</td>\n",
              "      <td>-0.820719</td>\n",
              "      <td>-0.544721</td>\n",
              "      <td>-0.293321</td>\n",
              "      <td>0.406051</td>\n",
              "      <td>1.113449</td>\n",
              "      <td>0.965242</td>\n",
              "    </tr>\n",
              "    <tr>\n",
              "      <th>2</th>\n",
              "      <td>0.196879</td>\n",
              "      <td>0.021231</td>\n",
              "      <td>1.109334</td>\n",
              "      <td>-0.268738</td>\n",
              "      <td>0.088358</td>\n",
              "      <td>0.808997</td>\n",
              "      <td>1.215533</td>\n",
              "      <td>-0.498407</td>\n",
              "      <td>2.135968</td>\n",
              "      <td>0.269020</td>\n",
              "      <td>0.318304</td>\n",
              "      <td>0.788587</td>\n",
              "      <td>1.395148</td>\n",
              "    </tr>\n",
              "    <tr>\n",
              "      <th>3</th>\n",
              "      <td>1.691550</td>\n",
              "      <td>-0.346811</td>\n",
              "      <td>0.487926</td>\n",
              "      <td>-0.809251</td>\n",
              "      <td>0.930918</td>\n",
              "      <td>2.491446</td>\n",
              "      <td>1.466525</td>\n",
              "      <td>-0.981875</td>\n",
              "      <td>1.032155</td>\n",
              "      <td>1.186068</td>\n",
              "      <td>-0.427544</td>\n",
              "      <td>1.184071</td>\n",
              "      <td>2.334574</td>\n",
              "    </tr>\n",
              "    <tr>\n",
              "      <th>4</th>\n",
              "      <td>0.295700</td>\n",
              "      <td>0.227694</td>\n",
              "      <td>1.840403</td>\n",
              "      <td>0.451946</td>\n",
              "      <td>1.281985</td>\n",
              "      <td>0.808997</td>\n",
              "      <td>0.663351</td>\n",
              "      <td>0.226796</td>\n",
              "      <td>0.401404</td>\n",
              "      <td>-0.319276</td>\n",
              "      <td>0.362177</td>\n",
              "      <td>0.449601</td>\n",
              "      <td>-0.037874</td>\n",
              "    </tr>\n",
              "    <tr>\n",
              "      <th>...</th>\n",
              "      <td>...</td>\n",
              "      <td>...</td>\n",
              "      <td>...</td>\n",
              "      <td>...</td>\n",
              "      <td>...</td>\n",
              "      <td>...</td>\n",
              "      <td>...</td>\n",
              "      <td>...</td>\n",
              "      <td>...</td>\n",
              "      <td>...</td>\n",
              "      <td>...</td>\n",
              "      <td>...</td>\n",
              "      <td>...</td>\n",
              "    </tr>\n",
              "    <tr>\n",
              "      <th>173</th>\n",
              "      <td>0.876275</td>\n",
              "      <td>2.974543</td>\n",
              "      <td>0.305159</td>\n",
              "      <td>0.301803</td>\n",
              "      <td>-0.332922</td>\n",
              "      <td>-0.985614</td>\n",
              "      <td>-1.424900</td>\n",
              "      <td>1.274310</td>\n",
              "      <td>-0.930179</td>\n",
              "      <td>1.142811</td>\n",
              "      <td>-1.392758</td>\n",
              "      <td>-1.231206</td>\n",
              "      <td>-0.021952</td>\n",
              "    </tr>\n",
              "    <tr>\n",
              "      <th>174</th>\n",
              "      <td>0.493343</td>\n",
              "      <td>1.412609</td>\n",
              "      <td>0.414820</td>\n",
              "      <td>1.052516</td>\n",
              "      <td>0.158572</td>\n",
              "      <td>-0.793334</td>\n",
              "      <td>-1.284344</td>\n",
              "      <td>0.549108</td>\n",
              "      <td>-0.316950</td>\n",
              "      <td>0.969783</td>\n",
              "      <td>-1.129518</td>\n",
              "      <td>-1.485445</td>\n",
              "      <td>0.009893</td>\n",
              "    </tr>\n",
              "    <tr>\n",
              "      <th>175</th>\n",
              "      <td>0.332758</td>\n",
              "      <td>1.744744</td>\n",
              "      <td>-0.389355</td>\n",
              "      <td>0.151661</td>\n",
              "      <td>1.422412</td>\n",
              "      <td>-1.129824</td>\n",
              "      <td>-1.344582</td>\n",
              "      <td>0.549108</td>\n",
              "      <td>-0.422075</td>\n",
              "      <td>2.224236</td>\n",
              "      <td>-1.612125</td>\n",
              "      <td>-1.485445</td>\n",
              "      <td>0.280575</td>\n",
              "    </tr>\n",
              "    <tr>\n",
              "      <th>176</th>\n",
              "      <td>0.209232</td>\n",
              "      <td>0.227694</td>\n",
              "      <td>0.012732</td>\n",
              "      <td>0.151661</td>\n",
              "      <td>1.422412</td>\n",
              "      <td>-1.033684</td>\n",
              "      <td>-1.354622</td>\n",
              "      <td>1.354888</td>\n",
              "      <td>-0.229346</td>\n",
              "      <td>1.834923</td>\n",
              "      <td>-1.568252</td>\n",
              "      <td>-1.400699</td>\n",
              "      <td>0.296498</td>\n",
              "    </tr>\n",
              "    <tr>\n",
              "      <th>177</th>\n",
              "      <td>1.395086</td>\n",
              "      <td>1.583165</td>\n",
              "      <td>1.365208</td>\n",
              "      <td>1.502943</td>\n",
              "      <td>-0.262708</td>\n",
              "      <td>-0.392751</td>\n",
              "      <td>-1.274305</td>\n",
              "      <td>1.596623</td>\n",
              "      <td>-0.422075</td>\n",
              "      <td>1.791666</td>\n",
              "      <td>-1.524378</td>\n",
              "      <td>-1.428948</td>\n",
              "      <td>-0.595160</td>\n",
              "    </tr>\n",
              "  </tbody>\n",
              "</table>\n",
              "<p>178 rows × 13 columns</p>\n",
              "</div>\n",
              "      <button class=\"colab-df-convert\" onclick=\"convertToInteractive('df-9db617a7-0952-4cc1-b1cd-339b69ac4663')\"\n",
              "              title=\"Convert this dataframe to an interactive table.\"\n",
              "              style=\"display:none;\">\n",
              "        \n",
              "  <svg xmlns=\"http://www.w3.org/2000/svg\" height=\"24px\"viewBox=\"0 0 24 24\"\n",
              "       width=\"24px\">\n",
              "    <path d=\"M0 0h24v24H0V0z\" fill=\"none\"/>\n",
              "    <path d=\"M18.56 5.44l.94 2.06.94-2.06 2.06-.94-2.06-.94-.94-2.06-.94 2.06-2.06.94zm-11 1L8.5 8.5l.94-2.06 2.06-.94-2.06-.94L8.5 2.5l-.94 2.06-2.06.94zm10 10l.94 2.06.94-2.06 2.06-.94-2.06-.94-.94-2.06-.94 2.06-2.06.94z\"/><path d=\"M17.41 7.96l-1.37-1.37c-.4-.4-.92-.59-1.43-.59-.52 0-1.04.2-1.43.59L10.3 9.45l-7.72 7.72c-.78.78-.78 2.05 0 2.83L4 21.41c.39.39.9.59 1.41.59.51 0 1.02-.2 1.41-.59l7.78-7.78 2.81-2.81c.8-.78.8-2.07 0-2.86zM5.41 20L4 18.59l7.72-7.72 1.47 1.35L5.41 20z\"/>\n",
              "  </svg>\n",
              "      </button>\n",
              "      \n",
              "  <style>\n",
              "    .colab-df-container {\n",
              "      display:flex;\n",
              "      flex-wrap:wrap;\n",
              "      gap: 12px;\n",
              "    }\n",
              "\n",
              "    .colab-df-convert {\n",
              "      background-color: #E8F0FE;\n",
              "      border: none;\n",
              "      border-radius: 50%;\n",
              "      cursor: pointer;\n",
              "      display: none;\n",
              "      fill: #1967D2;\n",
              "      height: 32px;\n",
              "      padding: 0 0 0 0;\n",
              "      width: 32px;\n",
              "    }\n",
              "\n",
              "    .colab-df-convert:hover {\n",
              "      background-color: #E2EBFA;\n",
              "      box-shadow: 0px 1px 2px rgba(60, 64, 67, 0.3), 0px 1px 3px 1px rgba(60, 64, 67, 0.15);\n",
              "      fill: #174EA6;\n",
              "    }\n",
              "\n",
              "    [theme=dark] .colab-df-convert {\n",
              "      background-color: #3B4455;\n",
              "      fill: #D2E3FC;\n",
              "    }\n",
              "\n",
              "    [theme=dark] .colab-df-convert:hover {\n",
              "      background-color: #434B5C;\n",
              "      box-shadow: 0px 1px 3px 1px rgba(0, 0, 0, 0.15);\n",
              "      filter: drop-shadow(0px 1px 2px rgba(0, 0, 0, 0.3));\n",
              "      fill: #FFFFFF;\n",
              "    }\n",
              "  </style>\n",
              "\n",
              "      <script>\n",
              "        const buttonEl =\n",
              "          document.querySelector('#df-9db617a7-0952-4cc1-b1cd-339b69ac4663 button.colab-df-convert');\n",
              "        buttonEl.style.display =\n",
              "          google.colab.kernel.accessAllowed ? 'block' : 'none';\n",
              "\n",
              "        async function convertToInteractive(key) {\n",
              "          const element = document.querySelector('#df-9db617a7-0952-4cc1-b1cd-339b69ac4663');\n",
              "          const dataTable =\n",
              "            await google.colab.kernel.invokeFunction('convertToInteractive',\n",
              "                                                     [key], {});\n",
              "          if (!dataTable) return;\n",
              "\n",
              "          const docLinkHtml = 'Like what you see? Visit the ' +\n",
              "            '<a target=\"_blank\" href=https://colab.research.google.com/notebooks/data_table.ipynb>data table notebook</a>'\n",
              "            + ' to learn more about interactive tables.';\n",
              "          element.innerHTML = '';\n",
              "          dataTable['output_type'] = 'display_data';\n",
              "          await google.colab.output.renderOutput(dataTable, element);\n",
              "          const docLink = document.createElement('div');\n",
              "          docLink.innerHTML = docLinkHtml;\n",
              "          element.appendChild(docLink);\n",
              "        }\n",
              "      </script>\n",
              "    </div>\n",
              "  </div>\n",
              "  "
            ]
          },
          "metadata": {},
          "execution_count": 9
        }
      ]
    },
    {
      "cell_type": "code",
      "execution_count": 10,
      "metadata": {
        "id": "mwauon-TDMiY"
      },
      "outputs": [],
      "source": [
        "assert np.allclose(CustomScaler().fit_transform(wine_data), StandardScaler().fit_transform(wine_data))"
      ]
    },
    {
      "cell_type": "markdown",
      "metadata": {
        "id": "dGXBtig1DMiY"
      },
      "source": [
        "## Exercise  2 - Visualization (3 points)"
      ]
    },
    {
      "cell_type": "markdown",
      "metadata": {
        "id": "lHCUTirPDMiY"
      },
      "source": [
        "As noted earlier, standardization/normalization of data can be crucial for some distance-based ML methods.\n",
        "\n",
        "Let’s generate some toy example of unnormalized data and visualize the importance of this process once more:"
      ]
    },
    {
      "cell_type": "code",
      "execution_count": 11,
      "metadata": {
        "colab": {
          "base_uri": "https://localhost:8080/"
        },
        "id": "PMPAksJADMiY",
        "outputId": "323c70d9-22b3-4a12-bf93-b442f11ee652"
      },
      "outputs": [
        {
          "output_type": "execute_result",
          "data": {
            "text/plain": [
              "array([[  2.06034093,   0.76760459],\n",
              "       [-15.32691007,   0.86713509],\n",
              "       [  3.68246582,  -1.78267599],\n",
              "       ...,\n",
              "       [ -4.14017586,   5.40159207],\n",
              "       [ -1.28509137,   5.42043422],\n",
              "       [-28.02636413,   5.68694938]])"
            ]
          },
          "metadata": {},
          "execution_count": 11
        }
      ],
      "source": [
        "feature_0 = np.random.randn(1000) * 10   \n",
        "feature_1 = np.concatenate([np.random.randn(500), np.random.randn(500) + 5])\n",
        "data = np.column_stack([feature_0, feature_1])\n",
        "data "
      ]
    },
    {
      "cell_type": "code",
      "execution_count": 12,
      "metadata": {
        "colab": {
          "base_uri": "https://localhost:8080/",
          "height": 277
        },
        "id": "9O8vVph2DMiZ",
        "outputId": "8e3a0c0a-0614-4ff2-c2db-ca5343f02f0b"
      },
      "outputs": [
        {
          "output_type": "display_data",
          "data": {
            "text/plain": [
              "<Figure size 288x288 with 1 Axes>"
            ],
            "image/png": "[encoded data removed]"
          },
          "metadata": {}
        }
      ],
      "source": [
        "plot_scatter(data[:, 0], data[:, 1], auto_scaled=True, title='Data (different axes units!)')"
      ]
    },
    {
      "cell_type": "markdown",
      "metadata": {
        "id": "-pw9DIfvDMiZ"
      },
      "source": [
        "**NOTE:** on the plot above axes are scaled differently and we can clearly see two potential *classes/clusters*. In fact `matplotlib` performed `autoscaling` (which is basically can be considered as `MinMaxScaling` of original data) just for better visualization purposes.\n",
        "\n",
        "Let's turn this feature off and visualize the original data on the plot with equally scaled axes:"
      ]
    },
    {
      "cell_type": "code",
      "execution_count": 13,
      "metadata": {
        "colab": {
          "base_uri": "https://localhost:8080/",
          "height": 277
        },
        "id": "a6NahWQGDMia",
        "outputId": "6e45cfac-5847-404a-861b-47f8ac350884"
      },
      "outputs": [
        {
          "output_type": "display_data",
          "data": {
            "text/plain": [
              "<Figure size 288x288 with 1 Axes>"
            ],
            "image/png": "[encoded data removed]"
          },
          "metadata": {}
        }
      ],
      "source": [
        "plot_scatter(data[:, 0], data[:, 1], auto_scaled=False , title='Data (equal axes units!)')"
      ]
    },
    {
      "cell_type": "markdown",
      "metadata": {
        "id": "uMBHJsyYDMia"
      },
      "source": [
        "This picture is clearly less interpretable, but much closer to \"how distance-based algorithm see the original data\": separability of data is hardly noticable only because the variation (std) of x-feature is much bigger in absolute numbers."
      ]
    },
    {
      "cell_type": "markdown",
      "metadata": {
        "id": "cDkQlYkzDMia"
      },
      "source": [
        "Perform `StandardScaling` and `MinMaxScaling` of original data; visualize results for each case (**use `plot_scatter` with `auto_scaled=False`**):"
      ]
    },
    {
      "cell_type": "markdown",
      "metadata": {
        "id": "rdzRYaYwDMia"
      },
      "source": [
        "### MinMaxScaling (0.5 point)"
      ]
    },
    {
      "cell_type": "code",
      "execution_count": 14,
      "metadata": {
        "colab": {
          "base_uri": "https://localhost:8080/",
          "height": 277
        },
        "id": "4t7lDhtlDMib",
        "outputId": "26a5dd70-568b-4048-fd8d-b4ef89097233"
      },
      "outputs": [
        {
          "output_type": "display_data",
          "data": {
            "text/plain": [
              "<Figure size 288x288 with 1 Axes>"
            ],
            "image/png": "[encoded data removed]"
          },
          "metadata": {}
        }
      ],
      "source": [
        "## your code\n",
        "minmax = MinMaxScaler().fit_transform(data)\n",
        "plot_scatter(minmax[:, 0], minmax[:, 1], auto_scaled=False, title='MinMaxScaling')"
      ]
    },
    {
      "cell_type": "markdown",
      "metadata": {
        "id": "cwVRJgqnDMib"
      },
      "source": [
        "### StandardScaler (0.5 point)"
      ]
    },
    {
      "cell_type": "code",
      "execution_count": 15,
      "metadata": {
        "colab": {
          "base_uri": "https://localhost:8080/",
          "height": 277
        },
        "id": "Kn5NoTOmDMib",
        "outputId": "f1e8b4b6-cb79-4c62-ad18-5365a15ee947"
      },
      "outputs": [
        {
          "output_type": "display_data",
          "data": {
            "text/plain": [
              "<Figure size 288x288 with 1 Axes>"
            ],
            "image/png": "[encoded data removed]"
          },
          "metadata": {}
        }
      ],
      "source": [
        "## your code\n",
        "standard = StandardScaler().fit_transform(data)\n",
        "plot_scatter(standard[:, 0], standard[:, 1], auto_scaled=False, title='StandardScaler')"
      ]
    },
    {
      "cell_type": "markdown",
      "metadata": {
        "id": "cjd8UkZvDMib"
      },
      "source": [
        "### (Bonus) K-means (2 points)"
      ]
    },
    {
      "cell_type": "markdown",
      "metadata": {
        "id": "fALbjqJwDMib"
      },
      "source": [
        "Illustrate the impact of scaling on basic distance-based clustering algorithm [K-means](https://towardsdatascience.com/understanding-k-means-clustering-in-machine-learning-6a6e67336aa1) using `data` generated above.\n",
        "\n",
        "**NOTE:** basically, you don't need understanding K-means algorithm here, you just need to:\n",
        "\n",
        "1) run algorithm (with k=2, k - number of clusters/classes) on unscaled data    \n",
        "2) run algorithm (with k=2) on scaled data    \n",
        "3) plot results: highlight different clusters using different colors.\n",
        "\n",
        "You can use this [question](https://stats.stackexchange.com/questions/89809/is-it-important-to-scale-data-before-clustering/89813) as a hint, but I recommend you to plot results using `plot_scatter` with `equal_scaled=True`: it might help you to intuitively understand the reasons of such scaling impact.\n"
      ]
    },
    {
      "cell_type": "code",
      "execution_count": 16,
      "metadata": {
        "colab": {
          "base_uri": "https://localhost:8080/",
          "height": 537
        },
        "id": "Guo9m9oBDMic",
        "outputId": "94429a60-e214-40f3-e611-5e0a55d08353"
      },
      "outputs": [
        {
          "output_type": "display_data",
          "data": {
            "text/plain": [
              "<Figure size 288x288 with 1 Axes>"
            ],
            "image/png": "[encoded data removed]"
          },
          "metadata": {}
        },
        {
          "output_type": "display_data",
          "data": {
            "text/plain": [
              "<Figure size 288x288 with 1 Axes>"
            ],
            "image/png": "[encoded data removed]"
          },
          "metadata": {}
        }
      ],
      "source": [
        "## your code\n",
        "from sklearn.cluster import KMeans\n",
        "\n",
        "unscaled_knn=KMeans(n_clusters=2).fit_predict(data)\n",
        "plot_scatter(data[:, 0], data[:, 1], clusters=unscaled_knn, auto_scaled=False , title='Unscaled with k=2')\n",
        "plot_scatter(data[:, 0], data[:, 1], clusters=unscaled_knn, auto_scaled=True , title='Unscaled with k=2')"
      ]
    },
    {
      "cell_type": "code",
      "source": [
        "minmax_knn=KMeans(n_clusters=2).fit_predict(minmax)\n",
        "plot_scatter(minmax[:, 0], minmax[:, 1], clusters=minmax_knn, auto_scaled=False , title='MinMax with k=2')"
      ],
      "metadata": {
        "colab": {
          "base_uri": "https://localhost:8080/",
          "height": 277
        },
        "id": "zE_9kjeazaP_",
        "outputId": "79986bd2-f248-4d52-d09c-bb4fe788c809"
      },
      "execution_count": 17,
      "outputs": [
        {
          "output_type": "display_data",
          "data": {
            "text/plain": [
              "<Figure size 288x288 with 1 Axes>"
            ],
            "image/png": "[encoded data removed]"
          },
          "metadata": {}
        }
      ]
    },
    {
      "cell_type": "code",
      "source": [
        "standard_knn=KMeans(n_clusters=2).fit_predict(standard)\n",
        "plot_scatter(standard[:, 0], standard[:, 1], clusters=standard_knn, auto_scaled=False , title='Standart with k=2')"
      ],
      "metadata": {
        "colab": {
          "base_uri": "https://localhost:8080/",
          "height": 277
        },
        "id": "00jxPBIkzcb8",
        "outputId": "e3adadab-b051-4e4f-fb0d-e7afbe4be529"
      },
      "execution_count": 18,
      "outputs": [
        {
          "output_type": "display_data",
          "data": {
            "text/plain": [
              "<Figure size 288x288 with 1 Axes>"
            ],
            "image/png": "[encoded data removed]"
          },
          "metadata": {}
        }
      ]
    },
    {
      "cell_type": "markdown",
      "metadata": {
        "id": "jG4TiHN8DMic"
      },
      "source": [
        "## Exercise  3 - Preprocessing Pipeline (2 points)"
      ]
    },
    {
      "cell_type": "code",
      "execution_count": 19,
      "metadata": {
        "id": "Adw35k5EDMic"
      },
      "outputs": [],
      "source": [
        "wine_train, wine_val, wine_labels_train, wine_labels_val = train_test_split(wine_data, wine_labels, \n",
        "                                                                            test_size=0.3, random_state=42)"
      ]
    },
    {
      "cell_type": "markdown",
      "metadata": {
        "id": "oxc7_Bd3DMic"
      },
      "source": [
        "Train model (for example, `LogisticRegression(solver='liblinear', penalty='l1')` on raw `wine_train` data; then train same model after data scaling; then add feature selection (and train model again on scaled data). For each experiment all required preprocessing steps (if any) should be wrapped into sklearn pipeline.\n",
        "\n",
        "Measure `accuracy` of all 3 approaches on `wine_val` dataset. Describe and explain results."
      ]
    },
    {
      "cell_type": "code",
      "execution_count": 20,
      "metadata": {
        "colab": {
          "base_uri": "https://localhost:8080/"
        },
        "id": "hO2i_IvBDMid",
        "outputId": "3285dcae-199d-4410-f944-31b04e9c0518"
      },
      "outputs": [
        {
          "output_type": "stream",
          "name": "stdout",
          "text": [
            "22\n"
          ]
        },
        {
          "output_type": "execute_result",
          "data": {
            "text/plain": [
              "array([[-0.23,  0.36,  0.35, -0.52, -0.04,  0.  ,  2.15,  0.  ,  0.  ,\n",
              "         0.  ,  0.  ,  0.  ,  0.01],\n",
              "       [ 0.79, -0.92,  0.  ,  0.24,  0.01,  0.  ,  0.4 ,  0.  ,  0.8 ,\n",
              "        -1.92,  0.  ,  0.11, -0.01],\n",
              "       [ 0.  ,  0.26,  0.  ,  0.05,  0.01,  0.  , -2.82,  0.  ,  0.  ,\n",
              "         0.94,  0.  , -1.68, -0.  ]])"
            ]
          },
          "metadata": {},
          "execution_count": 20
        }
      ],
      "source": [
        "## your code\n",
        "#Train model on raw wine_train data\n",
        "model_lr = LogisticRegression(solver='liblinear', penalty='l1')\n",
        "model_lr.fit(wine_train, wine_labels_train)\n",
        "\n",
        "log_reg_acc=accuracy_score(wine_labels_val, model_lr.predict(wine_val))\n",
        "print(np.count_nonzero(model_lr.coef_.round(2)))\n",
        "model_lr.coef_.round(2)"
      ]
    },
    {
      "cell_type": "code",
      "source": [
        "#train same model after data scaling\n",
        "scaled_pip = Pipeline([\n",
        "    (\"MinMax_sca\", MinMaxScaler()),\n",
        "    (\"Log_Reg\", model_lr)\n",
        "])\n",
        "scaled_pip.fit(wine_train,wine_labels_train)\n",
        "scaled_log_reg_acc=accuracy_score(wine_labels_val, scaled_pip.predict(wine_val))\n",
        "print(np.count_nonzero(scaled_pip[\"Log_Reg\"].coef_))\n",
        "scaled_pip[\"Log_Reg\"].coef_"
      ],
      "metadata": {
        "colab": {
          "base_uri": "https://localhost:8080/"
        },
        "id": "zd1YDf815vHd",
        "outputId": "1fc383a5-c156-4785-b6d5-de78b75e2416"
      },
      "execution_count": 21,
      "outputs": [
        {
          "output_type": "stream",
          "name": "stdout",
          "text": [
            "16\n"
          ]
        },
        {
          "output_type": "execute_result",
          "data": {
            "text/plain": [
              "array([[ 1.7864868 ,  0.        ,  0.        , -3.33425322,  0.        ,\n",
              "         0.        ,  3.14862786,  0.        ,  0.        ,  0.        ,\n",
              "         0.        ,  0.99441282,  5.88164387],\n",
              "       [-3.3860529 ,  0.        ,  0.        ,  0.44137184,  0.        ,\n",
              "         0.        ,  0.        ,  0.        ,  0.32932207, -5.70349378,\n",
              "         2.71483341,  0.57672513, -4.1328275 ],\n",
              "       [ 0.        ,  1.69813351,  0.        ,  0.        ,  0.        ,\n",
              "         0.        , -4.05630484,  0.        ,  0.        ,  3.97590531,\n",
              "         0.        , -5.30191756,  0.        ]])"
            ]
          },
          "metadata": {},
          "execution_count": 21
        }
      ]
    },
    {
      "cell_type": "code",
      "source": [
        "#add feature selection (and train model again on scaled data)\n",
        "fs_scaled_pip = Pipeline([\n",
        "    (\"FS_Var_Tresh\",VarianceThreshold(0.1)),\n",
        "    (\"MinMax_sca\", MinMaxScaler()),\n",
        "    (\"Log_Reg\", model_lr)\n",
        "])\n",
        "fs_scaled_pip.fit(wine_train,wine_labels_train)\n",
        "fs_scaled_log_reg_acc=accuracy_score(wine_labels_val, fs_scaled_pip.predict(wine_val))\n",
        "print(np.count_nonzero(fs_scaled_pip[\"Log_Reg\"].coef_))\n",
        "fs_scaled_pip[\"Log_Reg\"].coef_"
      ],
      "metadata": {
        "colab": {
          "base_uri": "https://localhost:8080/"
        },
        "id": "OPJMrRQ_7IXA",
        "outputId": "5ea58466-5747-4e2c-ad96-72b16a98f60f"
      },
      "execution_count": 22,
      "outputs": [
        {
          "output_type": "stream",
          "name": "stdout",
          "text": [
            "16\n"
          ]
        },
        {
          "output_type": "execute_result",
          "data": {
            "text/plain": [
              "array([[ 1.78639805,  0.        , -3.33411712,  0.        ,  0.        ,\n",
              "         3.14839239,  0.        ,  0.        ,  0.99455702,  5.88149367],\n",
              "       [-2.8935413 , -0.59711684,  0.53808492,  0.        ,  0.        ,\n",
              "         0.        ,  0.34623469, -6.78267333,  1.02460423, -3.83879314],\n",
              "       [ 0.        ,  1.70201571,  0.        ,  0.        ,  0.        ,\n",
              "        -4.04917925,  0.        ,  3.97176773, -5.30846985,  0.        ]])"
            ]
          },
          "metadata": {},
          "execution_count": 22
        }
      ]
    },
    {
      "cell_type": "code",
      "source": [
        "print(log_reg_acc,scaled_log_reg_acc,fs_scaled_log_reg_acc)"
      ],
      "metadata": {
        "colab": {
          "base_uri": "https://localhost:8080/"
        },
        "id": "pq_kIvv18W9O",
        "outputId": "4d3fc646-3716-471f-9897-3ed055b1ea71"
      },
      "execution_count": 23,
      "outputs": [
        {
          "output_type": "stream",
          "name": "stdout",
          "text": [
            "0.9814814814814815 1.0 0.9814814814814815\n"
          ]
        }
      ]
    },
    {
      "cell_type": "markdown",
      "source": [
        "In general, it can be seen that after MinMaxScaler, the accuracy of the model has improved. Also, Lasso regression nullified more coefficients after Scaling and Feature Selection."
      ],
      "metadata": {
        "id": "qFrN8O2O_Pbg"
      }
    },
    {
      "cell_type": "markdown",
      "metadata": {
        "id": "jfvpsiEHDMid"
      },
      "source": [
        "## Exercise 4 - manual PCA (5 points)\n",
        "The task is to solve PCA as an optimization problem, without explicitly doing eigen value decomposition.\n",
        "In the most general setting PCA is minimization of reconstruction error of a projection of given rank $q$\n",
        "\n",
        "$$\\min_{\\mu, \\lambda_1,\\ldots, \\lambda_n, \\mathbf{V}_q} \\sum_{i=1}^n ||x_i - \\mu - \\mathbf{V}_q \\lambda_i||^2$$\n",
        "\n",
        "With a number of steps that can be found here https://stats.stackexchange.com/a/10260 this task transforms to\n",
        " $$\\max_{u_i} \\sum_{i=1}^q u_i^T \\mathbf{S} u_i$$\n",
        " where $\\mathbf{S}$ is the sample covariance matrix (after standartization) and $u_1, \\ldots, u_q$ are the $q$ are orthonormal columns in $\\mathbf{V}_q$.\n",
        " Let us solve this optimization problem with `scipy.optimize` library.\n",
        " \n",
        " Additional 2 point are given for visualization of the results."
      ]
    },
    {
      "cell_type": "markdown",
      "metadata": {
        "id": "Ch5uIKc6DMid"
      },
      "source": [
        "### PCA (3 points)"
      ]
    },
    {
      "cell_type": "code",
      "execution_count": 24,
      "metadata": {
        "id": "qbBaVrEUDMid"
      },
      "outputs": [],
      "source": [
        "wine_data, wine_labels = wine_sklearn['data'], wine_sklearn['target']"
      ]
    },
    {
      "cell_type": "markdown",
      "metadata": {
        "id": "5qXiGNeVDMie"
      },
      "source": [
        "Find a covariance matrix of standartized data and assing it to S."
      ]
    },
    {
      "cell_type": "code",
      "execution_count": 25,
      "metadata": {
        "id": "sWUZq39RDMie"
      },
      "outputs": [],
      "source": [
        "## your code\n",
        "standard = StandardScaler()\n",
        "wine_data_sca = standard.fit_transform(wine_data)\n",
        "S = pd.DataFrame(wine_data_sca).cov().values"
      ]
    },
    {
      "cell_type": "code",
      "source": [
        "np.linalg.norm(S)"
      ],
      "metadata": {
        "colab": {
          "base_uri": "https://localhost:8080/"
        },
        "id": "J4NPgdoBA_kp",
        "outputId": "8eb62835-2ca1-4baa-c97c-7b3a67988942"
      },
      "execution_count": 26,
      "outputs": [
        {
          "output_type": "execute_result",
          "data": {
            "text/plain": [
              "5.787241159764734"
            ]
          },
          "metadata": {},
          "execution_count": 26
        }
      ]
    },
    {
      "cell_type": "markdown",
      "metadata": {
        "id": "kZoP9yo9DMie"
      },
      "source": [
        "If your code is correct, the following assert should be Ok."
      ]
    },
    {
      "cell_type": "code",
      "execution_count": 27,
      "metadata": {
        "id": "rtSNgRi4DMie"
      },
      "outputs": [],
      "source": [
        "assert np.allclose(np.linalg.norm(S), 5.787241159764733)"
      ]
    },
    {
      "cell_type": "code",
      "execution_count": 28,
      "metadata": {
        "id": "01ZpNZvpDMie"
      },
      "outputs": [],
      "source": [
        "from scipy.optimize import minimize\n",
        "\n",
        "def objective(x):\n",
        "    # your code: write objective of the problem (don't forget that scipy does min while we need max)\n",
        "    return -x.T@S@x\n",
        "def norm_constraint(x):\n",
        "    # your code: constaraint norm of x to be 1, function should return 0 if constraint holds\n",
        "    return np.linalg.norm(x)-1\n",
        "con1 = {'type': 'eq', 'fun': norm_constraint}\n",
        "\n",
        "x0 = np.zeros(13)# your code: initial vector to start optimization\n",
        "\n",
        "sol = minimize(objective, \n",
        "               x0, \n",
        "               constraints = [con1]\n",
        "              )\n",
        "x0 = sol.x"
      ]
    },
    {
      "cell_type": "code",
      "source": [
        "objective(x0)"
      ],
      "metadata": {
        "colab": {
          "base_uri": "https://localhost:8080/"
        },
        "id": "D2A2cY1kIyMr",
        "outputId": "011f1f3e-816a-43ed-a2ab-0594c0e2958b"
      },
      "execution_count": 29,
      "outputs": [
        {
          "output_type": "execute_result",
          "data": {
            "text/plain": [
              "-4.73243712025907"
            ]
          },
          "metadata": {},
          "execution_count": 29
        }
      ]
    },
    {
      "cell_type": "markdown",
      "metadata": {
        "id": "PyX_Z_AsDMif"
      },
      "source": [
        "Hurray! We have first vector! Let's do another one."
      ]
    },
    {
      "cell_type": "code",
      "execution_count": 30,
      "metadata": {
        "id": "jJKivds1DMif"
      },
      "outputs": [],
      "source": [
        "def orthogonality_constraint(x):\n",
        "    # your code: x should be orthogonal to x0, function should return 0 if constraint holds\n",
        "    return x@x0\n",
        "con2 = {'type': 'eq', 'fun': orthogonality_constraint}\n",
        "\n",
        "x1 = np.zeros(13)# your code: initial vector to start optimization\n",
        "\n",
        "\n",
        "sol = minimize(objective, \n",
        "               x1, \n",
        "               constraints = [con1, con2] #your code\n",
        "              )\n",
        "\n",
        "x1 = sol.x"
      ]
    },
    {
      "cell_type": "code",
      "source": [
        "x1"
      ],
      "metadata": {
        "colab": {
          "base_uri": "https://localhost:8080/"
        },
        "id": "0h0jnIs4CX9k",
        "outputId": "3933a9d4-55c4-4267-b913-1a4a7118c474"
      },
      "execution_count": 31,
      "outputs": [
        {
          "output_type": "execute_result",
          "data": {
            "text/plain": [
              "array([ 0.48365339,  0.22493136,  0.31608551, -0.01057992,  0.29962584,\n",
              "        0.06504718, -0.00335842,  0.02878177,  0.03929695,  0.529985  ,\n",
              "       -0.27923649, -0.16449419,  0.36490703])"
            ]
          },
          "metadata": {},
          "execution_count": 31
        }
      ]
    },
    {
      "cell_type": "markdown",
      "metadata": {
        "id": "QDlrR_ZkDMif"
      },
      "source": [
        "If your solution is correct, the following asserts should be Ok."
      ]
    },
    {
      "cell_type": "code",
      "source": [
        "x0@S@x0"
      ],
      "metadata": {
        "colab": {
          "base_uri": "https://localhost:8080/"
        },
        "id": "NxmQLExvCbi3",
        "outputId": "20c13612-0aea-41d7-98dd-86d45009bb6c"
      },
      "execution_count": 32,
      "outputs": [
        {
          "output_type": "execute_result",
          "data": {
            "text/plain": [
              "4.73243712025907"
            ]
          },
          "metadata": {},
          "execution_count": 32
        }
      ]
    },
    {
      "cell_type": "code",
      "execution_count": 33,
      "metadata": {
        "id": "ZwGxtrrqDMig"
      },
      "outputs": [],
      "source": [
        "assert np.allclose(x0@S@x0, 4.732436977583595)\n",
        "assert np.allclose(x1@S@x1, 2.5110809296451233)"
      ]
    },
    {
      "cell_type": "markdown",
      "metadata": {
        "id": "btX6x_xgDMig"
      },
      "source": [
        "### Visualization (2 points)"
      ]
    },
    {
      "cell_type": "markdown",
      "metadata": {
        "id": "tfSqNGjFDMig"
      },
      "source": [
        "Visualize the points after applying custom dimension reduction with 2 components."
      ]
    },
    {
      "cell_type": "code",
      "source": [
        "plot_scatter(wine_data_sca[:,0], wine_data_sca[:,1],clusters=wine_labels, title=\"before  PCA\")"
      ],
      "metadata": {
        "colab": {
          "base_uri": "https://localhost:8080/",
          "height": 277
        },
        "id": "c9zqMx6NEJYM",
        "outputId": "48b9f37a-d6a0-4aa0-e054-048081d75e87"
      },
      "execution_count": 34,
      "outputs": [
        {
          "output_type": "display_data",
          "data": {
            "text/plain": [
              "<Figure size 288x288 with 1 Axes>"
            ],
            "image/png": "[encoded data removed]"
          },
          "metadata": {}
        }
      ]
    },
    {
      "cell_type": "code",
      "source": [
        "scaled_pca = np.dot(wine_data_sca,np.array([x0, x1]).T)\n",
        "\n",
        "plot_scatter(scaled_pca[:, 0], scaled_pca[:, 1],clusters=wine_labels, title=\"after PCA\")"
      ],
      "metadata": {
        "colab": {
          "base_uri": "https://localhost:8080/",
          "height": 277
        },
        "id": "t7Cs0rx1FSzI",
        "outputId": "797d320a-e17b-4c43-f9fe-3f3308c63585"
      },
      "execution_count": 35,
      "outputs": [
        {
          "output_type": "display_data",
          "data": {
            "text/plain": [
              "<Figure size 288x288 with 1 Axes>"
            ],
            "image/png": "[encoded data removed]"
          },
          "metadata": {}
        }
      ]
    },
    {
      "cell_type": "markdown",
      "metadata": {
        "id": "ENWYRsyADMig"
      },
      "source": [
        "## Exercise 5 - Boruta (3 points)\n",
        "\n",
        "Let us classify handwritten digits 0, 1 and 2. \n",
        "To make task not so easy the images are binarized (no shadows of gray present) as it happens with xerocopied documents.\n",
        "\n",
        "Let us also find out to which parts of an image there's no need to look in order to clasify three digits of interest."
      ]
    },
    {
      "cell_type": "code",
      "execution_count": 36,
      "metadata": {
        "id": "7om4sD_EDMig"
      },
      "outputs": [],
      "source": [
        "X, y = load_digits(n_class=3, return_X_y=True, as_frame=True)\n",
        "X = (X>10).astype(int)"
      ]
    },
    {
      "cell_type": "code",
      "execution_count": 37,
      "metadata": {
        "colab": {
          "base_uri": "https://localhost:8080/",
          "height": 264
        },
        "id": "1JlV-rx9DMig",
        "outputId": "f8c8bd54-f7d8-4432-d969-d0ab4f47e4c6"
      },
      "outputs": [
        {
          "output_type": "display_data",
          "data": {
            "text/plain": [
              "<Figure size 720x288 with 3 Axes>"
            ],
            "image/png": "[encoded data removed]"
          },
          "metadata": {}
        }
      ],
      "source": [
        "f, ax = plt.subplots(1,3,figsize=(10,4))\n",
        "for i in range(3):\n",
        "    ax[i].imshow(X.iloc[i].values.reshape(8,8))\n",
        "    ax[i].set_title(f\"This is digit {y[i]}.\")\n",
        "plt.suptitle(\"First three images.\")\n",
        "plt.show()"
      ]
    },
    {
      "cell_type": "markdown",
      "metadata": {
        "id": "MkCyQyFzDMih"
      },
      "source": [
        "Split data into train and test, let test size be 30% of the dataset and fix random state to 42:"
      ]
    },
    {
      "cell_type": "code",
      "execution_count": 38,
      "metadata": {
        "colab": {
          "base_uri": "https://localhost:8080/",
          "height": 133
        },
        "id": "rmmApaEcDMih",
        "outputId": "0ccf21cf-903a-439a-eef9-4a08d1152600"
      },
      "outputs": [
        {
          "output_type": "error",
          "ename": "SyntaxError",
          "evalue": "ignored",
          "traceback": [
            "\u001b[0;36m  File \u001b[0;32m\"<ipython-input-38-6d9970ea1afe>\"\u001b[0;36m, line \u001b[0;32m1\u001b[0m\n\u001b[0;31m    X_train, X_val, y_train, y_val = ## your code here\u001b[0m\n\u001b[0m                                                      ^\u001b[0m\n\u001b[0;31mSyntaxError\u001b[0m\u001b[0;31m:\u001b[0m invalid syntax\n"
          ]
        }
      ],
      "source": [
        "X_train, X_val, y_train, y_val = ## your code here"
      ]
    },
    {
      "cell_type": "code",
      "execution_count": null,
      "metadata": {
        "id": "h-wM-o0MDMih"
      },
      "outputs": [],
      "source": [
        "assert y_val.shape[0] == 162\n",
        "assert y_val.sum() == 169"
      ]
    },
    {
      "cell_type": "markdown",
      "metadata": {
        "id": "QIQlF5WhDMih"
      },
      "source": [
        "Fit a RandomForestClassifier with max_depth=13 and evaluate it's performance:"
      ]
    },
    {
      "cell_type": "code",
      "execution_count": null,
      "metadata": {
        "id": "C-UT-I7DDMih"
      },
      "outputs": [],
      "source": [
        "clf = RandomForestClassifier(max_depth=13)\n",
        "\n",
        "# your code here\n",
        "\n",
        "acc = # your code here\n",
        "print(acc)"
      ]
    },
    {
      "cell_type": "code",
      "execution_count": null,
      "metadata": {
        "id": "YYGMTBmZDMih"
      },
      "outputs": [],
      "source": [
        "assert acc > 0.98"
      ]
    },
    {
      "cell_type": "markdown",
      "metadata": {
        "id": "XZZvgLumDMii"
      },
      "source": [
        "Now we will use Boruta to find redundand pixels. If the package is not installed in your system, uncomment and run the following cell."
      ]
    },
    {
      "cell_type": "code",
      "execution_count": null,
      "metadata": {
        "id": "r30p9OVaDMii"
      },
      "outputs": [],
      "source": [
        "# ! pip install boruta"
      ]
    },
    {
      "cell_type": "code",
      "execution_count": null,
      "metadata": {
        "id": "a-2wDmLnDMii"
      },
      "outputs": [],
      "source": [
        "from boruta import BorutaPy\n",
        "\n",
        "feat_selector = BorutaPy(RandomForestClassifier(max_depth=13), \n",
        "                         n_estimators='auto', \n",
        "                         verbose=0, \n",
        "                         max_iter=100,\n",
        "                         random_state=42)\n",
        "\n",
        "# your code here: do run the boruta"
      ]
    },
    {
      "cell_type": "markdown",
      "metadata": {
        "id": "Z1_Yz0oqDMii"
      },
      "source": [
        "Let us print redundant pixels as a mask. Does the result looks similar to mine (or to Among us chracters)? "
      ]
    },
    {
      "cell_type": "code",
      "execution_count": null,
      "metadata": {
        "id": "wN6fjnxeDMii"
      },
      "outputs": [],
      "source": [
        "mask = np.array(feat_selector.support_).reshape(8,8)\n",
        "plt.imshow(mask);"
      ]
    },
    {
      "cell_type": "markdown",
      "metadata": {
        "id": "TvA3Z2zuDMii"
      },
      "source": [
        "At the end let us redo  classification but only with selected features"
      ]
    },
    {
      "cell_type": "code",
      "execution_count": null,
      "metadata": {
        "id": "6K8hkZkaDMij"
      },
      "outputs": [],
      "source": [
        "clf = RandomForestClassifier(max_depth=13)\n",
        "\n",
        "# your code here\n",
        "\n",
        "acc = # your code here\n",
        "print(acc)"
      ]
    },
    {
      "cell_type": "code",
      "execution_count": null,
      "metadata": {
        "id": "arlu8WB0DMij"
      },
      "outputs": [],
      "source": [
        "assert acc > 0.99"
      ]
    },
    {
      "cell_type": "markdown",
      "metadata": {
        "id": "Obcum94HDMij"
      },
      "source": [
        "# Materials & References"
      ]
    },
    {
      "cell_type": "markdown",
      "metadata": {
        "id": "m42OfUosDMij"
      },
      "source": [
        "1. General article about feature engineering and selection (main reference):\n",
        "https://github.com/Yorko/mlcourse.ai/blob/master/jupyter_english/topic06_features_regression/topic6_feature_engineering_feature_selection.ipynb\n",
        "\n",
        "2. Feature engineering/preprocessing, using scikit-learn API (great code examples, but really brief explanation):    \n",
        "https://scikit-learn.org/stable/modules/preprocessing\n",
        "\n",
        "3. Feature scaling/normalization:     \n",
        "https://towardsdatascience.com/all-about-feature-scaling-bcc0ad75cb35\n",
        "\n",
        "4. Log Transform/power transform:    \n",
        "https://medium.com/@kyawsawhtoon/log-transformation-purpose-and-interpretation-9444b4b049c9\n",
        "\n",
        "6. Missing values preprocessing using scikit-learn API (great code examples, great explanation):    \n",
        "https://scikit-learn.org/stable/modules/impute.html\n",
        "\n",
        "7. Feature selection scikit-learn API (great code examples, great explanation):   \n",
        "https://scikit-learn.org/stable/modules/feature_selection.html\n",
        "\n",
        "8. Melbourne housing dataset source:    \n",
        "https://www.kaggle.com/anthonypino/melbourne-housing-market"
      ]
    }
  ],
  "metadata": {
    "kernelspec": {
      "display_name": "Python 3 (ipykernel)",
      "language": "python",
      "name": "python3"
    },
    "language_info": {
      "codemirror_mode": {
        "name": "ipython",
        "version": 3
      },
      "file_extension": ".py",
      "mimetype": "text/x-python",
      "name": "python",
      "nbconvert_exporter": "python",
      "pygments_lexer": "ipython3",
      "version": "3.9.7"
    },
    "toc": {
      "base_numbering": "1",
      "nav_menu": {},
      "number_sections": true,
      "sideBar": true,
      "skip_h1_title": false,
      "title_cell": "Table of Contents",
      "title_sidebar": "Contents",
      "toc_cell": false,
      "toc_position": {
        "height": "calc(100% - 180px)",
        "left": "10px",
        "top": "150px",
        "width": "165px"
      },
      "toc_section_display": true,
      "toc_window_display": true
    },
    "colab": {
      "name": "homework.ipynb",
      "provenance": []
    }
  },
  "nbformat": 4,
  "nbformat_minor": 0
}