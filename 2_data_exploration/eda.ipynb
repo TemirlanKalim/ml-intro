{
  "cells": [
    {
      "cell_type": "code",
      "execution_count": 39,
      "id": "b489cb9e",
      "metadata": {
        "id": "b489cb9e"
      },
      "outputs": [],
      "source": [
        "import pandas as pd\n",
        "import seaborn as sns\n",
        "from google.colab import drive\n",
        "import matplotlib.pyplot as plt\n",
        "import matplotlib.patches as mpatches"
      ]
    },
    {
      "cell_type": "code",
      "source": [
        "drive.mount('/content/drive')"
      ],
      "metadata": {
        "colab": {
          "base_uri": "https://localhost:8080/"
        },
        "id": "oqiD3MZxiWIo",
        "outputId": "0ebc907e-f7f6-4ac2-bb7d-56c99fcb1027"
      },
      "id": "oqiD3MZxiWIo",
      "execution_count": 40,
      "outputs": [
        {
          "output_type": "stream",
          "name": "stdout",
          "text": [
            "Drive already mounted at /content/drive; to attempt to forcibly remount, call drive.mount(\"/content/drive\", force_remount=True).\n"
          ]
        }
      ]
    },
    {
      "cell_type": "markdown",
      "id": "d07912a0",
      "metadata": {
        "id": "d07912a0"
      },
      "source": [
        "# Context"
      ]
    },
    {
      "cell_type": "markdown",
      "source": [
        "Импорт датасета из csv в pandas"
      ],
      "metadata": {
        "id": "Wlxy6-AX9YTe"
      },
      "id": "Wlxy6-AX9YTe"
    },
    {
      "cell_type": "code",
      "execution_count": 41,
      "id": "6b981d68",
      "metadata": {
        "colab": {
          "base_uri": "https://localhost:8080/",
          "height": 206
        },
        "id": "6b981d68",
        "outputId": "f985bc69-e04e-4c8e-a280-8183721bdb63"
      },
      "outputs": [
        {
          "output_type": "execute_result",
          "data": {
            "text/html": [
              "\n",
              "  <div id=\"df-c46a9854-4cd6-452a-89bf-f4031f12f401\">\n",
              "    <div class=\"colab-df-container\">\n",
              "      <div>\n",
              "<style scoped>\n",
              "    .dataframe tbody tr th:only-of-type {\n",
              "        vertical-align: middle;\n",
              "    }\n",
              "\n",
              "    .dataframe tbody tr th {\n",
              "        vertical-align: top;\n",
              "    }\n",
              "\n",
              "    .dataframe thead th {\n",
              "        text-align: right;\n",
              "    }\n",
              "</style>\n",
              "<table border=\"1\" class=\"dataframe\">\n",
              "  <thead>\n",
              "    <tr style=\"text-align: right;\">\n",
              "      <th></th>\n",
              "      <th>PassengerId</th>\n",
              "      <th>Survived</th>\n",
              "      <th>Pclass</th>\n",
              "      <th>Name</th>\n",
              "      <th>Sex</th>\n",
              "      <th>Age</th>\n",
              "      <th>SibSp</th>\n",
              "      <th>Parch</th>\n",
              "      <th>Ticket</th>\n",
              "      <th>Fare</th>\n",
              "      <th>Cabin</th>\n",
              "      <th>Embarked</th>\n",
              "    </tr>\n",
              "  </thead>\n",
              "  <tbody>\n",
              "    <tr>\n",
              "      <th>0</th>\n",
              "      <td>0</td>\n",
              "      <td>1</td>\n",
              "      <td>1</td>\n",
              "      <td>Oconnor, Frankie</td>\n",
              "      <td>male</td>\n",
              "      <td>NaN</td>\n",
              "      <td>2</td>\n",
              "      <td>0</td>\n",
              "      <td>209245</td>\n",
              "      <td>27.14</td>\n",
              "      <td>C12239</td>\n",
              "      <td>S</td>\n",
              "    </tr>\n",
              "    <tr>\n",
              "      <th>1</th>\n",
              "      <td>1</td>\n",
              "      <td>0</td>\n",
              "      <td>3</td>\n",
              "      <td>Bryan, Drew</td>\n",
              "      <td>male</td>\n",
              "      <td>NaN</td>\n",
              "      <td>0</td>\n",
              "      <td>0</td>\n",
              "      <td>27323</td>\n",
              "      <td>13.35</td>\n",
              "      <td>NaN</td>\n",
              "      <td>S</td>\n",
              "    </tr>\n",
              "    <tr>\n",
              "      <th>2</th>\n",
              "      <td>2</td>\n",
              "      <td>0</td>\n",
              "      <td>3</td>\n",
              "      <td>Owens, Kenneth</td>\n",
              "      <td>male</td>\n",
              "      <td>0.33</td>\n",
              "      <td>1</td>\n",
              "      <td>2</td>\n",
              "      <td>CA 457703</td>\n",
              "      <td>71.29</td>\n",
              "      <td>NaN</td>\n",
              "      <td>S</td>\n",
              "    </tr>\n",
              "    <tr>\n",
              "      <th>3</th>\n",
              "      <td>3</td>\n",
              "      <td>0</td>\n",
              "      <td>3</td>\n",
              "      <td>Kramer, James</td>\n",
              "      <td>male</td>\n",
              "      <td>19.00</td>\n",
              "      <td>0</td>\n",
              "      <td>0</td>\n",
              "      <td>A. 10866</td>\n",
              "      <td>13.04</td>\n",
              "      <td>NaN</td>\n",
              "      <td>S</td>\n",
              "    </tr>\n",
              "    <tr>\n",
              "      <th>4</th>\n",
              "      <td>4</td>\n",
              "      <td>1</td>\n",
              "      <td>3</td>\n",
              "      <td>Bond, Michael</td>\n",
              "      <td>male</td>\n",
              "      <td>25.00</td>\n",
              "      <td>0</td>\n",
              "      <td>0</td>\n",
              "      <td>427635</td>\n",
              "      <td>7.76</td>\n",
              "      <td>NaN</td>\n",
              "      <td>S</td>\n",
              "    </tr>\n",
              "  </tbody>\n",
              "</table>\n",
              "</div>\n",
              "      <button class=\"colab-df-convert\" onclick=\"convertToInteractive('df-c46a9854-4cd6-452a-89bf-f4031f12f401')\"\n",
              "              title=\"Convert this dataframe to an interactive table.\"\n",
              "              style=\"display:none;\">\n",
              "        \n",
              "  <svg xmlns=\"http://www.w3.org/2000/svg\" height=\"24px\"viewBox=\"0 0 24 24\"\n",
              "       width=\"24px\">\n",
              "    <path d=\"M0 0h24v24H0V0z\" fill=\"none\"/>\n",
              "    <path d=\"M18.56 5.44l.94 2.06.94-2.06 2.06-.94-2.06-.94-.94-2.06-.94 2.06-2.06.94zm-11 1L8.5 8.5l.94-2.06 2.06-.94-2.06-.94L8.5 2.5l-.94 2.06-2.06.94zm10 10l.94 2.06.94-2.06 2.06-.94-2.06-.94-.94-2.06-.94 2.06-2.06.94z\"/><path d=\"M17.41 7.96l-1.37-1.37c-.4-.4-.92-.59-1.43-.59-.52 0-1.04.2-1.43.59L10.3 9.45l-7.72 7.72c-.78.78-.78 2.05 0 2.83L4 21.41c.39.39.9.59 1.41.59.51 0 1.02-.2 1.41-.59l7.78-7.78 2.81-2.81c.8-.78.8-2.07 0-2.86zM5.41 20L4 18.59l7.72-7.72 1.47 1.35L5.41 20z\"/>\n",
              "  </svg>\n",
              "      </button>\n",
              "      \n",
              "  <style>\n",
              "    .colab-df-container {\n",
              "      display:flex;\n",
              "      flex-wrap:wrap;\n",
              "      gap: 12px;\n",
              "    }\n",
              "\n",
              "    .colab-df-convert {\n",
              "      background-color: #E8F0FE;\n",
              "      border: none;\n",
              "      border-radius: 50%;\n",
              "      cursor: pointer;\n",
              "      display: none;\n",
              "      fill: #1967D2;\n",
              "      height: 32px;\n",
              "      padding: 0 0 0 0;\n",
              "      width: 32px;\n",
              "    }\n",
              "\n",
              "    .colab-df-convert:hover {\n",
              "      background-color: #E2EBFA;\n",
              "      box-shadow: 0px 1px 2px rgba(60, 64, 67, 0.3), 0px 1px 3px 1px rgba(60, 64, 67, 0.15);\n",
              "      fill: #174EA6;\n",
              "    }\n",
              "\n",
              "    [theme=dark] .colab-df-convert {\n",
              "      background-color: #3B4455;\n",
              "      fill: #D2E3FC;\n",
              "    }\n",
              "\n",
              "    [theme=dark] .colab-df-convert:hover {\n",
              "      background-color: #434B5C;\n",
              "      box-shadow: 0px 1px 3px 1px rgba(0, 0, 0, 0.15);\n",
              "      filter: drop-shadow(0px 1px 2px rgba(0, 0, 0, 0.3));\n",
              "      fill: #FFFFFF;\n",
              "    }\n",
              "  </style>\n",
              "\n",
              "      <script>\n",
              "        const buttonEl =\n",
              "          document.querySelector('#df-c46a9854-4cd6-452a-89bf-f4031f12f401 button.colab-df-convert');\n",
              "        buttonEl.style.display =\n",
              "          google.colab.kernel.accessAllowed ? 'block' : 'none';\n",
              "\n",
              "        async function convertToInteractive(key) {\n",
              "          const element = document.querySelector('#df-c46a9854-4cd6-452a-89bf-f4031f12f401');\n",
              "          const dataTable =\n",
              "            await google.colab.kernel.invokeFunction('convertToInteractive',\n",
              "                                                     [key], {});\n",
              "          if (!dataTable) return;\n",
              "\n",
              "          const docLinkHtml = 'Like what you see? Visit the ' +\n",
              "            '<a target=\"_blank\" href=https://colab.research.google.com/notebooks/data_table.ipynb>data table notebook</a>'\n",
              "            + ' to learn more about interactive tables.';\n",
              "          element.innerHTML = '';\n",
              "          dataTable['output_type'] = 'display_data';\n",
              "          await google.colab.output.renderOutput(dataTable, element);\n",
              "          const docLink = document.createElement('div');\n",
              "          docLink.innerHTML = docLinkHtml;\n",
              "          element.appendChild(docLink);\n",
              "        }\n",
              "      </script>\n",
              "    </div>\n",
              "  </div>\n",
              "  "
            ],
            "text/plain": [
              "   PassengerId  Survived  Pclass              Name   Sex    Age  SibSp  Parch  \\\n",
              "0            0         1       1  Oconnor, Frankie  male    NaN      2      0   \n",
              "1            1         0       3       Bryan, Drew  male    NaN      0      0   \n",
              "2            2         0       3    Owens, Kenneth  male   0.33      1      2   \n",
              "3            3         0       3     Kramer, James  male  19.00      0      0   \n",
              "4            4         1       3     Bond, Michael  male  25.00      0      0   \n",
              "\n",
              "      Ticket   Fare   Cabin Embarked  \n",
              "0     209245  27.14  C12239        S  \n",
              "1      27323  13.35     NaN        S  \n",
              "2  CA 457703  71.29     NaN        S  \n",
              "3   A. 10866  13.04     NaN        S  \n",
              "4     427635   7.76     NaN        S  "
            ]
          },
          "metadata": {},
          "execution_count": 41
        }
      ],
      "source": [
        "titanic=pd.read_csv('/content/drive/MyDrive/Colab_Notebooks/RS_ML/2_data_exploration/train.csv')\n",
        "titanic.head()"
      ]
    },
    {
      "cell_type": "markdown",
      "id": "9b4320c6",
      "metadata": {
        "id": "9b4320c6"
      },
      "source": [
        "# Data quality assessment"
      ]
    },
    {
      "cell_type": "markdown",
      "source": [
        "Проверяем как много NaN в каждом столбце"
      ],
      "metadata": {
        "id": "GGAKCaWO9z_s"
      },
      "id": "GGAKCaWO9z_s"
    },
    {
      "cell_type": "code",
      "execution_count": 42,
      "id": "e443ca82",
      "metadata": {
        "colab": {
          "base_uri": "https://localhost:8080/"
        },
        "id": "e443ca82",
        "outputId": "e9f2a388-22e3-4936-d676-5d2205e924e1"
      },
      "outputs": [
        {
          "output_type": "execute_result",
          "data": {
            "text/plain": [
              "PassengerId        0\n",
              "Survived           0\n",
              "Pclass             0\n",
              "Name               0\n",
              "Sex                0\n",
              "Age             3292\n",
              "SibSp              0\n",
              "Parch              0\n",
              "Ticket          4623\n",
              "Fare             134\n",
              "Cabin          67866\n",
              "Embarked         250\n",
              "dtype: int64"
            ]
          },
          "metadata": {},
          "execution_count": 42
        }
      ],
      "source": [
        "titanic.isnull().sum()"
      ]
    },
    {
      "cell_type": "markdown",
      "source": [
        "В столбце Cabin много пропущенных данных, думаю его можно исключить из исследования. Также, считаю что данные из столбца Ticket не являются полезной информацией."
      ],
      "metadata": {
        "id": "3npWlw84j0J9"
      },
      "id": "3npWlw84j0J9"
    },
    {
      "cell_type": "markdown",
      "source": [
        "Заменили пропущенные данные в стоблце Fare на среднее значение согласно классу пассажира."
      ],
      "metadata": {
        "id": "CAqFi4ihlfL0"
      },
      "id": "CAqFi4ihlfL0"
    },
    {
      "cell_type": "code",
      "source": [
        "titanic['Fare'] = titanic.groupby('Pclass')['Fare'].transform(lambda k: k.fillna(k.mean()))"
      ],
      "metadata": {
        "id": "5pa6Cug9jttr"
      },
      "id": "5pa6Cug9jttr",
      "execution_count": 48,
      "outputs": []
    },
    {
      "cell_type": "code",
      "source": [
        "titanic.Fare.isnull().sum()"
      ],
      "metadata": {
        "colab": {
          "base_uri": "https://localhost:8080/"
        },
        "id": "Kb8thv0qlVYJ",
        "outputId": "e16d1019-3b77-4d79-d5d5-0e716bb9eecd"
      },
      "id": "Kb8thv0qlVYJ",
      "execution_count": 49,
      "outputs": [
        {
          "output_type": "execute_result",
          "data": {
            "text/plain": [
              "0"
            ]
          },
          "metadata": {},
          "execution_count": 49
        }
      ]
    },
    {
      "cell_type": "code",
      "source": [
        "titanic['Sex'].replace(['female','male'],[0,1],inplace=True)"
      ],
      "metadata": {
        "id": "N4QhyV9_yRxE"
      },
      "id": "N4QhyV9_yRxE",
      "execution_count": 120,
      "outputs": []
    },
    {
      "cell_type": "code",
      "source": [
        "titanic"
      ],
      "metadata": {
        "colab": {
          "base_uri": "https://localhost:8080/",
          "height": 424
        },
        "id": "2mabVTObyVAv",
        "outputId": "51386f2f-9b73-4c46-cf59-e17d353940aa"
      },
      "id": "2mabVTObyVAv",
      "execution_count": 121,
      "outputs": [
        {
          "output_type": "execute_result",
          "data": {
            "text/html": [
              "\n",
              "  <div id=\"df-65c737a2-3ce7-4eab-9dea-fb31015e30ae\">\n",
              "    <div class=\"colab-df-container\">\n",
              "      <div>\n",
              "<style scoped>\n",
              "    .dataframe tbody tr th:only-of-type {\n",
              "        vertical-align: middle;\n",
              "    }\n",
              "\n",
              "    .dataframe tbody tr th {\n",
              "        vertical-align: top;\n",
              "    }\n",
              "\n",
              "    .dataframe thead th {\n",
              "        text-align: right;\n",
              "    }\n",
              "</style>\n",
              "<table border=\"1\" class=\"dataframe\">\n",
              "  <thead>\n",
              "    <tr style=\"text-align: right;\">\n",
              "      <th></th>\n",
              "      <th>PassengerId</th>\n",
              "      <th>Survived</th>\n",
              "      <th>Pclass</th>\n",
              "      <th>Name</th>\n",
              "      <th>Sex</th>\n",
              "      <th>Age</th>\n",
              "      <th>SibSp</th>\n",
              "      <th>Parch</th>\n",
              "      <th>Ticket</th>\n",
              "      <th>Fare</th>\n",
              "      <th>Cabin</th>\n",
              "      <th>Embarked</th>\n",
              "    </tr>\n",
              "  </thead>\n",
              "  <tbody>\n",
              "    <tr>\n",
              "      <th>0</th>\n",
              "      <td>0</td>\n",
              "      <td>1</td>\n",
              "      <td>1</td>\n",
              "      <td>Oconnor, Frankie</td>\n",
              "      <td>1</td>\n",
              "      <td>NaN</td>\n",
              "      <td>2</td>\n",
              "      <td>0</td>\n",
              "      <td>209245</td>\n",
              "      <td>27.14</td>\n",
              "      <td>C12239</td>\n",
              "      <td>S</td>\n",
              "    </tr>\n",
              "    <tr>\n",
              "      <th>1</th>\n",
              "      <td>1</td>\n",
              "      <td>0</td>\n",
              "      <td>3</td>\n",
              "      <td>Bryan, Drew</td>\n",
              "      <td>1</td>\n",
              "      <td>NaN</td>\n",
              "      <td>0</td>\n",
              "      <td>0</td>\n",
              "      <td>27323</td>\n",
              "      <td>13.35</td>\n",
              "      <td>NaN</td>\n",
              "      <td>S</td>\n",
              "    </tr>\n",
              "    <tr>\n",
              "      <th>2</th>\n",
              "      <td>2</td>\n",
              "      <td>0</td>\n",
              "      <td>3</td>\n",
              "      <td>Owens, Kenneth</td>\n",
              "      <td>1</td>\n",
              "      <td>0.33</td>\n",
              "      <td>1</td>\n",
              "      <td>2</td>\n",
              "      <td>CA 457703</td>\n",
              "      <td>71.29</td>\n",
              "      <td>NaN</td>\n",
              "      <td>S</td>\n",
              "    </tr>\n",
              "    <tr>\n",
              "      <th>3</th>\n",
              "      <td>3</td>\n",
              "      <td>0</td>\n",
              "      <td>3</td>\n",
              "      <td>Kramer, James</td>\n",
              "      <td>1</td>\n",
              "      <td>19.00</td>\n",
              "      <td>0</td>\n",
              "      <td>0</td>\n",
              "      <td>A. 10866</td>\n",
              "      <td>13.04</td>\n",
              "      <td>NaN</td>\n",
              "      <td>S</td>\n",
              "    </tr>\n",
              "    <tr>\n",
              "      <th>4</th>\n",
              "      <td>4</td>\n",
              "      <td>1</td>\n",
              "      <td>3</td>\n",
              "      <td>Bond, Michael</td>\n",
              "      <td>1</td>\n",
              "      <td>25.00</td>\n",
              "      <td>0</td>\n",
              "      <td>0</td>\n",
              "      <td>427635</td>\n",
              "      <td>7.76</td>\n",
              "      <td>NaN</td>\n",
              "      <td>S</td>\n",
              "    </tr>\n",
              "    <tr>\n",
              "      <th>...</th>\n",
              "      <td>...</td>\n",
              "      <td>...</td>\n",
              "      <td>...</td>\n",
              "      <td>...</td>\n",
              "      <td>...</td>\n",
              "      <td>...</td>\n",
              "      <td>...</td>\n",
              "      <td>...</td>\n",
              "      <td>...</td>\n",
              "      <td>...</td>\n",
              "      <td>...</td>\n",
              "      <td>...</td>\n",
              "    </tr>\n",
              "    <tr>\n",
              "      <th>99995</th>\n",
              "      <td>99995</td>\n",
              "      <td>1</td>\n",
              "      <td>2</td>\n",
              "      <td>Bell, Adele</td>\n",
              "      <td>0</td>\n",
              "      <td>62.00</td>\n",
              "      <td>0</td>\n",
              "      <td>0</td>\n",
              "      <td>PC 15008</td>\n",
              "      <td>14.86</td>\n",
              "      <td>D17243</td>\n",
              "      <td>C</td>\n",
              "    </tr>\n",
              "    <tr>\n",
              "      <th>99996</th>\n",
              "      <td>99996</td>\n",
              "      <td>0</td>\n",
              "      <td>2</td>\n",
              "      <td>Brown, Herman</td>\n",
              "      <td>1</td>\n",
              "      <td>66.00</td>\n",
              "      <td>0</td>\n",
              "      <td>0</td>\n",
              "      <td>13273</td>\n",
              "      <td>11.15</td>\n",
              "      <td>NaN</td>\n",
              "      <td>S</td>\n",
              "    </tr>\n",
              "    <tr>\n",
              "      <th>99997</th>\n",
              "      <td>99997</td>\n",
              "      <td>0</td>\n",
              "      <td>3</td>\n",
              "      <td>Childress, Charles</td>\n",
              "      <td>1</td>\n",
              "      <td>37.00</td>\n",
              "      <td>0</td>\n",
              "      <td>0</td>\n",
              "      <td>NaN</td>\n",
              "      <td>9.95</td>\n",
              "      <td>NaN</td>\n",
              "      <td>S</td>\n",
              "    </tr>\n",
              "    <tr>\n",
              "      <th>99998</th>\n",
              "      <td>99998</td>\n",
              "      <td>0</td>\n",
              "      <td>3</td>\n",
              "      <td>Caughlin, Thomas</td>\n",
              "      <td>1</td>\n",
              "      <td>51.00</td>\n",
              "      <td>0</td>\n",
              "      <td>1</td>\n",
              "      <td>458654</td>\n",
              "      <td>30.92</td>\n",
              "      <td>NaN</td>\n",
              "      <td>S</td>\n",
              "    </tr>\n",
              "    <tr>\n",
              "      <th>99999</th>\n",
              "      <td>99999</td>\n",
              "      <td>0</td>\n",
              "      <td>3</td>\n",
              "      <td>Enciso, Tyler</td>\n",
              "      <td>1</td>\n",
              "      <td>55.00</td>\n",
              "      <td>0</td>\n",
              "      <td>0</td>\n",
              "      <td>458074</td>\n",
              "      <td>13.96</td>\n",
              "      <td>NaN</td>\n",
              "      <td>S</td>\n",
              "    </tr>\n",
              "  </tbody>\n",
              "</table>\n",
              "<p>100000 rows × 12 columns</p>\n",
              "</div>\n",
              "      <button class=\"colab-df-convert\" onclick=\"convertToInteractive('df-65c737a2-3ce7-4eab-9dea-fb31015e30ae')\"\n",
              "              title=\"Convert this dataframe to an interactive table.\"\n",
              "              style=\"display:none;\">\n",
              "        \n",
              "  <svg xmlns=\"http://www.w3.org/2000/svg\" height=\"24px\"viewBox=\"0 0 24 24\"\n",
              "       width=\"24px\">\n",
              "    <path d=\"M0 0h24v24H0V0z\" fill=\"none\"/>\n",
              "    <path d=\"M18.56 5.44l.94 2.06.94-2.06 2.06-.94-2.06-.94-.94-2.06-.94 2.06-2.06.94zm-11 1L8.5 8.5l.94-2.06 2.06-.94-2.06-.94L8.5 2.5l-.94 2.06-2.06.94zm10 10l.94 2.06.94-2.06 2.06-.94-2.06-.94-.94-2.06-.94 2.06-2.06.94z\"/><path d=\"M17.41 7.96l-1.37-1.37c-.4-.4-.92-.59-1.43-.59-.52 0-1.04.2-1.43.59L10.3 9.45l-7.72 7.72c-.78.78-.78 2.05 0 2.83L4 21.41c.39.39.9.59 1.41.59.51 0 1.02-.2 1.41-.59l7.78-7.78 2.81-2.81c.8-.78.8-2.07 0-2.86zM5.41 20L4 18.59l7.72-7.72 1.47 1.35L5.41 20z\"/>\n",
              "  </svg>\n",
              "      </button>\n",
              "      \n",
              "  <style>\n",
              "    .colab-df-container {\n",
              "      display:flex;\n",
              "      flex-wrap:wrap;\n",
              "      gap: 12px;\n",
              "    }\n",
              "\n",
              "    .colab-df-convert {\n",
              "      background-color: #E8F0FE;\n",
              "      border: none;\n",
              "      border-radius: 50%;\n",
              "      cursor: pointer;\n",
              "      display: none;\n",
              "      fill: #1967D2;\n",
              "      height: 32px;\n",
              "      padding: 0 0 0 0;\n",
              "      width: 32px;\n",
              "    }\n",
              "\n",
              "    .colab-df-convert:hover {\n",
              "      background-color: #E2EBFA;\n",
              "      box-shadow: 0px 1px 2px rgba(60, 64, 67, 0.3), 0px 1px 3px 1px rgba(60, 64, 67, 0.15);\n",
              "      fill: #174EA6;\n",
              "    }\n",
              "\n",
              "    [theme=dark] .colab-df-convert {\n",
              "      background-color: #3B4455;\n",
              "      fill: #D2E3FC;\n",
              "    }\n",
              "\n",
              "    [theme=dark] .colab-df-convert:hover {\n",
              "      background-color: #434B5C;\n",
              "      box-shadow: 0px 1px 3px 1px rgba(0, 0, 0, 0.15);\n",
              "      filter: drop-shadow(0px 1px 2px rgba(0, 0, 0, 0.3));\n",
              "      fill: #FFFFFF;\n",
              "    }\n",
              "  </style>\n",
              "\n",
              "      <script>\n",
              "        const buttonEl =\n",
              "          document.querySelector('#df-65c737a2-3ce7-4eab-9dea-fb31015e30ae button.colab-df-convert');\n",
              "        buttonEl.style.display =\n",
              "          google.colab.kernel.accessAllowed ? 'block' : 'none';\n",
              "\n",
              "        async function convertToInteractive(key) {\n",
              "          const element = document.querySelector('#df-65c737a2-3ce7-4eab-9dea-fb31015e30ae');\n",
              "          const dataTable =\n",
              "            await google.colab.kernel.invokeFunction('convertToInteractive',\n",
              "                                                     [key], {});\n",
              "          if (!dataTable) return;\n",
              "\n",
              "          const docLinkHtml = 'Like what you see? Visit the ' +\n",
              "            '<a target=\"_blank\" href=https://colab.research.google.com/notebooks/data_table.ipynb>data table notebook</a>'\n",
              "            + ' to learn more about interactive tables.';\n",
              "          element.innerHTML = '';\n",
              "          dataTable['output_type'] = 'display_data';\n",
              "          await google.colab.output.renderOutput(dataTable, element);\n",
              "          const docLink = document.createElement('div');\n",
              "          docLink.innerHTML = docLinkHtml;\n",
              "          element.appendChild(docLink);\n",
              "        }\n",
              "      </script>\n",
              "    </div>\n",
              "  </div>\n",
              "  "
            ],
            "text/plain": [
              "       PassengerId  Survived  Pclass                Name  Sex    Age  SibSp  \\\n",
              "0                0         1       1    Oconnor, Frankie    1    NaN      2   \n",
              "1                1         0       3         Bryan, Drew    1    NaN      0   \n",
              "2                2         0       3      Owens, Kenneth    1   0.33      1   \n",
              "3                3         0       3       Kramer, James    1  19.00      0   \n",
              "4                4         1       3       Bond, Michael    1  25.00      0   \n",
              "...            ...       ...     ...                 ...  ...    ...    ...   \n",
              "99995        99995         1       2         Bell, Adele    0  62.00      0   \n",
              "99996        99996         0       2       Brown, Herman    1  66.00      0   \n",
              "99997        99997         0       3  Childress, Charles    1  37.00      0   \n",
              "99998        99998         0       3    Caughlin, Thomas    1  51.00      0   \n",
              "99999        99999         0       3       Enciso, Tyler    1  55.00      0   \n",
              "\n",
              "       Parch     Ticket   Fare   Cabin Embarked  \n",
              "0          0     209245  27.14  C12239        S  \n",
              "1          0      27323  13.35     NaN        S  \n",
              "2          2  CA 457703  71.29     NaN        S  \n",
              "3          0   A. 10866  13.04     NaN        S  \n",
              "4          0     427635   7.76     NaN        S  \n",
              "...      ...        ...    ...     ...      ...  \n",
              "99995      0   PC 15008  14.86  D17243        C  \n",
              "99996      0      13273  11.15     NaN        S  \n",
              "99997      0        NaN   9.95     NaN        S  \n",
              "99998      1     458654  30.92     NaN        S  \n",
              "99999      0     458074  13.96     NaN        S  \n",
              "\n",
              "[100000 rows x 12 columns]"
            ]
          },
          "metadata": {},
          "execution_count": 121
        }
      ]
    },
    {
      "cell_type": "markdown",
      "source": [
        ""
      ],
      "metadata": {
        "id": "6nVp4bx0yT6m"
      },
      "id": "6nVp4bx0yT6m"
    },
    {
      "cell_type": "markdown",
      "id": "5408eca5",
      "metadata": {
        "id": "5408eca5"
      },
      "source": [
        "# Data exploration"
      ]
    },
    {
      "cell_type": "code",
      "source": [
        "print(titanic.loc[:,'Survived':].corr())"
      ],
      "metadata": {
        "colab": {
          "base_uri": "https://localhost:8080/"
        },
        "id": "AaHZ3xbbw7qK",
        "outputId": "88077516-ce2b-4396-9eff-dc31f4c0170b"
      },
      "id": "AaHZ3xbbw7qK",
      "execution_count": 130,
      "outputs": [
        {
          "output_type": "stream",
          "name": "stdout",
          "text": [
            "          Survived    Pclass       Sex       Age     SibSp     Parch      Fare\n",
            "Survived  1.000000 -0.289723 -0.507260  0.103895 -0.007587  0.023352  0.187507\n",
            "Pclass   -0.289723  1.000000  0.198617 -0.259109 -0.051436 -0.041848 -0.417566\n",
            "Sex      -0.507260  0.198617  1.000000 -0.081684 -0.030627 -0.087666 -0.143495\n",
            "Age       0.103895 -0.259109 -0.081684  1.000000 -0.112459 -0.125535  0.109223\n",
            "SibSp    -0.007587 -0.051436 -0.030627 -0.112459  1.000000  0.213126  0.059400\n",
            "Parch     0.023352 -0.041848 -0.087666 -0.125535  0.213126  1.000000  0.061530\n",
            "Fare      0.187507 -0.417566 -0.143495  0.109223  0.059400  0.061530  1.000000\n"
          ]
        }
      ]
    },
    {
      "cell_type": "code",
      "source": [
        "sex_pclass_sur1=titanic[titanic['Survived']==1].groupby(['Sex','Pclass']).size()\n",
        "sex_pclass_sur1"
      ],
      "metadata": {
        "colab": {
          "base_uri": "https://localhost:8080/"
        },
        "id": "eMqr-TGfuFpb",
        "outputId": "cb827376-d81c-46dc-9ec7-26befd75940f"
      },
      "id": "eMqr-TGfuFpb",
      "execution_count": 109,
      "outputs": [
        {
          "output_type": "execute_result",
          "data": {
            "text/plain": [
              "Sex     Pclass\n",
              "female  1         12357\n",
              "        2         11753\n",
              "        3          7116\n",
              "male    1          5219\n",
              "        2          3304\n",
              "        3          3025\n",
              "dtype: int64"
            ]
          },
          "metadata": {},
          "execution_count": 109
        }
      ]
    },
    {
      "cell_type": "code",
      "source": [
        "sex_pclass_sur=titanic.groupby(['Sex','Pclass','Survived']).size()\n",
        "sex_pclass_sur"
      ],
      "metadata": {
        "colab": {
          "base_uri": "https://localhost:8080/"
        },
        "id": "iC2xkZ5WpHCT",
        "outputId": "9edf2578-cf63-4c6d-fa76-07b876321059"
      },
      "id": "iC2xkZ5WpHCT",
      "execution_count": 81,
      "outputs": [
        {
          "output_type": "execute_result",
          "data": {
            "text/plain": [
              "Sex     Pclass  Survived\n",
              "female  1       0            3727\n",
              "                1           12357\n",
              "        2       0            3530\n",
              "                1           11753\n",
              "        3       0            5403\n",
              "                1            7116\n",
              "male    1       0            9012\n",
              "                1            5219\n",
              "        2       0           10092\n",
              "                1            3304\n",
              "        3       0           25462\n",
              "                1            3025\n",
              "dtype: int64"
            ]
          },
          "metadata": {},
          "execution_count": 81
        }
      ]
    },
    {
      "cell_type": "code",
      "source": [
        "sex_pclass_sur_percent=sex_pclass_sur1.groupby(level=[0, 1]).apply(lambda x: 100 * x / float(x.sum()))\n",
        "sex_pclass_sur_percent"
      ],
      "metadata": {
        "colab": {
          "base_uri": "https://localhost:8080/"
        },
        "id": "_pJGpw82p_a2",
        "outputId": "a9022f97-e665-47d7-f285-c22164478862"
      },
      "id": "_pJGpw82p_a2",
      "execution_count": 85,
      "outputs": [
        {
          "output_type": "execute_result",
          "data": {
            "text/plain": [
              "Sex     Pclass  Survived\n",
              "female  1       0           23.172096\n",
              "                1           76.827904\n",
              "        2       0           23.097559\n",
              "                1           76.902441\n",
              "        3       0           43.158399\n",
              "                1           56.841601\n",
              "male    1       0           63.326541\n",
              "                1           36.673459\n",
              "        2       0           75.335921\n",
              "                1           24.664079\n",
              "        3       0           89.381121\n",
              "                1           10.618879\n",
              "dtype: float64"
            ]
          },
          "metadata": {},
          "execution_count": 85
        }
      ]
    },
    {
      "cell_type": "code",
      "source": [
        "plot1=sex_pclass_sur_percent[1::2].droplevel(2).unstack(level=[0]).plot(kind='bar', color=['darkblue', 'lightblue'])\n",
        "top_bar = mpatches.Patch(color='lightblue', label='Мужчины')\n",
        "bottom_bar = mpatches.Patch(color='darkblue', label='Женщины')\n",
        "plt.legend(handles=[top_bar, bottom_bar])\n",
        "plot1.set_xlabel(\"Класс\")\n",
        "plot1.set_ylabel(\"Процент выживших\");"
      ],
      "metadata": {
        "colab": {
          "base_uri": "https://localhost:8080/",
          "height": 278
        },
        "id": "yoDRjk6N1Uj4",
        "outputId": "2cbfd0ab-8693-4beb-c1e8-e83c143c10d3"
      },
      "id": "yoDRjk6N1Uj4",
      "execution_count": 171,
      "outputs": [
        {
          "output_type": "display_data",
          "data": {
            "image/png": "[encoded data removed]",
            "text/plain": [
              "<Figure size 432x288 with 1 Axes>"
            ]
          },
          "metadata": {
            "needs_background": "light"
          }
        }
      ]
    },
    {
      "cell_type": "code",
      "source": [
        "titanic.groupby(['Sex','Survived']).size()\n"
      ],
      "metadata": {
        "colab": {
          "base_uri": "https://localhost:8080/"
        },
        "id": "ZzrrKpyynb6j",
        "outputId": "d331741f-d80f-45c0-b9c1-bc13065daafe"
      },
      "id": "ZzrrKpyynb6j",
      "execution_count": 86,
      "outputs": [
        {
          "output_type": "execute_result",
          "data": {
            "text/plain": [
              "Sex     Survived\n",
              "female  0           12660\n",
              "        1           31226\n",
              "male    0           44566\n",
              "        1           11548\n",
              "dtype: int64"
            ]
          },
          "metadata": {},
          "execution_count": 86
        }
      ]
    },
    {
      "cell_type": "code",
      "source": [
        "sur_bySex=titanic.groupby(['Sex','Survived']).size()\n",
        "plot2=sur_bySex.unstack().plot(kind='bar', stacked=True, color=['darkblue', 'lightblue'])\n",
        "top_bar = mpatches.Patch(color='lightblue', label='Выжившие')\n",
        "bottom_bar = mpatches.Patch(color='darkblue', label='Погибшие')\n",
        "plt.legend(handles=[top_bar, bottom_bar]);\n",
        "plot2.set_xlabel(\"Пол\")\n",
        "plot2.set_ylabel(\"Кол-во выживших\");"
      ],
      "metadata": {
        "colab": {
          "base_uri": "https://localhost:8080/",
          "height": 276
        },
        "id": "9hRQ7u3--Cib",
        "outputId": "e83656d8-a970-462a-cd1c-cdec7a78eb18"
      },
      "id": "9hRQ7u3--Cib",
      "execution_count": 169,
      "outputs": [
        {
          "output_type": "display_data",
          "data": {
            "image/png": "[encoded data removed]",
            "text/plain": [
              "<Figure size 432x288 with 1 Axes>"
            ]
          },
          "metadata": {
            "needs_background": "light"
          }
        }
      ]
    },
    {
      "cell_type": "code",
      "source": [
        "ranges = [0,1,10,20,30,40,50,60,70,80,90]\n",
        "titanic.groupby([pd.cut(titanic.Age, ranges),'Survived']).size()"
      ],
      "metadata": {
        "colab": {
          "base_uri": "https://localhost:8080/"
        },
        "id": "Gqo3fAA1-CZi",
        "outputId": "44d2a230-80fc-4112-f4b8-83c4f8890d64"
      },
      "id": "Gqo3fAA1-CZi",
      "execution_count": 46,
      "outputs": [
        {
          "output_type": "execute_result",
          "data": {
            "text/plain": [
              "Age       Survived\n",
              "(0, 1]    0             815\n",
              "          1             476\n",
              "(1, 10]   0            4622\n",
              "          1            3300\n",
              "(10, 20]  0            3442\n",
              "          1            2342\n",
              "(20, 30]  0           13516\n",
              "          1            7041\n",
              "(30, 40]  0            9639\n",
              "          1            6005\n",
              "(40, 50]  0            8342\n",
              "          1            7553\n",
              "(50, 60]  0            9506\n",
              "          1            8438\n",
              "(60, 70]  0            4723\n",
              "          1            5011\n",
              "(70, 80]  0             675\n",
              "          1            1214\n",
              "(80, 90]  0              10\n",
              "          1              38\n",
              "dtype: int64"
            ]
          },
          "metadata": {},
          "execution_count": 46
        }
      ]
    },
    {
      "cell_type": "code",
      "execution_count": 170,
      "id": "2417286d",
      "metadata": {
        "colab": {
          "base_uri": "https://localhost:8080/",
          "height": 309
        },
        "id": "2417286d",
        "outputId": "8329d566-2472-4077-86b7-1a0417e6bcaf"
      },
      "outputs": [
        {
          "output_type": "display_data",
          "data": {
            "image/png": "[encoded data removed]",
            "text/plain": [
              "<Figure size 432x288 with 1 Axes>"
            ]
          },
          "metadata": {
            "needs_background": "light"
          }
        }
      ],
      "source": [
        "titanic.groupby([pd.cut(titanic.Age, ranges),'Survived']).size().unstack().plot(kind='bar', stacked=True, color=['darkblue', 'lightblue'])\n",
        "top_bar = mpatches.Patch(color='lightblue', label='Выжившие')\n",
        "bottom_bar = mpatches.Patch(color='darkblue', label='Погибшие')\n",
        "plt.legend(handles=[top_bar, bottom_bar]);\n",
        "plot1.set_xlabel(\"Возраст\")\n",
        "plot1.set_ylabel(\"Кол-во выживших\");"
      ]
    },
    {
      "cell_type": "markdown",
      "id": "034945c8",
      "metadata": {
        "id": "034945c8"
      },
      "source": [
        "# Summary"
      ]
    },
    {
      "cell_type": "code",
      "execution_count": 47,
      "id": "72e3fb13",
      "metadata": {
        "id": "72e3fb13"
      },
      "outputs": [],
      "source": [
        ""
      ]
    }
  ],
  "metadata": {
    "kernelspec": {
      "display_name": "Python 3 (ipykernel)",
      "language": "python",
      "name": "python3"
    },
    "language_info": {
      "codemirror_mode": {
        "name": "ipython",
        "version": 3
      },
      "file_extension": ".py",
      "mimetype": "text/x-python",
      "name": "python",
      "nbconvert_exporter": "python",
      "pygments_lexer": "ipython3",
      "version": "3.8.12"
    },
    "toc": {
      "base_numbering": 1,
      "nav_menu": {},
      "number_sections": true,
      "sideBar": true,
      "skip_h1_title": false,
      "title_cell": "Table of Contents",
      "title_sidebar": "Contents",
      "toc_cell": false,
      "toc_position": {},
      "toc_section_display": true,
      "toc_window_display": false
    },
    "colab": {
      "name": "eda.ipynb",
      "provenance": []
    }
  },
  "nbformat": 4,
  "nbformat_minor": 5
}