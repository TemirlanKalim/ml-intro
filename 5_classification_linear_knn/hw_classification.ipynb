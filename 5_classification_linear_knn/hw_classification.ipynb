{
  "cells": [
    {
      "cell_type": "markdown",
      "metadata": {
        "id": "OkU-iLj49-CY"
      },
      "source": [
        "# Classification. Linear models and KNN"
      ]
    },
    {
      "cell_type": "code",
      "execution_count": 1,
      "metadata": {
        "id": "4OlTuM9C9-Cb"
      },
      "outputs": [],
      "source": [
        "import os\n",
        "import numpy as np\n",
        "import pandas as pd\n",
        "import seaborn as sns\n",
        "import matplotlib.pyplot as plt\n",
        "import math\n",
        "from numpy.linalg import norm "
      ]
    },
    {
      "cell_type": "code",
      "execution_count": 2,
      "metadata": {
        "id": "OTgShsb-9-Ce"
      },
      "outputs": [],
      "source": [
        "from sklearn.pipeline import Pipeline\n",
        "from sklearn.compose import ColumnTransformer\n",
        "from sklearn.model_selection import train_test_split, cross_validate\n",
        "from sklearn.metrics import plot_confusion_matrix, accuracy_score\n",
        "from sklearn.neighbors import KNeighborsClassifier\n",
        "from sklearn.preprocessing import StandardScaler, OneHotEncoder"
      ]
    },
    {
      "cell_type": "markdown",
      "metadata": {
        "id": "4x175k819-Ci"
      },
      "source": [
        "## Part 1: Implementing Logistic Regression"
      ]
    },
    {
      "cell_type": "markdown",
      "metadata": {
        "id": "FUH3UjrJ9-Cj"
      },
      "source": [
        "In this task you need to implement Logistic Regression with l2 regularization using gradient descent algorithm."
      ]
    },
    {
      "cell_type": "markdown",
      "metadata": {
        "id": "bSzHriXB9-Ck"
      },
      "source": [
        "Logistic Regression loss:\n",
        "$$ L(w) = \\dfrac{1}{N}\\sum_{i=1}^N \\log(1 + e^{-\\langle w, x_i \\rangle y_i}) + \\frac{1}{2C} \\lVert w \\rVert^2  \\to \\min_w$$\n",
        "$$\\langle w, x_i \\rangle = \\sum_{j=1}^n w_{j}x_{ij} + w_{0},$$ $$ y_{i} \\in \\{-1, 1\\}$$ where $n$ is the number of features and $N$ is the number of samples."
      ]
    },
    {
      "cell_type": "markdown",
      "metadata": {
        "id": "CWyq2Kjx9-Cm"
      },
      "source": [
        "Gradient descent step:\n",
        "$$w^{(t+1)} := w^{(t)} + \\dfrac{\\eta}{N}\\sum_{i=1}^N y_ix_i \\Big(1 - \\dfrac{1}{1 + exp(-\\langle w^{(t)}, x_i \\rangle y_i)}\\Big) - \\eta \\frac{1}{C} w,$$\n",
        "where $\\eta$ is the learning rate."
      ]
    },
    {
      "cell_type": "markdown",
      "metadata": {
        "id": "U_QmVrGa9-Cn"
      },
      "source": [
        "**(2 points)** Implement the algorithm and use it to classify the digits (https://scikit-learn.org/stable/modules/generated/sklearn.datasets.load_digits.html) into \"even\" and \"odd\" categories. \"Even\" and \"Odd\" classes  should correspond to {-1, 1} labels."
      ]
    },
    {
      "cell_type": "markdown",
      "metadata": {
        "id": "LzqOB0b49-Cp"
      },
      "source": [
        "Stopping criteria: either the number of iterations exceeds *max_iter* or $||w^{(t+1)} - w^{(t)}||_2 < tol$."
      ]
    },
    {
      "cell_type": "code",
      "execution_count": 3,
      "metadata": {
        "id": "3vBeaWlx9-Cs"
      },
      "outputs": [],
      "source": [
        "from sklearn.exceptions import NotFittedError"
      ]
    },
    {
      "cell_type": "code",
      "execution_count": 4,
      "metadata": {
        "id": "cxYt1UXz9-Ct",
        "colab": {
          "base_uri": "https://localhost:8080/",
          "height": 72
        },
        "outputId": "8651f2d2-3ae0-47fb-d8d6-cbf038fa2bd2"
      },
      "outputs": [
        {
          "output_type": "execute_result",
          "data": {
            "text/plain": [
              "'\\n        # <your code>\\n        predict_proba\\n        print(predict_proba(X))\\n        print(X)\\n        print(X.shape)\\n        print(self.weights_)\\n        print(self.weights_.shape)\\n        y=self.weights_[0]+X@self.weights_[1:]\\n        print(y)\\n        for j in y:\\n          if j>0.5:\\n            j=1\\n          else:\\n            j=-1\\n        print(y)\\n        return y\\n        pass\\n'"
            ],
            "application/vnd.google.colaboratory.intrinsic+json": {
              "type": "string"
            }
          },
          "metadata": {},
          "execution_count": 4
        }
      ],
      "source": [
        "class CustomLogisticRegression:\n",
        "    _estimator_type = \"classifier\"\n",
        "    \n",
        "    def __init__(self, eta=0.001, max_iter=1000, C=1.0, tol=1e-5, random_state=42, zero_init=False):\n",
        "        \"\"\"Logistic Regression classifier.\n",
        "        \n",
        "        Args:\n",
        "            eta: float, default=0.001\n",
        "                Learning rate.\n",
        "            max_iter: int, default=1000\n",
        "                Maximum number of iterations taken for the solvers to converge.\n",
        "            C: float, default=1.0\n",
        "                Inverse of regularization strength; must be a positive float.\n",
        "                Smaller values specify stronger regularization.\n",
        "            tol: float, default=1e-5\n",
        "                Tolerance for stopping criteria.\n",
        "            random_state: int, default=42\n",
        "                Random state.\n",
        "            zero_init: bool, default=False\n",
        "                Zero weight initialization.\n",
        "        \"\"\"\n",
        "        self.eta = eta\n",
        "        self.max_iter = max_iter\n",
        "        self.C = C\n",
        "        self.tol = tol\n",
        "        self.random_state = np.random.RandomState(seed=random_state)\n",
        "        self.zero_init = zero_init\n",
        "        self.hist_losses=[]\n",
        "         \n",
        "    def get_sigmoid(self, X, weights):\n",
        "        \"\"\"Compute the sigmoid value.\"\"\"\n",
        "        # <your code>\n",
        "        return (1/ (1 + np.exp(-(X.dot(weights)))))\n",
        "        pass\n",
        "    \n",
        "    def get_loss(self, x, weights, y):\n",
        "        \"\"\"Calculate the loss.\"\"\"\n",
        "        # <your code>\n",
        "        return  np.log(1 + np.exp(-(weights @ x.T) * y)).mean() +(1 / (2 * self.C)) * norm(weights)\n",
        "        pass\n",
        "     \n",
        "    def fit(self, X, y):\n",
        "        \"\"\"Fit the model.\n",
        "        \n",
        "        Args:\n",
        "            X: numpy array of shape (n_samples, n_features)\n",
        "            y: numpy array of shape (n_samples,)\n",
        "                Target vector.        \n",
        "        \"\"\"\n",
        "        X_ext = np.hstack([np.ones((X.shape[0], 1)), X]) # a constant feature is included to handle intercept\n",
        "        num_features = X_ext.shape[1]\n",
        "        if self.zero_init:\n",
        "            self.weights_ = np.zeros(num_features) \n",
        "        else:\n",
        "            weight_threshold = 1.0 / (2 * num_features)\n",
        "            self.weights_ = self.random_state.uniform(low=-weight_threshold,\n",
        "                                                      high=weight_threshold, size=num_features) # random weight initialization\n",
        "        \n",
        "        for i in range(self.max_iter):\n",
        "            summ=0\n",
        "            for j in range(X_ext.shape[0]):\n",
        "              summ+=(X_ext[j,:]*y[j]).T*(1 - 1/(1+np.exp(-(X_ext[j,:] @ self.weights_)*y[j])))\n",
        "\n",
        "            delta = self.weights_/self.C - summ/y.shape[0]\n",
        "            # y[i] * X_ext[i] * (1 -1 / (1 + np.exp(-y[i] * (np.dot(X_ext[i], self.weights[i])))))\n",
        "            self.weights_ -= self.eta * delta\n",
        "            self.hist_losses.append(self.get_loss(X_ext, self.weights_, y))\n",
        "            if norm(self.eta*delta,2)< self.tol:\n",
        "                break\n",
        "     \n",
        "    def predict_proba(self, X):\n",
        "        \"\"\"Predict positive class probabilities.\n",
        "        \n",
        "        Args:\n",
        "            X: numpy array of shape (n_samples, n_features)\n",
        "        Returns:\n",
        "            y: numpy array of shape (n_samples,)\n",
        "                Vector containing positive class probabilities.\n",
        "        \"\"\"\n",
        "        X_ext = np.hstack([np.ones((X.shape[0], 1)), X])\n",
        "        if hasattr(self, 'weights_'):\n",
        "            return self.get_sigmoid(X_ext, self.weights_)\n",
        "        else: \n",
        "            raise NotFittedError(\"CustomLogisticRegression instance is not fitted yet\")\n",
        "    \n",
        "    def predict(self, X):\n",
        "        \"\"\"Predict classes.\n",
        "        \n",
        "        Args:\n",
        "            X: numpy array of shape (n_samples, n_features)\n",
        "        Returns:\n",
        "            y: numpy array of shape (n_samples,)\n",
        "                Vector containing predicted class labels.\n",
        "        \"\"\"\n",
        "\n",
        "        X_ext = np.hstack([np.ones((X.shape[0], 1)), X])\n",
        "        if hasattr(self, 'weights_'):\n",
        "            y=self.get_sigmoid(X_ext, self.weights_)\n",
        "            y=np.where(y>0.5, 1, -1)\n",
        "            return y\n",
        "        else: \n",
        "            raise NotFittedError(\"CustomLogisticRegression instance is not fitted yet\")\n",
        "\"\"\"\n",
        "        # <your code>\n",
        "        predict_proba\n",
        "        print(predict_proba(X))\n",
        "        print(X)\n",
        "        print(X.shape)\n",
        "        print(self.weights_)\n",
        "        print(self.weights_.shape)\n",
        "        y=self.weights_[0]+X@self.weights_[1:]\n",
        "        print(y)\n",
        "        for j in y:\n",
        "          if j>0.5:\n",
        "            j=1\n",
        "          else:\n",
        "            j=-1\n",
        "        print(y)\n",
        "        return y\n",
        "        pass\n",
        "\"\"\""
      ]
    },
    {
      "cell_type": "code",
      "source": [
        "k=np.array([1,2,3,-1])"
      ],
      "metadata": {
        "id": "5xdLJ7szHzAz"
      },
      "execution_count": 5,
      "outputs": []
    },
    {
      "cell_type": "code",
      "source": [
        "k=np.where(k>=0.5, 1, k)\n",
        "np.where(k<0.5, 0, k)"
      ],
      "metadata": {
        "colab": {
          "base_uri": "https://localhost:8080/"
        },
        "id": "OpV0zpEuH2B_",
        "outputId": "08902673-5058-44cd-a817-8598a3f97095"
      },
      "execution_count": 6,
      "outputs": [
        {
          "output_type": "execute_result",
          "data": {
            "text/plain": [
              "array([1, 1, 1, 0])"
            ]
          },
          "metadata": {},
          "execution_count": 6
        }
      ]
    },
    {
      "cell_type": "code",
      "execution_count": 7,
      "metadata": {
        "id": "Hcy9vpqR9-Cw"
      },
      "outputs": [],
      "source": [
        "from sklearn import datasets\n",
        "from sklearn import metrics"
      ]
    },
    {
      "cell_type": "code",
      "execution_count": 8,
      "metadata": {
        "id": "8bLkNmSU9-Cx",
        "colab": {
          "base_uri": "https://localhost:8080/",
          "height": 307
        },
        "outputId": "ba9ce297-ba20-4afe-8b7a-0ecc2624011c"
      },
      "outputs": [
        {
          "output_type": "display_data",
          "data": {
            "text/plain": [
              "<Figure size 720x360 with 21 Axes>"
            ],
            "image/png": "[encoded data removed]"
          },
          "metadata": {
            "needs_background": "light"
          }
        }
      ],
      "source": [
        "X, y = datasets.load_digits(n_class=10, return_X_y=True)\n",
        "\n",
        "_, axes = plt.subplots(nrows=3, ncols=7, figsize=(10, 5))\n",
        "for ax, image, label in zip(axes.flatten(), X, y):\n",
        "    ax.set_axis_off()\n",
        "    ax.imshow(image.reshape((8, 8)), cmap=plt.cm.gray_r if label % 2 else plt.cm.afmhot_r)\n",
        "    ax.set_title(label)\n",
        "\n",
        "X_train, X_test, y_train, y_test = train_test_split(X, y, test_size=0.2, shuffle=True, random_state=42)\n",
        "#y_train = \"<your code>\"\n",
        "#y_test = \"<your code>\"\n",
        "y_train = (y_train % 2) * 2 - 1\n",
        "y_test = (y_test % 2) * 2 - 1"
      ]
    },
    {
      "cell_type": "code",
      "execution_count": 9,
      "metadata": {
        "id": "SGLVQAB39-Cz"
      },
      "outputs": [],
      "source": [
        "assert (np.unique(y_train) == [-1, 1]).all()\n",
        "assert (np.unique(y_test) == [-1, 1]).all()"
      ]
    },
    {
      "cell_type": "code",
      "execution_count": 10,
      "metadata": {
        "id": "vl59JoVU9-C0"
      },
      "outputs": [],
      "source": [
        "def fit_evaluate(clf, X_train, y_train, X_test, y_test):\n",
        "    clf.fit(X_train, y_train)\n",
        "    disp = metrics.plot_confusion_matrix(clf, X_test, y_test, normalize='true')\n",
        "    disp.figure_.suptitle(\"Confusion Matrix\")\n",
        "    plt.show()\n",
        "    \n",
        "    return metrics.accuracy_score(y_pred=clf.predict(X_train), y_true=y_train), \\\n",
        "           metrics.accuracy_score(y_pred=clf.predict(X_test), y_true=y_test)"
      ]
    },
    {
      "cell_type": "code",
      "execution_count": 11,
      "metadata": {
        "id": "tt3fgCZ99-C1"
      },
      "outputs": [],
      "source": [
        "lr_clf = CustomLogisticRegression(max_iter=1, zero_init=True)"
      ]
    },
    {
      "cell_type": "code",
      "execution_count": 12,
      "metadata": {
        "id": "YSENPL0F9-C3"
      },
      "outputs": [],
      "source": [
        "assert np.allclose(lr_clf.get_sigmoid(np.array([[0.5, 0, 1.0], [0.3, 1.3, 1.0]]), np.array([0.5, -0.5, 0.1])),\n",
        "                   np.array([0.58662, 0.40131]))"
      ]
    },
    {
      "cell_type": "code",
      "source": [
        "lr_clf.fit(X_train, y_train)"
      ],
      "metadata": {
        "id": "izJlCioW_mCw"
      },
      "execution_count": 13,
      "outputs": []
    },
    {
      "cell_type": "code",
      "execution_count": 14,
      "metadata": {
        "id": "Oqbl3LXA9-C5"
      },
      "outputs": [],
      "source": [
        "assert np.allclose(lr_clf.weights_, np.array([ 3.1000e-06,  0.0000e+00,  4.1800e-05,  5.4770e-04,  2.2130e-04,\n",
        "        4.8750e-04,  1.3577e-03,  5.9780e-04,  5.6400e-05, -7.0000e-07,\n",
        "        1.6910e-04,  2.5190e-04, -4.3700e-04,  3.6190e-04,  1.0049e-03,\n",
        "        4.2280e-04,  2.5700e-05,  3.0000e-07, -1.1500e-05, -7.2440e-04,\n",
        "       -2.6200e-04,  8.7540e-04,  4.1540e-04, -8.4200e-05, -5.2000e-06,\n",
        "        0.0000e+00, -2.2160e-04, -5.7130e-04,  9.8570e-04,  1.3507e-03,\n",
        "        5.0210e-04, -1.7050e-04, -1.0000e-06,  0.0000e+00, -6.7810e-04,\n",
        "       -1.0515e-03, -4.4500e-05,  3.7160e-04,  4.2100e-04, -8.1800e-05,\n",
        "        0.0000e+00, -5.2000e-06, -5.3410e-04, -2.0393e-03, -8.4310e-04,\n",
        "        1.0400e-04, -1.2390e-04, -1.7880e-04, -1.3200e-05, -4.5000e-06,\n",
        "       -9.4300e-05, -1.1127e-03, -5.0900e-04, -2.1850e-04, -5.6050e-04,\n",
        "       -3.9560e-04, -1.7700e-05, -3.0000e-07,  2.6800e-05,  6.3920e-04,\n",
        "        1.8090e-04, -7.3660e-04, -5.3930e-04, -3.7060e-04, -2.8200e-05]), atol=1e-5)"
      ]
    },
    {
      "cell_type": "code",
      "execution_count": 15,
      "metadata": {
        "id": "FkvEgpkf9-C6"
      },
      "outputs": [],
      "source": [
        "model = CustomLogisticRegression()"
      ]
    },
    {
      "cell_type": "code",
      "execution_count": 16,
      "metadata": {
        "id": "0VX1ZGtX9-C7",
        "colab": {
          "base_uri": "https://localhost:8080/",
          "height": 364
        },
        "outputId": "c918fb29-2f52-4f1d-aa81-43331a8e9fd9"
      },
      "outputs": [
        {
          "output_type": "stream",
          "name": "stderr",
          "text": [
            "/usr/local/lib/python3.7/dist-packages/sklearn/utils/deprecation.py:87: FutureWarning: Function plot_confusion_matrix is deprecated; Function `plot_confusion_matrix` is deprecated in 1.0 and will be removed in 1.2. Use one of the class methods: ConfusionMatrixDisplay.from_predictions or ConfusionMatrixDisplay.from_estimator.\n",
            "  warnings.warn(msg, category=FutureWarning)\n"
          ]
        },
        {
          "output_type": "display_data",
          "data": {
            "text/plain": [
              "<Figure size 432x288 with 2 Axes>"
            ],
            "image/png": "[encoded data removed]"
          },
          "metadata": {
            "needs_background": "light"
          }
        }
      ],
      "source": [
        "train_acc, test_acc = fit_evaluate(model, X_train, y_train, X_test, y_test)"
      ]
    },
    {
      "cell_type": "code",
      "execution_count": 17,
      "metadata": {
        "id": "vMeEnXjy9-C7",
        "colab": {
          "base_uri": "https://localhost:8080/"
        },
        "outputId": "c45b269a-b5a4-4136-e6c3-655aa3b2259d"
      },
      "outputs": [
        {
          "output_type": "execute_result",
          "data": {
            "text/plain": [
              "(0.9109255393180237, 0.9388888888888889)"
            ]
          },
          "metadata": {},
          "execution_count": 17
        }
      ],
      "source": [
        "train_acc, test_acc"
      ]
    },
    {
      "cell_type": "code",
      "execution_count": 18,
      "metadata": {
        "id": "tZHUlBlN9-C8"
      },
      "outputs": [],
      "source": [
        "assert min(train_acc, test_acc) > 0.9"
      ]
    },
    {
      "cell_type": "markdown",
      "metadata": {
        "id": "S6AxwVYv9-C9"
      },
      "source": [
        "**(0.5 points)** Visualize the loss history."
      ]
    },
    {
      "cell_type": "code",
      "execution_count": 19,
      "metadata": {
        "id": "-fjEg5n99-C9",
        "colab": {
          "base_uri": "https://localhost:8080/",
          "height": 501
        },
        "outputId": "d88d5a50-f3fa-4a02-aa21-9f51d82229c8"
      },
      "outputs": [
        {
          "output_type": "execute_result",
          "data": {
            "text/plain": [
              "[<matplotlib.lines.Line2D at 0x7f0dc50b7d90>]"
            ]
          },
          "metadata": {},
          "execution_count": 19
        },
        {
          "output_type": "display_data",
          "data": {
            "text/plain": [
              "<Figure size 864x576 with 1 Axes>"
            ],
            "image/png": "[encoded data removed]"
          },
          "metadata": {
            "needs_background": "light"
          }
        }
      ],
      "source": [
        "## your code\n",
        "plt.figure(figsize=(12, 8))\n",
        "plt.plot(model.hist_losses)"
      ]
    },
    {
      "cell_type": "markdown",
      "metadata": {
        "id": "c3iHcBuM9-C-"
      },
      "source": [
        "**(0.5 points)** Try different learning rates and compare the results. How does the learning rate influence the convergence?"
      ]
    },
    {
      "cell_type": "code",
      "execution_count": 20,
      "metadata": {
        "id": "mu9FQhkI9-C-",
        "colab": {
          "base_uri": "https://localhost:8080/",
          "height": 364
        },
        "outputId": "935e13c6-58dc-453b-c235-b56840138583"
      },
      "outputs": [
        {
          "output_type": "stream",
          "name": "stderr",
          "text": [
            "/usr/local/lib/python3.7/dist-packages/sklearn/utils/deprecation.py:87: FutureWarning: Function plot_confusion_matrix is deprecated; Function `plot_confusion_matrix` is deprecated in 1.0 and will be removed in 1.2. Use one of the class methods: ConfusionMatrixDisplay.from_predictions or ConfusionMatrixDisplay.from_estimator.\n",
            "  warnings.warn(msg, category=FutureWarning)\n"
          ]
        },
        {
          "output_type": "display_data",
          "data": {
            "text/plain": [
              "<Figure size 432x288 with 2 Axes>"
            ],
            "image/png": "[encoded data removed]"
          },
          "metadata": {
            "needs_background": "light"
          }
        }
      ],
      "source": [
        "## your code\n",
        "model2 = CustomLogisticRegression(eta=0.005)\n",
        "model2_res=fit_evaluate(model2, X_train, y_train, X_test, y_test)"
      ]
    },
    {
      "cell_type": "code",
      "source": [
        "model3 = CustomLogisticRegression(eta=0.01)\n",
        "model3_res=fit_evaluate(model3, X_train, y_train, X_test, y_test)"
      ],
      "metadata": {
        "colab": {
          "base_uri": "https://localhost:8080/",
          "height": 364
        },
        "id": "N8MWyAm4U4Ji",
        "outputId": "236c8a39-6d38-4958-9b46-33d9cf42d16b"
      },
      "execution_count": 21,
      "outputs": [
        {
          "output_type": "stream",
          "name": "stderr",
          "text": [
            "/usr/local/lib/python3.7/dist-packages/sklearn/utils/deprecation.py:87: FutureWarning: Function plot_confusion_matrix is deprecated; Function `plot_confusion_matrix` is deprecated in 1.0 and will be removed in 1.2. Use one of the class methods: ConfusionMatrixDisplay.from_predictions or ConfusionMatrixDisplay.from_estimator.\n",
            "  warnings.warn(msg, category=FutureWarning)\n"
          ]
        },
        {
          "output_type": "display_data",
          "data": {
            "text/plain": [
              "<Figure size 432x288 with 2 Axes>"
            ],
            "image/png": "[encoded data removed]"
          },
          "metadata": {
            "needs_background": "light"
          }
        }
      ]
    },
    {
      "cell_type": "code",
      "source": [
        "model4 = CustomLogisticRegression(eta=0.0005)\n",
        "model4_res=fit_evaluate(model4, X_train, y_train, X_test, y_test)"
      ],
      "metadata": {
        "colab": {
          "base_uri": "https://localhost:8080/",
          "height": 364
        },
        "id": "WMHPkAENU4mx",
        "outputId": "da64acda-ce99-45b7-87b3-5f4f1f6b288c"
      },
      "execution_count": 22,
      "outputs": [
        {
          "output_type": "stream",
          "name": "stderr",
          "text": [
            "/usr/local/lib/python3.7/dist-packages/sklearn/utils/deprecation.py:87: FutureWarning: Function plot_confusion_matrix is deprecated; Function `plot_confusion_matrix` is deprecated in 1.0 and will be removed in 1.2. Use one of the class methods: ConfusionMatrixDisplay.from_predictions or ConfusionMatrixDisplay.from_estimator.\n",
            "  warnings.warn(msg, category=FutureWarning)\n"
          ]
        },
        {
          "output_type": "display_data",
          "data": {
            "text/plain": [
              "<Figure size 432x288 with 2 Axes>"
            ],
            "image/png": "[encoded data removed]"
          },
          "metadata": {
            "needs_background": "light"
          }
        }
      ]
    },
    {
      "cell_type": "code",
      "source": [
        "np.array([[train_acc, test_acc],model2_res,model3_res,model4_res])"
      ],
      "metadata": {
        "colab": {
          "base_uri": "https://localhost:8080/"
        },
        "id": "MAE6D4zVX8ZU",
        "outputId": "c1cc962b-b01f-4465-a921-967f808796ae"
      },
      "execution_count": 23,
      "outputs": [
        {
          "output_type": "execute_result",
          "data": {
            "text/plain": [
              "array([[0.91092554, 0.93888889],\n",
              "       [0.9157968 , 0.94444444],\n",
              "       [0.77313848, 0.75277778],\n",
              "       [0.90605428, 0.925     ]])"
            ]
          },
          "metadata": {},
          "execution_count": 23
        }
      ]
    },
    {
      "cell_type": "code",
      "source": [
        "pd.DataFrame(np.array([[train_acc, test_acc],model2_res,model3_res,model4_res]), index=['0.001','0.005','0.01','0.0005'], columns=['train_acc', 'test_acc']).plot.bar(\n",
        "    grid=True, figsize=[12,8], yticks=[0, 0.5, 0.8, 0.9, 0.94], xlabel='learning rate').legend(loc='center right');"
      ],
      "metadata": {
        "colab": {
          "base_uri": "https://localhost:8080/",
          "height": 521
        },
        "id": "oFtgm8OoYM5u",
        "outputId": "5b81a4f4-a411-444b-c4fe-54a72ea24efd"
      },
      "execution_count": 24,
      "outputs": [
        {
          "output_type": "display_data",
          "data": {
            "text/plain": [
              "<Figure size 864x576 with 1 Axes>"
            ],
            "image/png": "[encoded data removed]"
          },
          "metadata": {
            "needs_background": "light"
          }
        }
      ]
    },
    {
      "cell_type": "markdown",
      "metadata": {
        "id": "6hWE5Qk-9-DA"
      },
      "source": [
        "We should carefully choose learning rate, as it dramatically influence on the accuracy of the model. In our case, model with 0.005 learning rate  shows better results\n",
        "\n",
        "\"If the learning rate is low, then training is more reliable, but optimization will take a lot of time because steps towards the minimum of the loss function are tiny.\n",
        "\n",
        "If the learning rate is high, then training may not converge or even diverge. Weight changes can be so big that the optimizer overshoots the minimum and makes the loss worse.\"\n",
        "[source](https://towardsdatascience.com/estimating-optimal-learning-rate-for-a-deep-neural-network-ce32f2556ce0)"
      ]
    },
    {
      "cell_type": "markdown",
      "metadata": {
        "id": "cO23T7pU9-DB"
      },
      "source": [
        "**(0.5 points)** Try different regularization parameter values and compare the model quality."
      ]
    },
    {
      "cell_type": "code",
      "execution_count": 25,
      "metadata": {
        "id": "xkuE7Xi49-DC",
        "colab": {
          "base_uri": "https://localhost:8080/",
          "height": 364
        },
        "outputId": "0d7ee037-1a2c-44a4-bdea-4c8e9c5e7fd6"
      },
      "outputs": [
        {
          "output_type": "stream",
          "name": "stderr",
          "text": [
            "/usr/local/lib/python3.7/dist-packages/sklearn/utils/deprecation.py:87: FutureWarning: Function plot_confusion_matrix is deprecated; Function `plot_confusion_matrix` is deprecated in 1.0 and will be removed in 1.2. Use one of the class methods: ConfusionMatrixDisplay.from_predictions or ConfusionMatrixDisplay.from_estimator.\n",
            "  warnings.warn(msg, category=FutureWarning)\n"
          ]
        },
        {
          "output_type": "display_data",
          "data": {
            "text/plain": [
              "<Figure size 432x288 with 2 Axes>"
            ],
            "image/png": "[encoded data removed]"
          },
          "metadata": {
            "needs_background": "light"
          }
        }
      ],
      "source": [
        "## your code\n",
        "model2 = CustomLogisticRegression(C=0.1)\n",
        "model2_res=fit_evaluate(model2, X_train, y_train, X_test, y_test)"
      ]
    },
    {
      "cell_type": "code",
      "source": [
        "model3 = CustomLogisticRegression(C=0.5)\n",
        "model3_res=fit_evaluate(model3, X_train, y_train, X_test, y_test)"
      ],
      "metadata": {
        "colab": {
          "base_uri": "https://localhost:8080/",
          "height": 364
        },
        "id": "mkNgdyMSeHnC",
        "outputId": "25024706-8c96-4d76-fee1-583d5a6cd46a"
      },
      "execution_count": 26,
      "outputs": [
        {
          "output_type": "stream",
          "name": "stderr",
          "text": [
            "/usr/local/lib/python3.7/dist-packages/sklearn/utils/deprecation.py:87: FutureWarning: Function plot_confusion_matrix is deprecated; Function `plot_confusion_matrix` is deprecated in 1.0 and will be removed in 1.2. Use one of the class methods: ConfusionMatrixDisplay.from_predictions or ConfusionMatrixDisplay.from_estimator.\n",
            "  warnings.warn(msg, category=FutureWarning)\n"
          ]
        },
        {
          "output_type": "display_data",
          "data": {
            "text/plain": [
              "<Figure size 432x288 with 2 Axes>"
            ],
            "image/png": "[encoded data removed]"
          },
          "metadata": {
            "needs_background": "light"
          }
        }
      ]
    },
    {
      "cell_type": "code",
      "source": [
        "model4 = CustomLogisticRegression(C=5)\n",
        "model4_res=fit_evaluate(model4, X_train, y_train, X_test, y_test)"
      ],
      "metadata": {
        "colab": {
          "base_uri": "https://localhost:8080/",
          "height": 364
        },
        "id": "ykxJqYu-eLhs",
        "outputId": "3e34bfaf-6945-48ea-d9d9-6d731957ece8"
      },
      "execution_count": 27,
      "outputs": [
        {
          "output_type": "stream",
          "name": "stderr",
          "text": [
            "/usr/local/lib/python3.7/dist-packages/sklearn/utils/deprecation.py:87: FutureWarning: Function plot_confusion_matrix is deprecated; Function `plot_confusion_matrix` is deprecated in 1.0 and will be removed in 1.2. Use one of the class methods: ConfusionMatrixDisplay.from_predictions or ConfusionMatrixDisplay.from_estimator.\n",
            "  warnings.warn(msg, category=FutureWarning)\n"
          ]
        },
        {
          "output_type": "display_data",
          "data": {
            "text/plain": [
              "<Figure size 432x288 with 2 Axes>"
            ],
            "image/png": "[encoded data removed]"
          },
          "metadata": {
            "needs_background": "light"
          }
        }
      ]
    },
    {
      "cell_type": "code",
      "source": [
        "model5 = CustomLogisticRegression(C=200)\n",
        "model5_res=fit_evaluate(model5, X_train, y_train, X_test, y_test)"
      ],
      "metadata": {
        "colab": {
          "base_uri": "https://localhost:8080/",
          "height": 364
        },
        "id": "XzMXrcUjeNDg",
        "outputId": "b9abfd86-b786-457f-d70e-0f7e4773afa1"
      },
      "execution_count": 28,
      "outputs": [
        {
          "output_type": "stream",
          "name": "stderr",
          "text": [
            "/usr/local/lib/python3.7/dist-packages/sklearn/utils/deprecation.py:87: FutureWarning: Function plot_confusion_matrix is deprecated; Function `plot_confusion_matrix` is deprecated in 1.0 and will be removed in 1.2. Use one of the class methods: ConfusionMatrixDisplay.from_predictions or ConfusionMatrixDisplay.from_estimator.\n",
            "  warnings.warn(msg, category=FutureWarning)\n"
          ]
        },
        {
          "output_type": "display_data",
          "data": {
            "text/plain": [
              "<Figure size 432x288 with 2 Axes>"
            ],
            "image/png": "[encoded data removed]"
          },
          "metadata": {
            "needs_background": "light"
          }
        }
      ]
    },
    {
      "cell_type": "code",
      "source": [
        "pd.DataFrame(np.array([[train_acc, test_acc],model2_res,model3_res,model4_res,model5_res]), index=['1','0.1','0.5','5','200'], columns=['train_acc', 'test_acc']).plot.bar(\n",
        "    grid=True, figsize=[12,8], yticks=[0, 0.5, 0.8, 0.9, 0.94], xlabel='Regularization coef (C)').legend(loc='center right');"
      ],
      "metadata": {
        "colab": {
          "base_uri": "https://localhost:8080/",
          "height": 506
        },
        "id": "oh_p-Ribegm-",
        "outputId": "14a6177d-0285-4c0c-bda2-5b73e71e14ba"
      },
      "execution_count": 29,
      "outputs": [
        {
          "output_type": "display_data",
          "data": {
            "text/plain": [
              "<Figure size 864x576 with 1 Axes>"
            ],
            "image/png": "[encoded data removed]"
          },
          "metadata": {
            "needs_background": "light"
          }
        }
      ]
    },
    {
      "cell_type": "code",
      "source": [
        "coefs=pd.DataFrame(np.array([model.weights_,model2.weights_,model3.weights_,model4.weights_,model5.weights_]), index=['1','0.1','0.5','5','200'])"
      ],
      "metadata": {
        "id": "HS1Md-EXRtGY"
      },
      "execution_count": 30,
      "outputs": []
    },
    {
      "cell_type": "code",
      "source": [
        "coefs.sum(axis=1)"
      ],
      "metadata": {
        "colab": {
          "base_uri": "https://localhost:8080/"
        },
        "id": "5L2I9pT8VYlS",
        "outputId": "4e1391ad-39cd-4f11-9548-d9ad7e5b801e"
      },
      "execution_count": 31,
      "outputs": [
        {
          "output_type": "execute_result",
          "data": {
            "text/plain": [
              "1     -0.114151\n",
              "0.1   -0.038594\n",
              "0.5   -0.088039\n",
              "5     -0.152168\n",
              "200   -0.165558\n",
              "dtype: float64"
            ]
          },
          "metadata": {},
          "execution_count": 31
        }
      ]
    },
    {
      "cell_type": "markdown",
      "metadata": {
        "id": "go-in18T9-DE"
      },
      "source": [
        "Regularization can be used to train models that generalize better on unseen data, by preventing the algorithm from overfitting the training dataset.\n",
        "\n",
        "Higher values lead to smaller coefficients, but too high values for *C* can lead to underfitting (in our model it looks stable)."
      ]
    },
    {
      "cell_type": "markdown",
      "metadata": {
        "id": "o4u7ihQW9-DF"
      },
      "source": [
        "**(0.5 points)** Compare zero initialization and random initialization. "
      ]
    },
    {
      "cell_type": "code",
      "execution_count": 32,
      "metadata": {
        "id": "Vu_jaQ0X9-DG",
        "colab": {
          "base_uri": "https://localhost:8080/",
          "height": 364
        },
        "outputId": "334cc7d4-e5dc-4996-9281-dbf6897d27e6"
      },
      "outputs": [
        {
          "output_type": "stream",
          "name": "stderr",
          "text": [
            "/usr/local/lib/python3.7/dist-packages/sklearn/utils/deprecation.py:87: FutureWarning: Function plot_confusion_matrix is deprecated; Function `plot_confusion_matrix` is deprecated in 1.0 and will be removed in 1.2. Use one of the class methods: ConfusionMatrixDisplay.from_predictions or ConfusionMatrixDisplay.from_estimator.\n",
            "  warnings.warn(msg, category=FutureWarning)\n"
          ]
        },
        {
          "output_type": "display_data",
          "data": {
            "text/plain": [
              "<Figure size 432x288 with 2 Axes>"
            ],
            "image/png": "[encoded data removed]"
          },
          "metadata": {
            "needs_background": "light"
          }
        }
      ],
      "source": [
        "## your code\n",
        "train_acc, test_acc = fit_evaluate(model, X_train, y_train, X_test, y_test)"
      ]
    },
    {
      "cell_type": "code",
      "source": [
        "train_acc, test_acc"
      ],
      "metadata": {
        "colab": {
          "base_uri": "https://localhost:8080/"
        },
        "id": "51ZGswnPashk",
        "outputId": "3e99aba5-9aa8-45fb-ea3b-678c7b2d8d19"
      },
      "execution_count": 33,
      "outputs": [
        {
          "output_type": "execute_result",
          "data": {
            "text/plain": [
              "(0.9116214335421016, 0.9361111111111111)"
            ]
          },
          "metadata": {},
          "execution_count": 33
        }
      ]
    },
    {
      "cell_type": "code",
      "source": [
        "model2 = CustomLogisticRegression(zero_init=False)\n",
        "fit_evaluate(model2, X_train, y_train, X_test, y_test)"
      ],
      "metadata": {
        "colab": {
          "base_uri": "https://localhost:8080/",
          "height": 383
        },
        "id": "HH_OuIidX1nF",
        "outputId": "272f2d47-e897-4c9a-ccb3-cd0adf4e2f14"
      },
      "execution_count": 34,
      "outputs": [
        {
          "output_type": "stream",
          "name": "stderr",
          "text": [
            "/usr/local/lib/python3.7/dist-packages/sklearn/utils/deprecation.py:87: FutureWarning: Function plot_confusion_matrix is deprecated; Function `plot_confusion_matrix` is deprecated in 1.0 and will be removed in 1.2. Use one of the class methods: ConfusionMatrixDisplay.from_predictions or ConfusionMatrixDisplay.from_estimator.\n",
            "  warnings.warn(msg, category=FutureWarning)\n"
          ]
        },
        {
          "output_type": "display_data",
          "data": {
            "text/plain": [
              "<Figure size 432x288 with 2 Axes>"
            ],
            "image/png": "[encoded data removed]"
          },
          "metadata": {
            "needs_background": "light"
          }
        },
        {
          "output_type": "execute_result",
          "data": {
            "text/plain": [
              "(0.9109255393180237, 0.9388888888888889)"
            ]
          },
          "metadata": {},
          "execution_count": 34
        }
      ]
    },
    {
      "cell_type": "markdown",
      "metadata": {
        "id": "TRacm9OT9-DH"
      },
      "source": [
        "It seems like testing accuracy for random initialization is slightly better, while training accuracy is better for zero. Usually it's better to use random, however we should closely look on the range of randomness. [source](https://towardsdatascience.com/weight-initialization-techniques-in-neural-networks-26c649eb3b78)\n"
      ]
    },
    {
      "cell_type": "markdown",
      "metadata": {
        "id": "BvxCiqV79-DI"
      },
      "source": [
        "## Part 2: Implementing KNN Classifier"
      ]
    },
    {
      "cell_type": "markdown",
      "metadata": {
        "id": "5tE2mnJT9-DJ"
      },
      "source": [
        "In this task you need to implement weighted K-Neighbors Classifier."
      ]
    },
    {
      "cell_type": "markdown",
      "metadata": {
        "id": "yVc6SyF69-DK"
      },
      "source": [
        "Recall that training a KNN classifier is simply memorizing a training sample. \n",
        "\n",
        "The process of applying a classifier for one object is to find the distances from it to all objects in the training data, then select the k nearest objects (neighbors) and return the most common class among these objects."
      ]
    },
    {
      "cell_type": "markdown",
      "metadata": {
        "id": "qJmA5DDV9-DK"
      },
      "source": [
        "You can also give the nearest neighbors weights in accordance with the distance of the object to them. In the simplest case (as in your assignment), you can set the weights inversely proportional to that distance. \n",
        "\n",
        "$$w_{i} = \\frac{1}{d_{i} + eps},$$\n",
        "\n",
        "where $d_{i}$ is the distance between object and i-th nearest neighbor and $eps$ is the small value to prevent division by zero.\n",
        "\n",
        "In case of 'uniform' weights, all k nearest neighbors are equivalent (have equal weight, for example $w_{i} = 1, \\forall i \\in(1,k)$)."
      ]
    },
    {
      "cell_type": "markdown",
      "metadata": {
        "id": "OwLPEM--9-DL"
      },
      "source": [
        "To predict the probability of classes, it is necessary to normalize the weights of each class, dividing them by the sum:\n",
        "\n",
        "$$p_{i} = \\frac{w_{i}}{\\sum_{j=1}^{c}w_{j}},$$\n",
        "\n",
        "where $p_i$ is probability of i-th class and $c$ is the number of classes."
      ]
    },
    {
      "cell_type": "markdown",
      "metadata": {
        "id": "hJx5XKkQ9-DL"
      },
      "source": [
        "**(2 points)** Implement the algorithm and use it to classify the digits. By implementing this algorithm, you will be able to classify numbers not only into \"even\" or \"odd\", but into their real representation."
      ]
    },
    {
      "cell_type": "code",
      "execution_count": 159,
      "metadata": {
        "id": "Urr56YC_9-DM"
      },
      "outputs": [],
      "source": [
        "class CustomKNeighborsClassifier:\n",
        "    _estimator_type = \"classifier\"\n",
        "    \n",
        "    def __init__(self, n_neighbors=5, weights='uniform', eps=1e-9):\n",
        "        \"\"\"K-Nearest Neighbors classifier.\n",
        "        \n",
        "        Args:\n",
        "            n_neighbors: int, default=5\n",
        "                Number of neighbors to use by default for :meth:`kneighbors` queries.\n",
        "            weights : {'uniform', 'distance'} or callable, default='uniform'\n",
        "                Weight function used in prediction.  Possible values:\n",
        "                - 'uniform' : uniform weights.  All points in each neighborhood\n",
        "                  are weighted equally.\n",
        "                - 'distance' : weight points by the inverse of their distance.\n",
        "                  in this case, closer neighbors of a query point will have a\n",
        "                  greater influence than neighbors which are further away.\n",
        "            eps : float, default=1e-5\n",
        "                Epsilon to prevent division by 0 \n",
        "        \"\"\"\n",
        "        self.n_neighbors = n_neighbors\n",
        "        self.weights = weights\n",
        "        self.eps = eps\n",
        "        \n",
        "    \n",
        "    def get_pairwise_distances(self, X, Y):\n",
        "        \"\"\"\n",
        "        Returnes matrix of the pairwise distances between the rows from both X and Y.\n",
        "        Args:\n",
        "            X: numpy array of shape (n_samples, n_features)\n",
        "            Y: numpy array of shape (k_samples, n_features)\n",
        "        Returns:\n",
        "            P: numpy array of shape (n_samples, k_samples)\n",
        "                Matrix in which (i, j) value is the distance \n",
        "                between i'th row from the X and j'th row from the Y.\n",
        "        \"\"\"\n",
        "        # <your code>\n",
        "        return metrics.pairwise.euclidean_distances(X,Y)\n",
        "        pass\n",
        "    \n",
        "    \n",
        "    def get_class_weights(self, y, weights):\n",
        "        \"\"\"\n",
        "        Returns a vector with sum of weights for each class \n",
        "        Args:\n",
        "            y: numpy array of shape (n_samles,)\n",
        "            weights: numpy array of shape (n_samples,)\n",
        "                The weights of the corresponding points of y.\n",
        "        Returns:\n",
        "            p: numpy array of shape (n_classes)\n",
        "                Array where the value at the i-th position \n",
        "                corresponds to the weight of the i-th class.\n",
        "        \"\"\"\n",
        "        # <your code>\n",
        "        w_sum = []\n",
        "        for n in self.classes_:\n",
        "            w_c = 0\n",
        "            for i,j in enumerate(y):\n",
        "                if j == n:\n",
        "                    w_c += weights[i]\n",
        "            w_sum.append(w_c)\n",
        "        return w_sum\n",
        "        pass\n",
        "            \n",
        "        \n",
        "    def fit(self, X, y):\n",
        "        \"\"\"Fit the model.\n",
        "        \n",
        "        Args:\n",
        "            X: numpy array of shape (n_samples, n_features)\n",
        "            y: numpy array of shape (n_samples,)\n",
        "                Target vector.        \n",
        "        \"\"\"\n",
        "        self.points = X\n",
        "        self.y = y\n",
        "        self.classes_ = np.unique(y)\n",
        "        \n",
        "        \n",
        "    def predict_proba(self, X):\n",
        "        \"\"\"Predict positive class probabilities.\n",
        "        \n",
        "        Args:\n",
        "            X: numpy array of shape (n_samples, n_features)\n",
        "        Returns:\n",
        "            y: numpy array of shape (n_samples, n_classes)\n",
        "                Vector containing positive class probabilities.\n",
        "        \"\"\"\n",
        "        if hasattr(self, 'points'):\n",
        "            P = self.get_pairwise_distances(X, self.points)\n",
        "            nearest_points  = np.argsort(P,axis=1)[:,:self.n_neighbors]\n",
        "            distances  = P[np.arange(len(P))[:,None], nearest_points]\n",
        "            classes = self.y[nearest_points]\n",
        "            weights_of_points = np.ones(P.shape)\n",
        "            if self.weights == 'distance':\n",
        "                weights_of_points = 1 / np.maximum(distances, self.eps)\n",
        "            count_labels =[]\n",
        "            for i,_ in enumerate(P):\n",
        "                count_labels.append(self.get_class_weights(classes[i], weights_of_points[i]))\n",
        "            #print(count_labels)\n",
        "            count_labels=np.array(count_labels)\n",
        "            res_weig=count_labels/np.expand_dims(count_labels.sum(1),1)\n",
        "            return res_weig\n",
        "            pass\n",
        "        \n",
        "        else: \n",
        "            raise NotFittedError(\"CustomKNeighborsClassifier instance is not fitted yet\")\n",
        "            \n",
        "        \n",
        "    def predict(self, X):\n",
        "        \"\"\"Predict classes.\n",
        "        \n",
        "        Args:\n",
        "            X: numpy array of shape (n_samples, n_features)\n",
        "        Returns:\n",
        "            y: numpy array of shape (n_samples,)\n",
        "                Vector containing predicted class labels.\n",
        "        \"\"\"\n",
        "        # <your code>\n",
        "        return self.predict_proba(X).argmax(1)\n",
        "        pass"
      ]
    },
    {
      "cell_type": "code",
      "execution_count": 160,
      "metadata": {
        "id": "-ccnmw_F9-DN"
      },
      "outputs": [],
      "source": [
        "model = CustomKNeighborsClassifier(n_neighbors=5, weights='distance')\n",
        "knn = KNeighborsClassifier(n_neighbors=5, weights='distance')"
      ]
    },
    {
      "cell_type": "code",
      "source": [
        "print(model.get_pairwise_distances(np.array([[0  , 1]  , [1, 1]]),  np.array([[0.5, 0.5], [1, 0]])))"
      ],
      "metadata": {
        "colab": {
          "base_uri": "https://localhost:8080/"
        },
        "id": "nKExMIivVQ0G",
        "outputId": "c602952d-13b3-4d66-97ed-4f486bd37fd5"
      },
      "execution_count": 161,
      "outputs": [
        {
          "output_type": "stream",
          "name": "stdout",
          "text": [
            "[[0.70710678 1.41421356]\n",
            " [0.70710678 1.        ]]\n"
          ]
        }
      ]
    },
    {
      "cell_type": "code",
      "execution_count": 162,
      "metadata": {
        "id": "lvD1lx1V9-DO"
      },
      "outputs": [],
      "source": [
        "assert np.allclose(model.get_pairwise_distances(np.array([[0  , 1]  , [1, 1]]), \n",
        "                                                np.array([[0.5, 0.5], [1, 0]])),\n",
        "                   np.array([[0.70710678, 1.41421356],\n",
        "                             [0.70710678, 1.        ]]))"
      ]
    },
    {
      "cell_type": "code",
      "source": [
        "model.get_class_weights(np.array(['one', 'one', 'three', 'two']), np.array([1, 1, 0, 4]))"
      ],
      "metadata": {
        "colab": {
          "base_uri": "https://localhost:8080/"
        },
        "id": "h5YoizjoQQwn",
        "outputId": "19568630-9012-4cec-f75d-6ba7c62e936a"
      },
      "execution_count": 175,
      "outputs": [
        {
          "output_type": "execute_result",
          "data": {
            "text/plain": [
              "[2, 4, 0]"
            ]
          },
          "metadata": {},
          "execution_count": 175
        }
      ]
    },
    {
      "cell_type": "code",
      "execution_count": 176,
      "metadata": {
        "id": "HddWER7H9-DP"
      },
      "outputs": [],
      "source": [
        "model.classes_ = ['one', 'two', 'three']\n",
        "assert np.allclose(model.get_class_weights(np.array(['one', 'one', 'three', 'two']), np.array([1, 1, 0, 4])), \n",
        "                   np.array([2,4,0]))"
      ]
    },
    {
      "cell_type": "code",
      "execution_count": 177,
      "metadata": {
        "id": "c7rp2bIf9-DQ",
        "colab": {
          "base_uri": "https://localhost:8080/",
          "height": 307
        },
        "outputId": "c0488430-47f7-48c0-ef42-7a797f07f8f4"
      },
      "outputs": [
        {
          "output_type": "display_data",
          "data": {
            "text/plain": [
              "<Figure size 720x360 with 21 Axes>"
            ],
            "image/png": "[encoded data removed]"
          },
          "metadata": {
            "needs_background": "light"
          }
        }
      ],
      "source": [
        "X, y = datasets.load_digits(n_class=10, return_X_y=True)\n",
        "\n",
        "_, axes = plt.subplots(nrows=3, ncols=7, figsize=(10, 5))\n",
        "for ax, image, label in zip(axes.flatten(), X, y):\n",
        "    ax.set_axis_off()\n",
        "    ax.imshow(image.reshape((8, 8)), cmap=plt.cm.gray_r if label % 2 else plt.cm.afmhot_r)\n",
        "    ax.set_title(label)\n",
        "\n",
        "X_train, X_test, y_train, y_test = train_test_split(X, y, test_size=0.2, shuffle=True, random_state=42)"
      ]
    },
    {
      "cell_type": "code",
      "execution_count": 165,
      "metadata": {
        "id": "zuT8j3uL9-DR"
      },
      "outputs": [],
      "source": [
        "model.fit(X_train, y_train)\n",
        "knn.fit(X_train, list(map(str, y_train)));"
      ]
    },
    {
      "cell_type": "code",
      "execution_count": 166,
      "metadata": {
        "id": "ALrD0JJh9-DR"
      },
      "outputs": [],
      "source": [
        "assert np.allclose(model.predict_proba(X_test), knn.predict_proba(X_test))"
      ]
    },
    {
      "cell_type": "code",
      "execution_count": 167,
      "metadata": {
        "id": "f32tLvGZ9-DS",
        "colab": {
          "base_uri": "https://localhost:8080/",
          "height": 364
        },
        "outputId": "61d50b69-d893-42fc-e312-bea960e8bb53"
      },
      "outputs": [
        {
          "output_type": "stream",
          "name": "stderr",
          "text": [
            "/usr/local/lib/python3.7/dist-packages/sklearn/utils/deprecation.py:87: FutureWarning: Function plot_confusion_matrix is deprecated; Function `plot_confusion_matrix` is deprecated in 1.0 and will be removed in 1.2. Use one of the class methods: ConfusionMatrixDisplay.from_predictions or ConfusionMatrixDisplay.from_estimator.\n",
            "  warnings.warn(msg, category=FutureWarning)\n"
          ]
        },
        {
          "output_type": "display_data",
          "data": {
            "text/plain": [
              "<Figure size 432x288 with 2 Axes>"
            ],
            "image/png": "[encoded data removed]"
          },
          "metadata": {
            "needs_background": "light"
          }
        }
      ],
      "source": [
        "train_acc, test_acc = fit_evaluate(model, X_train, y_train, X_test, y_test)"
      ]
    },
    {
      "cell_type": "code",
      "execution_count": 168,
      "metadata": {
        "id": "OjgAkd839-DS"
      },
      "outputs": [],
      "source": [
        "assert train_acc == 1\n",
        "assert test_acc > 0.98"
      ]
    },
    {
      "cell_type": "markdown",
      "metadata": {
        "id": "7Ix8bmAa9-DT"
      },
      "source": [
        "**(0.5 points)** Take a look at the confusion matrix and tell what numbers the model confuses and why this happens."
      ]
    },
    {
      "cell_type": "markdown",
      "metadata": {
        "id": "xWt-zJSO9-DU"
      },
      "source": [
        "We can see that some digits are similiar, e.g. (9 with 4 and 5, or 5 with 6 and 9)"
      ]
    },
    {
      "cell_type": "markdown",
      "metadata": {
        "id": "e2QtFYHG9-DU"
      },
      "source": [
        "**(0.5 points)** Try different n_neighbors parameters and compare the output probabilities of the model."
      ]
    },
    {
      "cell_type": "code",
      "execution_count": 184,
      "metadata": {
        "id": "B8XOWB7m9-DV",
        "colab": {
          "base_uri": "https://localhost:8080/",
          "height": 1000
        },
        "outputId": "f691ace2-7a61-4d54-e377-cba3c5c343eb"
      },
      "outputs": [
        {
          "output_type": "stream",
          "name": "stderr",
          "text": [
            "/usr/local/lib/python3.7/dist-packages/sklearn/utils/deprecation.py:87: FutureWarning: Function plot_confusion_matrix is deprecated; Function `plot_confusion_matrix` is deprecated in 1.0 and will be removed in 1.2. Use one of the class methods: ConfusionMatrixDisplay.from_predictions or ConfusionMatrixDisplay.from_estimator.\n",
            "  warnings.warn(msg, category=FutureWarning)\n"
          ]
        },
        {
          "output_type": "display_data",
          "data": {
            "text/plain": [
              "<Figure size 432x288 with 2 Axes>"
            ],
            "image/png": "[encoded data removed]"
          },
          "metadata": {
            "needs_background": "light"
          }
        },
        {
          "output_type": "stream",
          "name": "stdout",
          "text": [
            "1.0 0.9777777777777777\n"
          ]
        },
        {
          "output_type": "stream",
          "name": "stderr",
          "text": [
            "/usr/local/lib/python3.7/dist-packages/sklearn/utils/deprecation.py:87: FutureWarning: Function plot_confusion_matrix is deprecated; Function `plot_confusion_matrix` is deprecated in 1.0 and will be removed in 1.2. Use one of the class methods: ConfusionMatrixDisplay.from_predictions or ConfusionMatrixDisplay.from_estimator.\n",
            "  warnings.warn(msg, category=FutureWarning)\n"
          ]
        },
        {
          "output_type": "display_data",
          "data": {
            "text/plain": [
              "<Figure size 432x288 with 2 Axes>"
            ],
            "image/png": "[encoded data removed]"
          },
          "metadata": {
            "needs_background": "light"
          }
        },
        {
          "output_type": "stream",
          "name": "stdout",
          "text": [
            "1.0 0.9833333333333333\n"
          ]
        },
        {
          "output_type": "stream",
          "name": "stderr",
          "text": [
            "/usr/local/lib/python3.7/dist-packages/sklearn/utils/deprecation.py:87: FutureWarning: Function plot_confusion_matrix is deprecated; Function `plot_confusion_matrix` is deprecated in 1.0 and will be removed in 1.2. Use one of the class methods: ConfusionMatrixDisplay.from_predictions or ConfusionMatrixDisplay.from_estimator.\n",
            "  warnings.warn(msg, category=FutureWarning)\n"
          ]
        },
        {
          "output_type": "display_data",
          "data": {
            "text/plain": [
              "<Figure size 432x288 with 2 Axes>"
            ],
            "image/png": "[encoded data removed]"
          },
          "metadata": {
            "needs_background": "light"
          }
        },
        {
          "output_type": "stream",
          "name": "stdout",
          "text": [
            "1.0 0.9888888888888889\n"
          ]
        },
        {
          "output_type": "stream",
          "name": "stderr",
          "text": [
            "/usr/local/lib/python3.7/dist-packages/sklearn/utils/deprecation.py:87: FutureWarning: Function plot_confusion_matrix is deprecated; Function `plot_confusion_matrix` is deprecated in 1.0 and will be removed in 1.2. Use one of the class methods: ConfusionMatrixDisplay.from_predictions or ConfusionMatrixDisplay.from_estimator.\n",
            "  warnings.warn(msg, category=FutureWarning)\n"
          ]
        },
        {
          "output_type": "display_data",
          "data": {
            "text/plain": [
              "<Figure size 432x288 with 2 Axes>"
            ],
            "image/png": "[encoded data removed]"
          },
          "metadata": {
            "needs_background": "light"
          }
        },
        {
          "output_type": "stream",
          "name": "stdout",
          "text": [
            "1.0 0.9805555555555555\n"
          ]
        }
      ],
      "source": [
        "## your code\n",
        "model1 = CustomKNeighborsClassifier(n_neighbors=1, weights='distance')\n",
        "train_acc, test_acc = fit_evaluate(model1, X_train, y_train, X_test, y_test)\n",
        "print(train_acc, test_acc)\n",
        "model2 = CustomKNeighborsClassifier(n_neighbors=3, weights='distance')\n",
        "train_acc, test_acc = fit_evaluate(model2, X_train, y_train, X_test, y_test)\n",
        "print(train_acc, test_acc)\n",
        "model3 = CustomKNeighborsClassifier(n_neighbors=7, weights='distance')\n",
        "train_acc, test_acc = fit_evaluate(model3, X_train, y_train, X_test, y_test)\n",
        "print(train_acc, test_acc)\n",
        "model4 = CustomKNeighborsClassifier(n_neighbors=9, weights='distance')\n",
        "train_acc, test_acc = fit_evaluate(model4, X_train, y_train, X_test, y_test)\n",
        "print(train_acc, test_acc)"
      ]
    },
    {
      "cell_type": "markdown",
      "metadata": {
        "id": "XuY-fovA9-DV"
      },
      "source": [
        "k should be reasonable: small values are more susceptible to noise, while large ones lose some information and take up more processing power."
      ]
    },
    {
      "cell_type": "markdown",
      "metadata": {
        "id": "V1xDTV189-DW"
      },
      "source": [
        "**(0.5 points)** Compare both 'uniform' and 'distance' weights and share your thoughts in what situations which parameter can be better."
      ]
    },
    {
      "cell_type": "code",
      "execution_count": 185,
      "metadata": {
        "id": "C7-0JB3c9-DW",
        "colab": {
          "base_uri": "https://localhost:8080/",
          "height": 728
        },
        "outputId": "2df65d14-27fd-42c3-cf9a-43000483447c"
      },
      "outputs": [
        {
          "output_type": "stream",
          "name": "stderr",
          "text": [
            "/usr/local/lib/python3.7/dist-packages/sklearn/utils/deprecation.py:87: FutureWarning: Function plot_confusion_matrix is deprecated; Function `plot_confusion_matrix` is deprecated in 1.0 and will be removed in 1.2. Use one of the class methods: ConfusionMatrixDisplay.from_predictions or ConfusionMatrixDisplay.from_estimator.\n",
            "  warnings.warn(msg, category=FutureWarning)\n"
          ]
        },
        {
          "output_type": "display_data",
          "data": {
            "text/plain": [
              "<Figure size 432x288 with 2 Axes>"
            ],
            "image/png": "[encoded data removed]"
          },
          "metadata": {
            "needs_background": "light"
          }
        },
        {
          "output_type": "stream",
          "name": "stdout",
          "text": [
            "1.0 0.9861111111111112\n"
          ]
        },
        {
          "output_type": "stream",
          "name": "stderr",
          "text": [
            "/usr/local/lib/python3.7/dist-packages/sklearn/utils/deprecation.py:87: FutureWarning: Function plot_confusion_matrix is deprecated; Function `plot_confusion_matrix` is deprecated in 1.0 and will be removed in 1.2. Use one of the class methods: ConfusionMatrixDisplay.from_predictions or ConfusionMatrixDisplay.from_estimator.\n",
            "  warnings.warn(msg, category=FutureWarning)\n"
          ]
        },
        {
          "output_type": "display_data",
          "data": {
            "text/plain": [
              "<Figure size 432x288 with 2 Axes>"
            ],
            "image/png": "[encoded data removed]"
          },
          "metadata": {
            "needs_background": "light"
          }
        },
        {
          "output_type": "stream",
          "name": "stdout",
          "text": [
            "0.9895615866388309 0.9861111111111112\n"
          ]
        }
      ],
      "source": [
        "## your code\n",
        "model1 = CustomKNeighborsClassifier(weights='distance')\n",
        "train_acc, test_acc = fit_evaluate(model1, X_train, y_train, X_test, y_test)\n",
        "print(train_acc, test_acc)\n",
        "model2 = CustomKNeighborsClassifier(weights='uniform')\n",
        "train_acc, test_acc = fit_evaluate(model2, X_train, y_train, X_test, y_test)\n",
        "print(train_acc, test_acc)"
      ]
    },
    {
      "cell_type": "markdown",
      "metadata": {
        "id": "ypbQWOdD9-DX"
      },
      "source": [
        "it looks similiar, but training accuracy is highier for distance one. Usually model with distance parameter seems to overfit model."
      ]
    },
    {
      "cell_type": "markdown",
      "metadata": {
        "id": "17ob_Jjr9-DX"
      },
      "source": [
        "**(0.5 points)** Suggest another distance measurement function that could improve the quality of the classification for this task. "
      ]
    },
    {
      "cell_type": "markdown",
      "metadata": {
        "id": "TZfb2uSK9-DY"
      },
      "source": [
        "< your thoughts >"
      ]
    },
    {
      "cell_type": "markdown",
      "metadata": {
        "id": "5WhRThE89-DY"
      },
      "source": [
        "**(0.5 points)** Suggest different task and distance function that you think would be suitable for it."
      ]
    },
    {
      "cell_type": "markdown",
      "metadata": {
        "id": "e3UT-Lsc9-DY"
      },
      "source": [
        "< your thoughts >"
      ]
    },
    {
      "cell_type": "markdown",
      "metadata": {
        "id": "gT8KUKaz9-DZ"
      },
      "source": [
        "## Part 3: Synthetic Titanic Survival Prediction"
      ]
    },
    {
      "cell_type": "markdown",
      "metadata": {
        "id": "pCoJxsOg9-DZ"
      },
      "source": [
        "### Dataset\n",
        "\n",
        "Read the description here: https://www.kaggle.com/c/tabular-playground-series-apr-2021/data. Download the dataset and place it in the *data/titanic/* folder in your working directory.\n",
        "You will use train.csv for model training and validation. The test set is used for model testing: once the model is trained, you can predict whether a passenger survived or not for each passenger in the test set, and submit the predictions: https://www.kaggle.com/c/tabular-playground-series-apr-2021/overview/evaluation.  \n"
      ]
    },
    {
      "cell_type": "code",
      "execution_count": 171,
      "metadata": {
        "id": "emVxiHu49-Da"
      },
      "outputs": [],
      "source": [
        "PATH = \"./data/\""
      ]
    },
    {
      "cell_type": "code",
      "execution_count": 172,
      "metadata": {
        "id": "elS-J3NW9-Da",
        "colab": {
          "base_uri": "https://localhost:8080/",
          "height": 322
        },
        "outputId": "6f591428-f4cd-4884-a6ff-38356a8cb5d6"
      },
      "outputs": [
        {
          "output_type": "error",
          "ename": "FileNotFoundError",
          "evalue": "ignored",
          "traceback": [
            "\u001b[0;31m---------------------------------------------------------------------------\u001b[0m",
            "\u001b[0;31mFileNotFoundError\u001b[0m                         Traceback (most recent call last)",
            "\u001b[0;32m<ipython-input-172-769a4dc77de1>\u001b[0m in \u001b[0;36m<module>\u001b[0;34m()\u001b[0m\n\u001b[0;32m----> 1\u001b[0;31m \u001b[0mdata\u001b[0m \u001b[0;34m=\u001b[0m \u001b[0mpd\u001b[0m\u001b[0;34m.\u001b[0m\u001b[0mread_csv\u001b[0m\u001b[0;34m(\u001b[0m\u001b[0mos\u001b[0m\u001b[0;34m.\u001b[0m\u001b[0mpath\u001b[0m\u001b[0;34m.\u001b[0m\u001b[0mjoin\u001b[0m\u001b[0;34m(\u001b[0m\u001b[0mPATH\u001b[0m\u001b[0;34m,\u001b[0m \u001b[0;34m'titanic'\u001b[0m\u001b[0;34m,\u001b[0m \u001b[0;34m'train.csv'\u001b[0m\u001b[0;34m)\u001b[0m\u001b[0;34m)\u001b[0m\u001b[0;34m.\u001b[0m\u001b[0mset_index\u001b[0m\u001b[0;34m(\u001b[0m\u001b[0;34m'PassengerId'\u001b[0m\u001b[0;34m)\u001b[0m\u001b[0;34m\u001b[0m\u001b[0;34m\u001b[0m\u001b[0m\n\u001b[0m",
            "\u001b[0;32m/usr/local/lib/python3.7/dist-packages/pandas/util/_decorators.py\u001b[0m in \u001b[0;36mwrapper\u001b[0;34m(*args, **kwargs)\u001b[0m\n\u001b[1;32m    309\u001b[0m                     \u001b[0mstacklevel\u001b[0m\u001b[0;34m=\u001b[0m\u001b[0mstacklevel\u001b[0m\u001b[0;34m,\u001b[0m\u001b[0;34m\u001b[0m\u001b[0;34m\u001b[0m\u001b[0m\n\u001b[1;32m    310\u001b[0m                 )\n\u001b[0;32m--> 311\u001b[0;31m             \u001b[0;32mreturn\u001b[0m \u001b[0mfunc\u001b[0m\u001b[0;34m(\u001b[0m\u001b[0;34m*\u001b[0m\u001b[0margs\u001b[0m\u001b[0;34m,\u001b[0m \u001b[0;34m**\u001b[0m\u001b[0mkwargs\u001b[0m\u001b[0;34m)\u001b[0m\u001b[0;34m\u001b[0m\u001b[0;34m\u001b[0m\u001b[0m\n\u001b[0m\u001b[1;32m    312\u001b[0m \u001b[0;34m\u001b[0m\u001b[0m\n\u001b[1;32m    313\u001b[0m         \u001b[0;32mreturn\u001b[0m \u001b[0mwrapper\u001b[0m\u001b[0;34m\u001b[0m\u001b[0;34m\u001b[0m\u001b[0m\n",
            "\u001b[0;32m/usr/local/lib/python3.7/dist-packages/pandas/io/parsers/readers.py\u001b[0m in \u001b[0;36mread_csv\u001b[0;34m(filepath_or_buffer, sep, delimiter, header, names, index_col, usecols, squeeze, prefix, mangle_dupe_cols, dtype, engine, converters, true_values, false_values, skipinitialspace, skiprows, skipfooter, nrows, na_values, keep_default_na, na_filter, verbose, skip_blank_lines, parse_dates, infer_datetime_format, keep_date_col, date_parser, dayfirst, cache_dates, iterator, chunksize, compression, thousands, decimal, lineterminator, quotechar, quoting, doublequote, escapechar, comment, encoding, encoding_errors, dialect, error_bad_lines, warn_bad_lines, on_bad_lines, delim_whitespace, low_memory, memory_map, float_precision, storage_options)\u001b[0m\n\u001b[1;32m    584\u001b[0m     \u001b[0mkwds\u001b[0m\u001b[0;34m.\u001b[0m\u001b[0mupdate\u001b[0m\u001b[0;34m(\u001b[0m\u001b[0mkwds_defaults\u001b[0m\u001b[0;34m)\u001b[0m\u001b[0;34m\u001b[0m\u001b[0;34m\u001b[0m\u001b[0m\n\u001b[1;32m    585\u001b[0m \u001b[0;34m\u001b[0m\u001b[0m\n\u001b[0;32m--> 586\u001b[0;31m     \u001b[0;32mreturn\u001b[0m \u001b[0m_read\u001b[0m\u001b[0;34m(\u001b[0m\u001b[0mfilepath_or_buffer\u001b[0m\u001b[0;34m,\u001b[0m \u001b[0mkwds\u001b[0m\u001b[0;34m)\u001b[0m\u001b[0;34m\u001b[0m\u001b[0;34m\u001b[0m\u001b[0m\n\u001b[0m\u001b[1;32m    587\u001b[0m \u001b[0;34m\u001b[0m\u001b[0m\n\u001b[1;32m    588\u001b[0m \u001b[0;34m\u001b[0m\u001b[0m\n",
            "\u001b[0;32m/usr/local/lib/python3.7/dist-packages/pandas/io/parsers/readers.py\u001b[0m in \u001b[0;36m_read\u001b[0;34m(filepath_or_buffer, kwds)\u001b[0m\n\u001b[1;32m    480\u001b[0m \u001b[0;34m\u001b[0m\u001b[0m\n\u001b[1;32m    481\u001b[0m     \u001b[0;31m# Create the parser.\u001b[0m\u001b[0;34m\u001b[0m\u001b[0;34m\u001b[0m\u001b[0;34m\u001b[0m\u001b[0m\n\u001b[0;32m--> 482\u001b[0;31m     \u001b[0mparser\u001b[0m \u001b[0;34m=\u001b[0m \u001b[0mTextFileReader\u001b[0m\u001b[0;34m(\u001b[0m\u001b[0mfilepath_or_buffer\u001b[0m\u001b[0;34m,\u001b[0m \u001b[0;34m**\u001b[0m\u001b[0mkwds\u001b[0m\u001b[0;34m)\u001b[0m\u001b[0;34m\u001b[0m\u001b[0;34m\u001b[0m\u001b[0m\n\u001b[0m\u001b[1;32m    483\u001b[0m \u001b[0;34m\u001b[0m\u001b[0m\n\u001b[1;32m    484\u001b[0m     \u001b[0;32mif\u001b[0m \u001b[0mchunksize\u001b[0m \u001b[0;32mor\u001b[0m \u001b[0miterator\u001b[0m\u001b[0;34m:\u001b[0m\u001b[0;34m\u001b[0m\u001b[0;34m\u001b[0m\u001b[0m\n",
            "\u001b[0;32m/usr/local/lib/python3.7/dist-packages/pandas/io/parsers/readers.py\u001b[0m in \u001b[0;36m__init__\u001b[0;34m(self, f, engine, **kwds)\u001b[0m\n\u001b[1;32m    809\u001b[0m             \u001b[0mself\u001b[0m\u001b[0;34m.\u001b[0m\u001b[0moptions\u001b[0m\u001b[0;34m[\u001b[0m\u001b[0;34m\"has_index_names\"\u001b[0m\u001b[0;34m]\u001b[0m \u001b[0;34m=\u001b[0m \u001b[0mkwds\u001b[0m\u001b[0;34m[\u001b[0m\u001b[0;34m\"has_index_names\"\u001b[0m\u001b[0;34m]\u001b[0m\u001b[0;34m\u001b[0m\u001b[0;34m\u001b[0m\u001b[0m\n\u001b[1;32m    810\u001b[0m \u001b[0;34m\u001b[0m\u001b[0m\n\u001b[0;32m--> 811\u001b[0;31m         \u001b[0mself\u001b[0m\u001b[0;34m.\u001b[0m\u001b[0m_engine\u001b[0m \u001b[0;34m=\u001b[0m \u001b[0mself\u001b[0m\u001b[0;34m.\u001b[0m\u001b[0m_make_engine\u001b[0m\u001b[0;34m(\u001b[0m\u001b[0mself\u001b[0m\u001b[0;34m.\u001b[0m\u001b[0mengine\u001b[0m\u001b[0;34m)\u001b[0m\u001b[0;34m\u001b[0m\u001b[0;34m\u001b[0m\u001b[0m\n\u001b[0m\u001b[1;32m    812\u001b[0m \u001b[0;34m\u001b[0m\u001b[0m\n\u001b[1;32m    813\u001b[0m     \u001b[0;32mdef\u001b[0m \u001b[0mclose\u001b[0m\u001b[0;34m(\u001b[0m\u001b[0mself\u001b[0m\u001b[0;34m)\u001b[0m\u001b[0;34m:\u001b[0m\u001b[0;34m\u001b[0m\u001b[0;34m\u001b[0m\u001b[0m\n",
            "\u001b[0;32m/usr/local/lib/python3.7/dist-packages/pandas/io/parsers/readers.py\u001b[0m in \u001b[0;36m_make_engine\u001b[0;34m(self, engine)\u001b[0m\n\u001b[1;32m   1038\u001b[0m             )\n\u001b[1;32m   1039\u001b[0m         \u001b[0;31m# error: Too many arguments for \"ParserBase\"\u001b[0m\u001b[0;34m\u001b[0m\u001b[0;34m\u001b[0m\u001b[0;34m\u001b[0m\u001b[0m\n\u001b[0;32m-> 1040\u001b[0;31m         \u001b[0;32mreturn\u001b[0m \u001b[0mmapping\u001b[0m\u001b[0;34m[\u001b[0m\u001b[0mengine\u001b[0m\u001b[0;34m]\u001b[0m\u001b[0;34m(\u001b[0m\u001b[0mself\u001b[0m\u001b[0;34m.\u001b[0m\u001b[0mf\u001b[0m\u001b[0;34m,\u001b[0m \u001b[0;34m**\u001b[0m\u001b[0mself\u001b[0m\u001b[0;34m.\u001b[0m\u001b[0moptions\u001b[0m\u001b[0;34m)\u001b[0m  \u001b[0;31m# type: ignore[call-arg]\u001b[0m\u001b[0;34m\u001b[0m\u001b[0;34m\u001b[0m\u001b[0m\n\u001b[0m\u001b[1;32m   1041\u001b[0m \u001b[0;34m\u001b[0m\u001b[0m\n\u001b[1;32m   1042\u001b[0m     \u001b[0;32mdef\u001b[0m \u001b[0m_failover_to_python\u001b[0m\u001b[0;34m(\u001b[0m\u001b[0mself\u001b[0m\u001b[0;34m)\u001b[0m\u001b[0;34m:\u001b[0m\u001b[0;34m\u001b[0m\u001b[0;34m\u001b[0m\u001b[0m\n",
            "\u001b[0;32m/usr/local/lib/python3.7/dist-packages/pandas/io/parsers/c_parser_wrapper.py\u001b[0m in \u001b[0;36m__init__\u001b[0;34m(self, src, **kwds)\u001b[0m\n\u001b[1;32m     49\u001b[0m \u001b[0;34m\u001b[0m\u001b[0m\n\u001b[1;32m     50\u001b[0m         \u001b[0;31m# open handles\u001b[0m\u001b[0;34m\u001b[0m\u001b[0;34m\u001b[0m\u001b[0;34m\u001b[0m\u001b[0m\n\u001b[0;32m---> 51\u001b[0;31m         \u001b[0mself\u001b[0m\u001b[0;34m.\u001b[0m\u001b[0m_open_handles\u001b[0m\u001b[0;34m(\u001b[0m\u001b[0msrc\u001b[0m\u001b[0;34m,\u001b[0m \u001b[0mkwds\u001b[0m\u001b[0;34m)\u001b[0m\u001b[0;34m\u001b[0m\u001b[0;34m\u001b[0m\u001b[0m\n\u001b[0m\u001b[1;32m     52\u001b[0m         \u001b[0;32massert\u001b[0m \u001b[0mself\u001b[0m\u001b[0;34m.\u001b[0m\u001b[0mhandles\u001b[0m \u001b[0;32mis\u001b[0m \u001b[0;32mnot\u001b[0m \u001b[0;32mNone\u001b[0m\u001b[0;34m\u001b[0m\u001b[0;34m\u001b[0m\u001b[0m\n\u001b[1;32m     53\u001b[0m \u001b[0;34m\u001b[0m\u001b[0m\n",
            "\u001b[0;32m/usr/local/lib/python3.7/dist-packages/pandas/io/parsers/base_parser.py\u001b[0m in \u001b[0;36m_open_handles\u001b[0;34m(self, src, kwds)\u001b[0m\n\u001b[1;32m    227\u001b[0m             \u001b[0mmemory_map\u001b[0m\u001b[0;34m=\u001b[0m\u001b[0mkwds\u001b[0m\u001b[0;34m.\u001b[0m\u001b[0mget\u001b[0m\u001b[0;34m(\u001b[0m\u001b[0;34m\"memory_map\"\u001b[0m\u001b[0;34m,\u001b[0m \u001b[0;32mFalse\u001b[0m\u001b[0;34m)\u001b[0m\u001b[0;34m,\u001b[0m\u001b[0;34m\u001b[0m\u001b[0;34m\u001b[0m\u001b[0m\n\u001b[1;32m    228\u001b[0m             \u001b[0mstorage_options\u001b[0m\u001b[0;34m=\u001b[0m\u001b[0mkwds\u001b[0m\u001b[0;34m.\u001b[0m\u001b[0mget\u001b[0m\u001b[0;34m(\u001b[0m\u001b[0;34m\"storage_options\"\u001b[0m\u001b[0;34m,\u001b[0m \u001b[0;32mNone\u001b[0m\u001b[0;34m)\u001b[0m\u001b[0;34m,\u001b[0m\u001b[0;34m\u001b[0m\u001b[0;34m\u001b[0m\u001b[0m\n\u001b[0;32m--> 229\u001b[0;31m             \u001b[0merrors\u001b[0m\u001b[0;34m=\u001b[0m\u001b[0mkwds\u001b[0m\u001b[0;34m.\u001b[0m\u001b[0mget\u001b[0m\u001b[0;34m(\u001b[0m\u001b[0;34m\"encoding_errors\"\u001b[0m\u001b[0;34m,\u001b[0m \u001b[0;34m\"strict\"\u001b[0m\u001b[0;34m)\u001b[0m\u001b[0;34m,\u001b[0m\u001b[0;34m\u001b[0m\u001b[0;34m\u001b[0m\u001b[0m\n\u001b[0m\u001b[1;32m    230\u001b[0m         )\n\u001b[1;32m    231\u001b[0m \u001b[0;34m\u001b[0m\u001b[0m\n",
            "\u001b[0;32m/usr/local/lib/python3.7/dist-packages/pandas/io/common.py\u001b[0m in \u001b[0;36mget_handle\u001b[0;34m(path_or_buf, mode, encoding, compression, memory_map, is_text, errors, storage_options)\u001b[0m\n\u001b[1;32m    705\u001b[0m                 \u001b[0mencoding\u001b[0m\u001b[0;34m=\u001b[0m\u001b[0mioargs\u001b[0m\u001b[0;34m.\u001b[0m\u001b[0mencoding\u001b[0m\u001b[0;34m,\u001b[0m\u001b[0;34m\u001b[0m\u001b[0;34m\u001b[0m\u001b[0m\n\u001b[1;32m    706\u001b[0m                 \u001b[0merrors\u001b[0m\u001b[0;34m=\u001b[0m\u001b[0merrors\u001b[0m\u001b[0;34m,\u001b[0m\u001b[0;34m\u001b[0m\u001b[0;34m\u001b[0m\u001b[0m\n\u001b[0;32m--> 707\u001b[0;31m                 \u001b[0mnewline\u001b[0m\u001b[0;34m=\u001b[0m\u001b[0;34m\"\"\u001b[0m\u001b[0;34m,\u001b[0m\u001b[0;34m\u001b[0m\u001b[0;34m\u001b[0m\u001b[0m\n\u001b[0m\u001b[1;32m    708\u001b[0m             )\n\u001b[1;32m    709\u001b[0m         \u001b[0;32melse\u001b[0m\u001b[0;34m:\u001b[0m\u001b[0;34m\u001b[0m\u001b[0;34m\u001b[0m\u001b[0m\n",
            "\u001b[0;31mFileNotFoundError\u001b[0m: [Errno 2] No such file or directory: './data/titanic/train.csv'"
          ]
        }
      ],
      "source": [
        "data = pd.read_csv(os.path.join(PATH, 'titanic', 'train.csv')).set_index('PassengerId')"
      ]
    },
    {
      "cell_type": "code",
      "execution_count": null,
      "metadata": {
        "scrolled": true,
        "id": "9peOV3OG9-Db"
      },
      "outputs": [],
      "source": [
        "data.head()"
      ]
    },
    {
      "cell_type": "markdown",
      "metadata": {
        "id": "6exIpAmf9-Db"
      },
      "source": [
        "### EDA"
      ]
    },
    {
      "cell_type": "markdown",
      "metadata": {
        "id": "MiK7Hb9l9-Dc"
      },
      "source": [
        "**(0.5 points)** How many females and males are there in the dataset? What about the survived passengers? Is there any relationship between the gender and the survival?"
      ]
    },
    {
      "cell_type": "code",
      "execution_count": null,
      "metadata": {
        "id": "qamscYcl9-Dc"
      },
      "outputs": [],
      "source": [
        "## your code"
      ]
    },
    {
      "cell_type": "markdown",
      "metadata": {
        "id": "1TKYPW2e9-Dd"
      },
      "source": [
        "< your thoughts >"
      ]
    },
    {
      "cell_type": "markdown",
      "metadata": {
        "id": "FUl5_dko9-Dd"
      },
      "source": [
        "**(0.5 points)** Plot age distribution of the passengers. What is the average and the median age of survived and deceased passengers? Do age distributions differ for survived and deceased passengers? Why?"
      ]
    },
    {
      "cell_type": "code",
      "execution_count": null,
      "metadata": {
        "id": "uyigKP_h9-De"
      },
      "outputs": [],
      "source": [
        "## your code"
      ]
    },
    {
      "cell_type": "markdown",
      "metadata": {
        "id": "JXh7q2tP9-De"
      },
      "source": [
        "< your thoughts >"
      ]
    },
    {
      "cell_type": "markdown",
      "metadata": {
        "id": "8KGniOZ29-De"
      },
      "source": [
        "**(1 point)** Explore \"passenger class\" and \"embarked\" features. What class was \"the safest\"? Is there any relationship between the embarkation port and the survival? Provide the corresponding visualizations."
      ]
    },
    {
      "cell_type": "code",
      "execution_count": null,
      "metadata": {
        "id": "rP7Zz8BS9-Df"
      },
      "outputs": [],
      "source": [
        "## your code"
      ]
    },
    {
      "cell_type": "markdown",
      "metadata": {
        "id": "a0agRjJG9-Df"
      },
      "source": [
        "< your thoughts >"
      ]
    },
    {
      "cell_type": "markdown",
      "metadata": {
        "id": "8UKEb8IW9-Dg"
      },
      "source": [
        "### Modelling"
      ]
    },
    {
      "cell_type": "markdown",
      "metadata": {
        "id": "uLUo0h3O9-Dg"
      },
      "source": [
        "**(0.5 points)** Find the percentage of missing values for each feature. "
      ]
    },
    {
      "cell_type": "code",
      "execution_count": null,
      "metadata": {
        "id": "4x55hEvj9-Dh"
      },
      "outputs": [],
      "source": [
        "## your code"
      ]
    },
    {
      "cell_type": "markdown",
      "metadata": {
        "id": "Vz3GDseA9-Dh"
      },
      "source": [
        "Think about the ways to handle these missing values for modelling and write your answer below. Which methods would you suggest? What are their advantages and disadvantages?\n",
        "\n",
        "< your thoughts >"
      ]
    },
    {
      "cell_type": "markdown",
      "metadata": {
        "id": "yAzgC16w9-Di"
      },
      "source": [
        "**(1.5 points)** Prepare the features and train two models (KNN and Logistic Regression) to predict the survival. Compare the results. Use accuracy as a metric. Don't forget about cross-validation!"
      ]
    },
    {
      "cell_type": "code",
      "execution_count": null,
      "metadata": {
        "id": "aZzC3dCE9-Di"
      },
      "outputs": [],
      "source": [
        "## your code"
      ]
    },
    {
      "cell_type": "markdown",
      "metadata": {
        "id": "spJIXmY29-Dj"
      },
      "source": [
        "**(0.5 + X points)** Try more feature engineering and hyperparameter tuning to improve the results. You may use either KNN or Logistic Regression (or both)."
      ]
    },
    {
      "cell_type": "code",
      "execution_count": null,
      "metadata": {
        "id": "gi5kV6ze9-Dk"
      },
      "outputs": [],
      "source": [
        "## your code"
      ]
    },
    {
      "cell_type": "markdown",
      "metadata": {
        "id": "TBQaeYbs9-Dk"
      },
      "source": [
        "Select the best model, load the test set and make the predictions. Submit them to kaggle and see the results :)\n",
        "\n",
        "**Note**. X points will depend on your kaggle public leaderboard score.\n",
        "$$ f(score) = 1.0, \\ \\ 0.79 \\leq score < 0.80,$$\n",
        "$$ f(score) = 2.5, \\ \\ 0.80 \\leq score < 0.81,$$ \n",
        "$$ f(score) = 4.0, \\ \\ 0.81 \\leq score $$ \n",
        "Your code should generate the output submitted to kaggle. Fix random seeds to make the results reproducible."
      ]
    },
    {
      "cell_type": "code",
      "execution_count": null,
      "metadata": {
        "id": "69bajPXu9-Dl"
      },
      "outputs": [],
      "source": [
        ""
      ]
    }
  ],
  "metadata": {
    "kernelspec": {
      "display_name": "Python 3 (ipykernel)",
      "language": "python",
      "name": "python3"
    },
    "language_info": {
      "codemirror_mode": {
        "name": "ipython",
        "version": 3
      },
      "file_extension": ".py",
      "mimetype": "text/x-python",
      "name": "python",
      "nbconvert_exporter": "python",
      "pygments_lexer": "ipython3",
      "version": "3.9.7"
    },
    "colab": {
      "name": "Copy of hw_classification.ipynb",
      "provenance": []
    }
  },
  "nbformat": 4,
  "nbformat_minor": 0
}