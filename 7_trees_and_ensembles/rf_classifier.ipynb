{
  "cells": [
    {
      "cell_type": "markdown",
      "metadata": {
        "id": "XSqCUpPXEtER"
      },
      "source": [
        "# Introduction"
      ]
    },
    {
      "cell_type": "markdown",
      "metadata": {
        "id": "G_5EkD98EtEV"
      },
      "source": [
        "Fortunately, with libraries such as Scikit-Learn, it’s now easy to build and use almost any machine learning algorithm. But it’s helpful to have an idea of how a machine learning model works under the hood. This lets us diagnose the model when it’s underperforming or explain how it makes decisions, which is crucial if we want to convince others to trust our models.\n",
        "In this assignment, we’ll look at how to build and use the Decision Tree and the Random Forest in Python. We’ll start by understanding how a single decision tree makes classifications on a simple problem. Then, we’ll work our way to using a random forest on a real-world data science problem."
      ]
    },
    {
      "cell_type": "markdown",
      "metadata": {
        "id": "jRV3hEk6EtEY"
      },
      "source": [
        "# Dataset"
      ]
    },
    {
      "cell_type": "markdown",
      "metadata": {
        "id": "N8ryAToiEtEa"
      },
      "source": [
        "The dataset we will use in this assignment is the Sonar dataset.\n",
        "\n",
        "This is a dataset that describes sonar chirp returns bouncing off different surfaces. The 60 predictors are the strength of the returns at different angles. It is a binary classification problem that requires a model to differentiate rocks from metal cylinders. There are 208 observations.\n",
        "\n",
        "It is a well-understood dataset. All of the variables are continuous and generally in the range of 0 to 1. The output variable is a string “M” for mine and “R” for rock, which will need to be converted to integers 1 and 0.\n",
        "\n",
        "By predicting the class with the most observations in the dataset (M or mines) the Zero Rule Algorithm can achieve an accuracy of 53%.\n",
        "\n",
        "You can learn more about this dataset at the UCI Machine Learning repository.\n",
        "https://archive.ics.uci.edu/ml/datasets/Connectionist+Bench+(Sonar,+Mines+vs.+Rocks)\n",
        "\n",
        "Download the dataset for free and place it in the \"data\" folder in your working directory with the filename sonar.all-data.csv."
      ]
    },
    {
      "cell_type": "markdown",
      "metadata": {
        "id": "fTC5tNVPEtEc"
      },
      "source": [
        "# Import section"
      ]
    },
    {
      "cell_type": "code",
      "execution_count": 1,
      "metadata": {
        "ExecuteTime": {
          "end_time": "2022-01-17T20:27:52.137523Z",
          "start_time": "2022-01-17T20:27:51.210945Z"
        },
        "id": "8qUtd0AOEtEd"
      },
      "outputs": [],
      "source": [
        "import numpy as np\n",
        "import pandas as pd\n",
        "import matplotlib.pyplot as plt\n",
        "import seaborn as sns\n",
        "from sklearn.model_selection import train_test_split\n",
        "from sklearn.metrics import accuracy_score"
      ]
    },
    {
      "cell_type": "code",
      "execution_count": 2,
      "metadata": {
        "ExecuteTime": {
          "end_time": "2022-01-17T20:27:52.153537Z",
          "start_time": "2022-01-17T20:27:52.139489Z"
        },
        "id": "tP1cyf3yEtEe"
      },
      "outputs": [],
      "source": [
        "import tests"
      ]
    },
    {
      "cell_type": "code",
      "execution_count": 3,
      "metadata": {
        "ExecuteTime": {
          "end_time": "2022-01-17T20:27:52.169411Z",
          "start_time": "2022-01-17T20:27:52.156443Z"
        },
        "id": "4CugsRmoEtEf"
      },
      "outputs": [],
      "source": [
        "RANDOM_STATE = 2020"
      ]
    },
    {
      "cell_type": "markdown",
      "metadata": {
        "id": "QQquJhkBEtEg"
      },
      "source": [
        "# Preprocess data"
      ]
    },
    {
      "cell_type": "markdown",
      "metadata": {
        "id": "7Ye8or6dEtEi"
      },
      "source": [
        "Read data and convert targets to integers 1 and 0."
      ]
    },
    {
      "cell_type": "code",
      "execution_count": 4,
      "metadata": {
        "ExecuteTime": {
          "end_time": "2022-01-17T20:27:52.216149Z",
          "start_time": "2022-01-17T20:27:52.171403Z"
        },
        "id": "c4aaB13WEtEj",
        "colab": {
          "base_uri": "https://localhost:8080/",
          "height": 299
        },
        "outputId": "e723c590-069f-4d5c-f2af-9965b84ae9e7"
      },
      "outputs": [
        {
          "output_type": "execute_result",
          "data": {
            "text/plain": [
              "   feat_0  feat_1  feat_2  feat_3  feat_4  feat_5  feat_6  feat_7  feat_8  \\\n",
              "0  0.0200  0.0371  0.0428  0.0207  0.0954  0.0986  0.1539  0.1601  0.3109   \n",
              "1  0.0453  0.0523  0.0843  0.0689  0.1183  0.2583  0.2156  0.3481  0.3337   \n",
              "2  0.0262  0.0582  0.1099  0.1083  0.0974  0.2280  0.2431  0.3771  0.5598   \n",
              "3  0.0100  0.0171  0.0623  0.0205  0.0205  0.0368  0.1098  0.1276  0.0598   \n",
              "4  0.0762  0.0666  0.0481  0.0394  0.0590  0.0649  0.1209  0.2467  0.3564   \n",
              "\n",
              "   feat_9  ...  feat_51  feat_52  feat_53  feat_54  feat_55  feat_56  feat_57  \\\n",
              "0  0.2111  ...   0.0027   0.0065   0.0159   0.0072   0.0167   0.0180   0.0084   \n",
              "1  0.2872  ...   0.0084   0.0089   0.0048   0.0094   0.0191   0.0140   0.0049   \n",
              "2  0.6194  ...   0.0232   0.0166   0.0095   0.0180   0.0244   0.0316   0.0164   \n",
              "3  0.1264  ...   0.0121   0.0036   0.0150   0.0085   0.0073   0.0050   0.0044   \n",
              "4  0.4459  ...   0.0031   0.0054   0.0105   0.0110   0.0015   0.0072   0.0048   \n",
              "\n",
              "   feat_58  feat_59  target  \n",
              "0   0.0090   0.0032       0  \n",
              "1   0.0052   0.0044       0  \n",
              "2   0.0095   0.0078       0  \n",
              "3   0.0040   0.0117       0  \n",
              "4   0.0107   0.0094       0  \n",
              "\n",
              "[5 rows x 61 columns]"
            ],
            "text/html": [
              "\n",
              "  <div id=\"df-28f1133a-263c-4794-8e68-b5bb23eaca51\">\n",
              "    <div class=\"colab-df-container\">\n",
              "      <div>\n",
              "<style scoped>\n",
              "    .dataframe tbody tr th:only-of-type {\n",
              "        vertical-align: middle;\n",
              "    }\n",
              "\n",
              "    .dataframe tbody tr th {\n",
              "        vertical-align: top;\n",
              "    }\n",
              "\n",
              "    .dataframe thead th {\n",
              "        text-align: right;\n",
              "    }\n",
              "</style>\n",
              "<table border=\"1\" class=\"dataframe\">\n",
              "  <thead>\n",
              "    <tr style=\"text-align: right;\">\n",
              "      <th></th>\n",
              "      <th>feat_0</th>\n",
              "      <th>feat_1</th>\n",
              "      <th>feat_2</th>\n",
              "      <th>feat_3</th>\n",
              "      <th>feat_4</th>\n",
              "      <th>feat_5</th>\n",
              "      <th>feat_6</th>\n",
              "      <th>feat_7</th>\n",
              "      <th>feat_8</th>\n",
              "      <th>feat_9</th>\n",
              "      <th>...</th>\n",
              "      <th>feat_51</th>\n",
              "      <th>feat_52</th>\n",
              "      <th>feat_53</th>\n",
              "      <th>feat_54</th>\n",
              "      <th>feat_55</th>\n",
              "      <th>feat_56</th>\n",
              "      <th>feat_57</th>\n",
              "      <th>feat_58</th>\n",
              "      <th>feat_59</th>\n",
              "      <th>target</th>\n",
              "    </tr>\n",
              "  </thead>\n",
              "  <tbody>\n",
              "    <tr>\n",
              "      <th>0</th>\n",
              "      <td>0.0200</td>\n",
              "      <td>0.0371</td>\n",
              "      <td>0.0428</td>\n",
              "      <td>0.0207</td>\n",
              "      <td>0.0954</td>\n",
              "      <td>0.0986</td>\n",
              "      <td>0.1539</td>\n",
              "      <td>0.1601</td>\n",
              "      <td>0.3109</td>\n",
              "      <td>0.2111</td>\n",
              "      <td>...</td>\n",
              "      <td>0.0027</td>\n",
              "      <td>0.0065</td>\n",
              "      <td>0.0159</td>\n",
              "      <td>0.0072</td>\n",
              "      <td>0.0167</td>\n",
              "      <td>0.0180</td>\n",
              "      <td>0.0084</td>\n",
              "      <td>0.0090</td>\n",
              "      <td>0.0032</td>\n",
              "      <td>0</td>\n",
              "    </tr>\n",
              "    <tr>\n",
              "      <th>1</th>\n",
              "      <td>0.0453</td>\n",
              "      <td>0.0523</td>\n",
              "      <td>0.0843</td>\n",
              "      <td>0.0689</td>\n",
              "      <td>0.1183</td>\n",
              "      <td>0.2583</td>\n",
              "      <td>0.2156</td>\n",
              "      <td>0.3481</td>\n",
              "      <td>0.3337</td>\n",
              "      <td>0.2872</td>\n",
              "      <td>...</td>\n",
              "      <td>0.0084</td>\n",
              "      <td>0.0089</td>\n",
              "      <td>0.0048</td>\n",
              "      <td>0.0094</td>\n",
              "      <td>0.0191</td>\n",
              "      <td>0.0140</td>\n",
              "      <td>0.0049</td>\n",
              "      <td>0.0052</td>\n",
              "      <td>0.0044</td>\n",
              "      <td>0</td>\n",
              "    </tr>\n",
              "    <tr>\n",
              "      <th>2</th>\n",
              "      <td>0.0262</td>\n",
              "      <td>0.0582</td>\n",
              "      <td>0.1099</td>\n",
              "      <td>0.1083</td>\n",
              "      <td>0.0974</td>\n",
              "      <td>0.2280</td>\n",
              "      <td>0.2431</td>\n",
              "      <td>0.3771</td>\n",
              "      <td>0.5598</td>\n",
              "      <td>0.6194</td>\n",
              "      <td>...</td>\n",
              "      <td>0.0232</td>\n",
              "      <td>0.0166</td>\n",
              "      <td>0.0095</td>\n",
              "      <td>0.0180</td>\n",
              "      <td>0.0244</td>\n",
              "      <td>0.0316</td>\n",
              "      <td>0.0164</td>\n",
              "      <td>0.0095</td>\n",
              "      <td>0.0078</td>\n",
              "      <td>0</td>\n",
              "    </tr>\n",
              "    <tr>\n",
              "      <th>3</th>\n",
              "      <td>0.0100</td>\n",
              "      <td>0.0171</td>\n",
              "      <td>0.0623</td>\n",
              "      <td>0.0205</td>\n",
              "      <td>0.0205</td>\n",
              "      <td>0.0368</td>\n",
              "      <td>0.1098</td>\n",
              "      <td>0.1276</td>\n",
              "      <td>0.0598</td>\n",
              "      <td>0.1264</td>\n",
              "      <td>...</td>\n",
              "      <td>0.0121</td>\n",
              "      <td>0.0036</td>\n",
              "      <td>0.0150</td>\n",
              "      <td>0.0085</td>\n",
              "      <td>0.0073</td>\n",
              "      <td>0.0050</td>\n",
              "      <td>0.0044</td>\n",
              "      <td>0.0040</td>\n",
              "      <td>0.0117</td>\n",
              "      <td>0</td>\n",
              "    </tr>\n",
              "    <tr>\n",
              "      <th>4</th>\n",
              "      <td>0.0762</td>\n",
              "      <td>0.0666</td>\n",
              "      <td>0.0481</td>\n",
              "      <td>0.0394</td>\n",
              "      <td>0.0590</td>\n",
              "      <td>0.0649</td>\n",
              "      <td>0.1209</td>\n",
              "      <td>0.2467</td>\n",
              "      <td>0.3564</td>\n",
              "      <td>0.4459</td>\n",
              "      <td>...</td>\n",
              "      <td>0.0031</td>\n",
              "      <td>0.0054</td>\n",
              "      <td>0.0105</td>\n",
              "      <td>0.0110</td>\n",
              "      <td>0.0015</td>\n",
              "      <td>0.0072</td>\n",
              "      <td>0.0048</td>\n",
              "      <td>0.0107</td>\n",
              "      <td>0.0094</td>\n",
              "      <td>0</td>\n",
              "    </tr>\n",
              "  </tbody>\n",
              "</table>\n",
              "<p>5 rows × 61 columns</p>\n",
              "</div>\n",
              "      <button class=\"colab-df-convert\" onclick=\"convertToInteractive('df-28f1133a-263c-4794-8e68-b5bb23eaca51')\"\n",
              "              title=\"Convert this dataframe to an interactive table.\"\n",
              "              style=\"display:none;\">\n",
              "        \n",
              "  <svg xmlns=\"http://www.w3.org/2000/svg\" height=\"24px\"viewBox=\"0 0 24 24\"\n",
              "       width=\"24px\">\n",
              "    <path d=\"M0 0h24v24H0V0z\" fill=\"none\"/>\n",
              "    <path d=\"M18.56 5.44l.94 2.06.94-2.06 2.06-.94-2.06-.94-.94-2.06-.94 2.06-2.06.94zm-11 1L8.5 8.5l.94-2.06 2.06-.94-2.06-.94L8.5 2.5l-.94 2.06-2.06.94zm10 10l.94 2.06.94-2.06 2.06-.94-2.06-.94-.94-2.06-.94 2.06-2.06.94z\"/><path d=\"M17.41 7.96l-1.37-1.37c-.4-.4-.92-.59-1.43-.59-.52 0-1.04.2-1.43.59L10.3 9.45l-7.72 7.72c-.78.78-.78 2.05 0 2.83L4 21.41c.39.39.9.59 1.41.59.51 0 1.02-.2 1.41-.59l7.78-7.78 2.81-2.81c.8-.78.8-2.07 0-2.86zM5.41 20L4 18.59l7.72-7.72 1.47 1.35L5.41 20z\"/>\n",
              "  </svg>\n",
              "      </button>\n",
              "      \n",
              "  <style>\n",
              "    .colab-df-container {\n",
              "      display:flex;\n",
              "      flex-wrap:wrap;\n",
              "      gap: 12px;\n",
              "    }\n",
              "\n",
              "    .colab-df-convert {\n",
              "      background-color: #E8F0FE;\n",
              "      border: none;\n",
              "      border-radius: 50%;\n",
              "      cursor: pointer;\n",
              "      display: none;\n",
              "      fill: #1967D2;\n",
              "      height: 32px;\n",
              "      padding: 0 0 0 0;\n",
              "      width: 32px;\n",
              "    }\n",
              "\n",
              "    .colab-df-convert:hover {\n",
              "      background-color: #E2EBFA;\n",
              "      box-shadow: 0px 1px 2px rgba(60, 64, 67, 0.3), 0px 1px 3px 1px rgba(60, 64, 67, 0.15);\n",
              "      fill: #174EA6;\n",
              "    }\n",
              "\n",
              "    [theme=dark] .colab-df-convert {\n",
              "      background-color: #3B4455;\n",
              "      fill: #D2E3FC;\n",
              "    }\n",
              "\n",
              "    [theme=dark] .colab-df-convert:hover {\n",
              "      background-color: #434B5C;\n",
              "      box-shadow: 0px 1px 3px 1px rgba(0, 0, 0, 0.15);\n",
              "      filter: drop-shadow(0px 1px 2px rgba(0, 0, 0, 0.3));\n",
              "      fill: #FFFFFF;\n",
              "    }\n",
              "  </style>\n",
              "\n",
              "      <script>\n",
              "        const buttonEl =\n",
              "          document.querySelector('#df-28f1133a-263c-4794-8e68-b5bb23eaca51 button.colab-df-convert');\n",
              "        buttonEl.style.display =\n",
              "          google.colab.kernel.accessAllowed ? 'block' : 'none';\n",
              "\n",
              "        async function convertToInteractive(key) {\n",
              "          const element = document.querySelector('#df-28f1133a-263c-4794-8e68-b5bb23eaca51');\n",
              "          const dataTable =\n",
              "            await google.colab.kernel.invokeFunction('convertToInteractive',\n",
              "                                                     [key], {});\n",
              "          if (!dataTable) return;\n",
              "\n",
              "          const docLinkHtml = 'Like what you see? Visit the ' +\n",
              "            '<a target=\"_blank\" href=https://colab.research.google.com/notebooks/data_table.ipynb>data table notebook</a>'\n",
              "            + ' to learn more about interactive tables.';\n",
              "          element.innerHTML = '';\n",
              "          dataTable['output_type'] = 'display_data';\n",
              "          await google.colab.output.renderOutput(dataTable, element);\n",
              "          const docLink = document.createElement('div');\n",
              "          docLink.innerHTML = docLinkHtml;\n",
              "          element.appendChild(docLink);\n",
              "        }\n",
              "      </script>\n",
              "    </div>\n",
              "  </div>\n",
              "  "
            ]
          },
          "metadata": {},
          "execution_count": 4
        }
      ],
      "source": [
        "PATH = 'data/'\n",
        "df = pd.read_csv('/content/sonar-all-data.csv', header=None)\n",
        "df.columns = [f'feat_{col}' if col!=60 else 'target' for col in df.columns]\n",
        "df['target'] = df['target'].map({'M': 1, 'R': 0})\n",
        "df.head()"
      ]
    },
    {
      "cell_type": "markdown",
      "metadata": {
        "id": "7dXrK2HbEtEk"
      },
      "source": [
        "# Split data (train and test)"
      ]
    },
    {
      "cell_type": "code",
      "execution_count": 5,
      "metadata": {
        "ExecuteTime": {
          "end_time": "2022-01-17T20:27:52.230836Z",
          "start_time": "2022-01-17T20:27:52.217831Z"
        },
        "id": "thZhqjkbEtEl"
      },
      "outputs": [],
      "source": [
        "X_train, X_test, y_train, y_test = train_test_split(df.drop(columns='target'), df['target'], test_size=0.2, random_state=RANDOM_STATE)"
      ]
    },
    {
      "cell_type": "markdown",
      "metadata": {
        "id": "fr8OY4e5EtEm"
      },
      "source": [
        "# Homework part 1. Implementation of Random Forest Classifier."
      ]
    },
    {
      "cell_type": "markdown",
      "metadata": {
        "id": "0quHXuEREtEq"
      },
      "source": [
        "## Splitting criteria"
      ]
    },
    {
      "cell_type": "markdown",
      "metadata": {
        "id": "iG0M5G-1EtEs"
      },
      "source": [
        "**Task 1 - 2 points.** In this section you should implement two criteria for splitting of the feature space. Any of these can be used in the model."
      ]
    },
    {
      "cell_type": "markdown",
      "metadata": {
        "id": "hDCgzFLXEtEs"
      },
      "source": [
        "### Gini index"
      ]
    },
    {
      "cell_type": "markdown",
      "metadata": {
        "id": "SsORdXVwEtEt"
      },
      "source": [
        "0.5 points for *gini_index* function"
      ]
    },
    {
      "cell_type": "code",
      "execution_count": 6,
      "metadata": {
        "ExecuteTime": {
          "end_time": "2022-01-17T20:27:52.246755Z",
          "start_time": "2022-01-17T20:27:52.231795Z"
        },
        "id": "2imO8x6cEtEt"
      },
      "outputs": [],
      "source": [
        "def gini_index(x):\n",
        "    \"\"\" Calculate Gini Index for a node\n",
        "    Args:\n",
        "        x: Numpy-array of targets in a node\n",
        "    Returns:\n",
        "        float: Gini index\n",
        "    \"\"\"\n",
        "    if x.shape[0] == 0:\n",
        "        return 0\n",
        "    _, counts = np.unique(x, return_counts=True)\n",
        "    return 1-np.sum(np.power((counts/x.shape[0]),2))\n",
        "    pass"
      ]
    },
    {
      "cell_type": "code",
      "execution_count": 7,
      "metadata": {
        "ExecuteTime": {
          "end_time": "2022-01-17T20:27:52.372197Z",
          "start_time": "2022-01-17T20:27:52.248750Z"
        },
        "id": "6t0dwGYXEtEu",
        "colab": {
          "base_uri": "https://localhost:8080/"
        },
        "outputId": "fc418927-f0fe-40c4-aa7b-29a2f5dd3ab0"
      },
      "outputs": [
        {
          "output_type": "stream",
          "name": "stdout",
          "text": [
            "\u001b[92m All good!\n"
          ]
        }
      ],
      "source": [
        "tests.test_gini_index(gini_index)"
      ]
    },
    {
      "cell_type": "markdown",
      "metadata": {
        "id": "UJA4BOBUEtEu"
      },
      "source": [
        "0.5 points for *gini_gain* function"
      ]
    },
    {
      "cell_type": "code",
      "execution_count": 8,
      "metadata": {
        "ExecuteTime": {
          "end_time": "2022-01-17T20:27:52.374411Z",
          "start_time": "2022-01-17T20:27:51.226Z"
        },
        "id": "xnoA-CC9EtEu"
      },
      "outputs": [],
      "source": [
        "def gini_gain(parent_node, splits):\n",
        "    \"\"\" Calculate Gini Gain for a particular split\n",
        "    Args:\n",
        "        parent_node: Numpy-array of targets in a parent node\n",
        "        splits: List of two numpy-arrays. Each numpy-array is targets in a child node\n",
        "    Returns:\n",
        "        float: Gini gain\n",
        "    \"\"\"\n",
        "    return  gini_index(parent_node)-(gini_index(splits[0])*splits[0].shape[0]+gini_index(splits[1])*splits[1].shape[0])/parent_node.shape[0]      \n",
        "    pass"
      ]
    },
    {
      "cell_type": "code",
      "execution_count": 9,
      "metadata": {
        "ExecuteTime": {
          "end_time": "2022-01-17T20:27:52.375408Z",
          "start_time": "2022-01-17T20:27:51.228Z"
        },
        "id": "6UC8ca-WEtEv",
        "colab": {
          "base_uri": "https://localhost:8080/"
        },
        "outputId": "6cccaa1d-0202-42a9-ea3b-436babed69aa"
      },
      "outputs": [
        {
          "output_type": "stream",
          "name": "stdout",
          "text": [
            "\u001b[92m All good!\n"
          ]
        }
      ],
      "source": [
        "tests.test_gini_gain(gini_gain)"
      ]
    },
    {
      "cell_type": "markdown",
      "metadata": {
        "id": "jXTMCxZNEtEv"
      },
      "source": [
        "### Entropy"
      ]
    },
    {
      "cell_type": "markdown",
      "metadata": {
        "id": "2Th20bN3EtEw"
      },
      "source": [
        "0.5 points for *entropy* function. WARNING! Use only natural logarithm np.log() for calculation."
      ]
    },
    {
      "cell_type": "code",
      "execution_count": 10,
      "metadata": {
        "ExecuteTime": {
          "end_time": "2022-01-17T20:27:52.376406Z",
          "start_time": "2022-01-17T20:27:51.230Z"
        },
        "id": "et0GFZ2XEtEx"
      },
      "outputs": [],
      "source": [
        "def entropy(x):\n",
        "    \"\"\" Calculate Entropy for a node\n",
        "    Args:\n",
        "        x: Numpy-array of targets in a node\n",
        "    Returns:\n",
        "        float: Entropy\n",
        "    \"\"\"\n",
        "    # If you use vectorized operations on a vector of frequencies p\n",
        "    # where some of the relative frequencies may be 0, and you need to evaluate\n",
        "    # the expression p * np.log(p), you can use the \"where\" argument of the np.log() function.\n",
        "    # This will leave those elements of the array untouched by the function, \n",
        "    # thus evaluating x*log(x) as zero, exactly as we want it to be.\n",
        "    if x.shape[0] == 0:\n",
        "        return 0\n",
        "    unique, counts = np.unique(x, return_counts=True)\n",
        "    if unique.shape[0]<=1:\n",
        "        return 0 \n",
        "    p=counts/x.shape[0]\n",
        "\n",
        "    return -(p[0]*np.log(p[0]) + p[1]*np.log(p[1]))"
      ]
    },
    {
      "cell_type": "code",
      "execution_count": 11,
      "metadata": {
        "ExecuteTime": {
          "end_time": "2022-01-17T20:27:52.376406Z",
          "start_time": "2022-01-17T20:27:51.233Z"
        },
        "id": "VFdtrEWDEtEx",
        "colab": {
          "base_uri": "https://localhost:8080/"
        },
        "outputId": "fb7366fa-bcd9-48cf-cba3-d62e4e2b9890"
      },
      "outputs": [
        {
          "output_type": "stream",
          "name": "stdout",
          "text": [
            "\u001b[92m All good!\n"
          ]
        }
      ],
      "source": [
        "tests.test_entropy(entropy)"
      ]
    },
    {
      "cell_type": "markdown",
      "metadata": {
        "id": "iSgA9CH8EtEx"
      },
      "source": [
        "0.5 points for *information_gain* function"
      ]
    },
    {
      "cell_type": "code",
      "execution_count": 12,
      "metadata": {
        "ExecuteTime": {
          "end_time": "2022-01-17T20:27:52.377403Z",
          "start_time": "2022-01-17T20:27:51.234Z"
        },
        "id": "vzU4OxQ-EtEx"
      },
      "outputs": [],
      "source": [
        "def information_gain(parent_node, splits):\n",
        "    \"\"\" Calculate Information Gain for a particular split\n",
        "    Args:\n",
        "        parent_node: Numpy-array of targets in a parent node\n",
        "        splits: List of two numpy-arrays. Each numpy-array is targets in a child node\n",
        "    Returns:\n",
        "        float: Information Gain\n",
        "    \"\"\"\n",
        "    inf_splits=[]\n",
        "    for e in splits:\n",
        "      inf_splits.append(e.shape[0]/parent_node.shape[0]*entropy(e))\n",
        "    return entropy(parent_node) - (np.sum(inf_splits))       \n",
        "    pass"
      ]
    },
    {
      "cell_type": "code",
      "execution_count": 13,
      "metadata": {
        "ExecuteTime": {
          "end_time": "2022-01-17T20:27:52.378400Z",
          "start_time": "2022-01-17T20:27:51.236Z"
        },
        "id": "EHzuXWKIEtEz",
        "colab": {
          "base_uri": "https://localhost:8080/"
        },
        "outputId": "1b8989f6-7e3c-4bfa-e4c2-eb0633d454e9"
      },
      "outputs": [
        {
          "output_type": "stream",
          "name": "stdout",
          "text": [
            "\u001b[92m All good!\n"
          ]
        }
      ],
      "source": [
        "tests.test_information_gain(information_gain)"
      ]
    },
    {
      "cell_type": "markdown",
      "metadata": {
        "id": "4oZ_dJAEEtEz"
      },
      "source": [
        "## Split function"
      ]
    },
    {
      "cell_type": "markdown",
      "metadata": {
        "id": "MXYyCo0UEtEz"
      },
      "source": [
        "**Task 2 - 1 point** Implement *split_dataset* function. <br>\n",
        "The rows of the dataframe received by a tree node are split into two dataframes depending on their values in a selected column. Rows with values smaller than the chosen threshold are stored in the resulting left dataframe, and we save rows with values larger than the threshold in the right dataframe. The array with target values should be split in accordance with the feature dataframe."
      ]
    },
    {
      "cell_type": "code",
      "execution_count": 14,
      "metadata": {
        "ExecuteTime": {
          "end_time": "2022-01-17T20:27:52.379398Z",
          "start_time": "2022-01-17T20:27:51.239Z"
        },
        "id": "qQ5DD-pCEtE0"
      },
      "outputs": [],
      "source": [
        "def split(X, y, value):\n",
        "    \"\"\" Split y-values in order to calculate gain later\n",
        "    Args:\n",
        "        X: 1-dimensional numpy-array of data predictor with shape (N,)\n",
        "        y: 1-dimensional numpy-array of targets with shape (N,)\n",
        "        value (float): the value by which the X should be splitted\n",
        "    Returns:\n",
        "        Two 1-dimensional numpy-arrays with targets related to splits\n",
        "    \"\"\"      \n",
        "    left_mask = X < value\n",
        "    right_mask = X >= value\n",
        "    return y[left_mask], y[right_mask]\n",
        "\n",
        "\n",
        "def split_dataset(X, y, column, value):\n",
        "    \"\"\" Split dataset by a particular column and value\n",
        "    Args:\n",
        "        X: 2-dimensional numpy-array (N, num_feats). N-number of samples\n",
        "        y: 1-dimensional numpy-array of targets with shape (N,)  \n",
        "        column (int): the column by which the X should be splitted\n",
        "        value (float): the value by which the column should be splitted\n",
        "    Returns:\n",
        "        Two 2-dimensional numpy-arrays with data and two 1-dimensional numpy-arrays with targets related to splits\n",
        "        left_X, right_X, left_y, right_y\n",
        "    \"\"\"       \n",
        "    left_mask = X[:,column] < value\n",
        "    right_mask = X[:,column] >= value\n",
        "    left_y, right_y = y[left_mask], y[right_mask]\n",
        "    left_X, right_X = X[left_mask], X[right_mask]\n",
        "    return left_X, right_X, left_y, right_y"
      ]
    },
    {
      "cell_type": "code",
      "execution_count": 15,
      "metadata": {
        "ExecuteTime": {
          "end_time": "2022-01-17T20:27:52.380396Z",
          "start_time": "2022-01-17T20:27:51.240Z"
        },
        "id": "DLWFXk5qEtE0",
        "colab": {
          "base_uri": "https://localhost:8080/"
        },
        "outputId": "2dc7e665-581d-4948-9671-c9a07c4fdb4d"
      },
      "outputs": [
        {
          "output_type": "stream",
          "name": "stdout",
          "text": [
            "\u001b[92m All good!\n"
          ]
        }
      ],
      "source": [
        "tests.test_split_dataset(split_dataset)"
      ]
    },
    {
      "cell_type": "markdown",
      "metadata": {
        "id": "d4lU2bB_EtE1"
      },
      "source": [
        "## Decision tree"
      ]
    },
    {
      "cell_type": "markdown",
      "metadata": {
        "id": "3G52lsAMEtE1"
      },
      "source": [
        "**Task 3 - 4.5 points** In the Tree class below you need to complete the *fit(), predict_row()* and *predict()* functions.<br>\n",
        "Each tree is basically a tree node that may have a left and a right child that are also trees. If a tree doesn't have any child nodes, we call it a leaf.<br>\n",
        "Since features for splitting a dataframe are chosen randomly, we need a mechanism to control this randomness to aquire reproducibility for testing purposes. In our case we use the [Random Generator](https://numpy.org/doc/stable/reference/random/generator.html)<br>\n",
        "By creation of a tree only the **criterion** and the **rng** fields are not filled with Nones, so each tree knows what criterion for dataframe splitting it should use. Each fitted tree knows as well by which column and value the split should be performed. If a tree is a leaf it doesn't have information about the split, but stores the predicted value."
      ]
    },
    {
      "cell_type": "code",
      "execution_count": 16,
      "metadata": {
        "ExecuteTime": {
          "end_time": "2022-01-17T22:03:37.866634Z",
          "start_time": "2022-01-17T22:03:37.816038Z"
        },
        "id": "7ktclDPgEtE1"
      },
      "outputs": [],
      "source": [
        "class Tree(object):\n",
        "    \"\"\"A decision tree classifier.\n",
        "\n",
        "    Args:\n",
        "        criterion : {\"gini\", \"entropy\"}, default=\"gini\"\n",
        "            The function to measure the quality of a split. Supported criteria are\n",
        "            \"gini\" for the Gini impurity and \"entropy\" for the information gain.\n",
        "        random_gen: numpy Random Generator object, default=None\n",
        "            Generator should be passed over for reproducible results. If None, \n",
        "            a new np.random.default_rng() will be created.\n",
        "    \"\"\"\n",
        "    def __init__(self, criterion='gini', random_gen=None):\n",
        "        if criterion not in [\"gini\", \"entropy\"]:\n",
        "            raise ValueError(f'Unknown criteria for splits {criterion}')\n",
        "        self.criterion = criterion\n",
        "        self.threshold = None           # value of the next split\n",
        "        self.column_index = None        # column to use for the next split\n",
        "        self.outcome_probs = None       # the predicted value if the tree is a leaf\n",
        "        self.left_child = None\n",
        "        self.right_child = None\n",
        "        self.rng = random_gen if random_gen is not None else np.random.default_rng()\n",
        "\n",
        "    @property\n",
        "    def is_terminal(self):\n",
        "        \"\"\"Define is it terminal node.\"\"\"          \n",
        "        return not bool(self.left_child and self.right_child)\n",
        "    \n",
        "    def _compute_gain(self, y, splits):\n",
        "        \"\"\"Compute split gain according to chosen criteria.\"\"\"\n",
        "        func = gini_gain if self.criterion == 'gini' else information_gain\n",
        "        return func(y, splits)\n",
        "\n",
        "    def _find_splits(self, X):\n",
        "        \"\"\"Find all possible split values.\"\"\"\n",
        "        split_values = set()\n",
        "\n",
        "        # Get unique values in a sorted order\n",
        "        x_unique = list(np.unique(X))\n",
        "        for i in range(1, len(x_unique)):\n",
        "            # Find a point between two values\n",
        "            average = (x_unique[i - 1] + x_unique[i]) / 2.0\n",
        "            split_values.add(average)\n",
        "\n",
        "        return list(split_values)\n",
        "\n",
        "    def _find_best_split(self, X, y, n_features):\n",
        "        \"\"\"Find best feature and value for a split. Greedy algorithm.\"\"\"\n",
        "        # Sample random subset of features\n",
        "        subset = self.rng.choice(list(range(0, X.shape[1])), n_features, replace=False)\n",
        "\n",
        "        max_gain, max_col, max_val = None, None, None\n",
        "\n",
        "        for column in subset:\n",
        "            split_values = self._find_splits(X[:, column])\n",
        "            for value in split_values:\n",
        "                splits = split(X[:, column], y, value)\n",
        "                gain = self._compute_gain(y, splits)\n",
        "\n",
        "                if (max_gain is None) or (gain > max_gain):\n",
        "                    max_col, max_val, max_gain = column, value, gain\n",
        "        return max_col, max_val, max_gain\n",
        "    \n",
        "    def _compute_outcome(self, y):\n",
        "        \"\"\"Save outcome probabilities for the leaf.\"\"\"\n",
        "        self.outcome_probs = np.around(np.sum(y) / y.shape[0])\n",
        "\n",
        "    def fit(self, X, y, feature_frac=1.0, max_depth=None):\n",
        "        \"\"\"Fit model.\n",
        "\n",
        "        Args:\n",
        "            X (numpy-array):      The training input samples. 2-dimensional numpy array.\n",
        "            y (numpy-array):      The target values. 1-dimensional numpy array.\n",
        "            feature_frac (float): The fraction of features to use when fit is performed. Must be \n",
        "                                  between 0.0 and 1.0 (default: 1.0, i.e. all features).\n",
        "            max_depth (int):      The maximum depth of the tree. If None, then nodes are expanded\n",
        "                                  until all leaves are pure.\n",
        "        \"\"\"\n",
        "        # 3 points\n",
        "        \n",
        "        # Make this tree a leaf and return if max_depth doesn't allow it to grow further\n",
        "        if max_depth is not None and max_depth == 0:\n",
        "            self._compute_outcome(y)\n",
        "            return self\n",
        "        \n",
        "        if not 0.0 <= feature_frac <= 1.0:\n",
        "            raise ValueError('feature_frac must lie between 0.0 and 1.0')\n",
        "        # Compute the number of features to use. Should be integer number\n",
        "        n_features = int(X.shape[1]*feature_frac)\n",
        "        \n",
        "        # Find the next split    \n",
        "        column, value, gain = self._find_best_split(X, y, n_features)\n",
        "        \n",
        "        # Make this tree a leaf and return if the split doesn't bring any gain\n",
        "        if gain is None or gain == 0:\n",
        "            self._compute_outcome(y)\n",
        "            return self\n",
        "        \n",
        "        # Save the necessary information about the next split\n",
        "        self.threshold = value           # value of the next split\n",
        "        self.column_index = column        # column to use for the next split\n",
        "        \n",
        "        # Reduce the max_depth parameter for the next tree\n",
        "        if max_depth is not None:\n",
        "            max_depth -=  1\n",
        "\n",
        "        # Split dataset\n",
        "        left_X, right_X, left_target, right_target = split_dataset(X, y, column, value)\n",
        "\n",
        "        # Grow left and right child. Pass over the parent's random generator\n",
        "        # for reproducible results \n",
        "        self.left_child = Tree(criterion=self.criterion, random_gen=self.rng)\n",
        "        self.right_child = Tree(criterion=self.criterion, random_gen=self.rng)\n",
        "\n",
        "        self.left_child.fit(left_X, left_target, feature_frac=feature_frac, max_depth=max_depth)\n",
        "        self.right_child.fit(right_X, right_target, feature_frac=feature_frac, max_depth=max_depth)\n",
        "    \n",
        "\n",
        "    def predict_row(self, row):\n",
        "        \"\"\"Predict single row.\"\"\"\n",
        "        # 0.5 points\n",
        "        \n",
        "        if not self.is_terminal:\n",
        "            # Use the stored information about the split to define \n",
        "            # if the right or the left child to use\n",
        "            if row[self.column_index] < self.threshold:\n",
        "                return self.left_child.predict_row(row)\n",
        "            else:\n",
        "                return self.right_child.predict_row(row)\n",
        "        return self.outcome_probs\n",
        "\n",
        "    def predict(self, X):\n",
        "        \"\"\"Make predictions.\n",
        "\n",
        "        Args:\n",
        "            X (numpy-array): The test input samples. 2-dimensional numpy array.\n",
        "        Returns:\n",
        "            1-dimensional numpy-array with predictions     \n",
        "        \"\"\" \n",
        "        # 1 point\n",
        "        \n",
        "        # Create a numpy array of zeros of necessary length to save predictions\n",
        "        result = np.zeros(X.shape[0])\n",
        "        # Go through all rows of the dataset\n",
        "        for i in range(X.shape[0]):\n",
        "            # Save the prediction for the current row\n",
        "            result[i] = self.predict_row(X[i])\n",
        "        return result"
      ]
    },
    {
      "cell_type": "code",
      "execution_count": 17,
      "metadata": {
        "ExecuteTime": {
          "end_time": "2022-01-17T20:27:52.381392Z",
          "start_time": "2022-01-17T20:27:51.244Z"
        },
        "id": "j6fs2_KTEtE2",
        "colab": {
          "base_uri": "https://localhost:8080/"
        },
        "outputId": "4cbd3685-3df6-49a3-9e56-4deb8ebb38fd"
      },
      "outputs": [
        {
          "output_type": "stream",
          "name": "stdout",
          "text": [
            "\u001b[92m All good!\n"
          ]
        }
      ],
      "source": [
        "tests.test_tree(Tree)"
      ]
    },
    {
      "cell_type": "markdown",
      "metadata": {
        "id": "XGNVq1rYEtE2"
      },
      "source": [
        "**Task 4 - 1 point** Fit two models with \"max_depth=3\" and \"max_depth=None\" hyperparameters. **Explain** the results."
      ]
    },
    {
      "cell_type": "code",
      "execution_count": 18,
      "metadata": {
        "ExecuteTime": {
          "end_time": "2022-01-17T20:27:52.382390Z",
          "start_time": "2022-01-17T20:27:51.246Z"
        },
        "id": "gVIe2t8OEtE2",
        "colab": {
          "base_uri": "https://localhost:8080/"
        },
        "outputId": "cd78c04d-1d3b-40de-ee3b-8ed73e013cb6"
      },
      "outputs": [
        {
          "output_type": "stream",
          "name": "stdout",
          "text": [
            "max_depth=3\n",
            "train accuracy:  0.927710843373494\n",
            "test accuracy:  0.6666666666666666\n"
          ]
        }
      ],
      "source": [
        "# Your code here\n",
        "model_d_3 = Tree()\n",
        "model_d_3.fit(np.array(X_train), y_train, max_depth=3)\n",
        "print('max_depth=3')\n",
        "print('train accuracy: ', accuracy_score(y_train, model_d_3.predict(X_train.values)))\n",
        "print('test accuracy: ', accuracy_score(y_test, model_d_3.predict(X_test.values)))"
      ]
    },
    {
      "cell_type": "code",
      "execution_count": 19,
      "metadata": {
        "ExecuteTime": {
          "end_time": "2022-01-17T20:27:52.383389Z",
          "start_time": "2022-01-17T20:27:51.248Z"
        },
        "id": "RNHY__cMEtE2",
        "colab": {
          "base_uri": "https://localhost:8080/"
        },
        "outputId": "276a48ae-713f-409f-dec8-85b64766582d"
      },
      "outputs": [
        {
          "output_type": "stream",
          "name": "stdout",
          "text": [
            "max_depth=None\n",
            "train accuracy:  1.0\n",
            "test accuracy:  0.6666666666666666\n"
          ]
        }
      ],
      "source": [
        "# Your code here\n",
        "model_d_0 = Tree()\n",
        "model_d_0.fit(np.array(X_train), y_train)\n",
        "print('max_depth=None')\n",
        "print('train accuracy: ', accuracy_score(y_train, model_d_0.predict(X_train.values)))\n",
        "print('test accuracy: ', accuracy_score(y_test, model_d_0.predict(X_test.values)))"
      ]
    },
    {
      "cell_type": "code",
      "execution_count": 20,
      "metadata": {
        "ExecuteTime": {
          "end_time": "2022-01-17T20:27:52.384384Z",
          "start_time": "2022-01-17T20:27:51.249Z"
        },
        "id": "10IZ5Ui1EtE3"
      },
      "outputs": [],
      "source": [
        "def plot_metrics_on_depths(criterion='gini'):\n",
        "    max_depths, train_scores, test_scores = [], [], []\n",
        "    for max_depth in range(0, 8):\n",
        "        max_depths.append(max_depth)\n",
        "        model = Tree(criterion=criterion)\n",
        "        model.fit(X_train.values, y_train.values, max_depth=max_depth)\n",
        "        train_scores.append(accuracy_score(y_train, model.predict(X_train.values)))\n",
        "        y_pred = model.predict(X_test.values)\n",
        "        test_scores.append(accuracy_score(y_test, y_pred))\n",
        "    res_metrics = pd.DataFrame(data={'train': train_scores, 'test': test_scores}, index=max_depths)\n",
        "    sns.set(rc={'figure.figsize':(16, 6)})\n",
        "    plt.plot(res_metrics['train'], label='train score')\n",
        "    plt.plot(res_metrics['test'], label='test score')\n",
        "    plt.title(\"Accuracy as a function of max_depth\")\n",
        "    plt.xlabel('max_depth')\n",
        "    plt.ylabel('accuracy')\n",
        "    plt.legend()\n",
        "    plt.show();"
      ]
    },
    {
      "cell_type": "code",
      "execution_count": 21,
      "metadata": {
        "ExecuteTime": {
          "end_time": "2022-01-17T20:27:52.384384Z",
          "start_time": "2022-01-17T20:27:51.250Z"
        },
        "id": "VpJ68h2IEtE3",
        "colab": {
          "base_uri": "https://localhost:8080/",
          "height": 410
        },
        "outputId": "b46b6745-ba68-4342-a3da-8cce72dcbd01"
      },
      "outputs": [
        {
          "output_type": "display_data",
          "data": {
            "text/plain": [
              "<Figure size 1152x432 with 1 Axes>"
            ],
            "image/png": "[encoded data removed]"
          },
          "metadata": {}
        }
      ],
      "source": [
        "plot_metrics_on_depths('gini')"
      ]
    },
    {
      "cell_type": "code",
      "execution_count": 22,
      "metadata": {
        "ExecuteTime": {
          "end_time": "2022-01-17T20:27:52.385383Z",
          "start_time": "2022-01-17T20:27:51.252Z"
        },
        "id": "2gczn78nEtE4",
        "colab": {
          "base_uri": "https://localhost:8080/",
          "height": 410
        },
        "outputId": "1919b4fb-8238-4401-9673-b8d274762f64"
      },
      "outputs": [
        {
          "output_type": "display_data",
          "data": {
            "text/plain": [
              "<Figure size 1152x432 with 1 Axes>"
            ],
            "image/png": "[encoded data removed]"
          },
          "metadata": {}
        }
      ],
      "source": [
        "plot_metrics_on_depths('entropy')"
      ]
    },
    {
      "cell_type": "markdown",
      "source": [
        "When max_depth is not set, the model seems to overfit as it will create more leaves with specific thresholds."
      ],
      "metadata": {
        "id": "UyRLM2w3yKeX"
      }
    },
    {
      "cell_type": "markdown",
      "metadata": {
        "id": "bg2ACjhDEtE5"
      },
      "source": [
        "## Random forest"
      ]
    },
    {
      "cell_type": "markdown",
      "metadata": {
        "id": "gykQ54GREtE6"
      },
      "source": [
        "**Task 5 - 1.5 Points** In the RandomForestClassifier class below you need to complete the *fit* and *predict()* functions"
      ]
    },
    {
      "cell_type": "code",
      "execution_count": 23,
      "metadata": {
        "ExecuteTime": {
          "end_time": "2022-01-17T22:16:11.657659Z",
          "start_time": "2022-01-17T22:16:11.627802Z"
        },
        "id": "ZkWtDBoDEtE6"
      },
      "outputs": [],
      "source": [
        "class RandomForestClassifier(object):\n",
        "    \"\"\"\n",
        "    A random forest classifier.\n",
        "    A random forest is a meta estimator that fits a number of decision tree\n",
        "    classifiers on various sub-samples of the dataset and uses averaging to\n",
        "    improve the predictive accuracy and control overfitting.\n",
        "    \n",
        "    Args:\n",
        "        n_estimators : int, default=10\n",
        "            The number of trees in the forest.\n",
        "\n",
        "        max_depth : int, default=None\n",
        "            The maximum depth of the tree. If None, then nodes are expanded until\n",
        "            all leaves are pure.        \n",
        "\n",
        "        feature_frac : float, default=None\n",
        "            The fraction of features to use when looking for the best split. Must be \n",
        "            between 0.0 and 1.0. If None, then `feature_frac = 1 / sqrt(n_features)`.\n",
        "\n",
        "        criterion : {\"gini\", \"entropy\"}, default=\"gini\"\n",
        "            The function to measure the quality of a split. Supported criteria are\n",
        "            \"gini\" for the Gini impurity and \"entropy\" for the information gain.\n",
        "            \n",
        "        random_gen: numpy Random Generator object, default=None\n",
        "            Generator should be passed over for reproducible results. If None, \n",
        "            a new np.random.default_rng() will be created.\n",
        "    \"\"\"\n",
        "\n",
        "    def __init__(self, n_estimators=10, max_depth=None, feature_frac=None, \n",
        "                 criterion=\"entropy\", bootstrap=True, random_gen=None):\n",
        "        self.n_estimators = n_estimators\n",
        "        self.max_depth = max_depth\n",
        "        self.bootstrap = bootstrap\n",
        "        self.feature_frac = feature_frac\n",
        "        \n",
        "        if criterion not in [\"gini\", \"entropy\"]:\n",
        "            raise ValueError(f'Unknown criteria for splits {criterion}')\n",
        "        self.criterion = criterion\n",
        "        \n",
        "        self.rng = random_gen if random_gen is not None else np.random.default_rng()\n",
        "        self.trees = [Tree(criterion=self.criterion, random_gen=self.rng) \n",
        "                            for _ in range(n_estimators)]\n",
        "        \n",
        "    def _init_data(self, X, y):\n",
        "        \"\"\"Ensure data are in the expected format.\n",
        "        Ensures X and y are stored as numpy ndarrays by converting from an\n",
        "        array-like object if necessary. \n",
        "        Parameters\n",
        "        Args:\n",
        "            X : array-like\n",
        "                Feature dataset.\n",
        "            y : array-like, default=None\n",
        "                Target values. By default is required, but if y_required = false\n",
        "                then may be omitted.\n",
        "        \"\"\"\n",
        "        self.size = len(X)\n",
        "        \n",
        "        if not isinstance(X, np.ndarray):\n",
        "            self.X = np.array(X)\n",
        "        else:\n",
        "            self.X = X\n",
        "\n",
        "        if not isinstance(y, np.ndarray):\n",
        "            self.y = np.array(y)\n",
        "        else:\n",
        "            self.y = y\n",
        "            \n",
        "    def bootstrap_data(self, size):\n",
        "        return self.rng.integers(size, size=size)\n",
        "    \n",
        "    def fit(self, X, y):\n",
        "        \"\"\"Fit model.\n",
        "\n",
        "        Args:\n",
        "            X (numpy-array): The training input samples. 2-dimensional numpy array.\n",
        "            y (numpy-array): The target values. 1-dimensional numpy array.\n",
        "        \"\"\"\n",
        "        # 0.5 points\n",
        "        \n",
        "        if self.feature_frac is None:\n",
        "            self.feature_frac = 1 / np.sqrt(X.shape[1])\n",
        "        elif not 0.0 <= self.feature_frac <= 1.0:\n",
        "            raise ValueError('feature_frac must lie between 0.0 and 1.0')\n",
        "            \n",
        "        self._init_data(X, y)\n",
        "        \n",
        "        # Iterate over all trees in the forest\n",
        "        for tree in self.trees:\n",
        "            if self.bootstrap:\n",
        "                idxs = self.bootstrap_data(self.size)\n",
        "                X = self.X[idxs]\n",
        "                y = self.y[idxs]\n",
        "            else:\n",
        "                X = self.X\n",
        "                y = self.y\n",
        "                \n",
        "            # Fit the tree    \n",
        "            tree.fit(X, y, feature_frac=self.feature_frac, max_depth=self.max_depth)\n",
        "            \n",
        "    def predict(self, X):\n",
        "        \"\"\"Make predictions.\n",
        "\n",
        "        Args:\n",
        "            X (numpy-array): The test data input samples. 2-dimensional numpy array.\n",
        "        \"\"\"\n",
        "        # 1 point\n",
        "        \n",
        "        if not isinstance(X, np.ndarray):\n",
        "            X = np.array(X)\n",
        "\n",
        "        if self.X is not None:\n",
        "            # Create a numpy array of zeros of necessary length\n",
        "            predictions = np.zeros(X.shape[0])\n",
        "            # Go through all rows of the dataset\n",
        "            for i in range(X.shape[0]):\n",
        "                # Initialize a counter for voting\n",
        "                row_pred = []\n",
        "                # Sum up predictions from all the voters\n",
        "                for tree in self.trees:\n",
        "                    row_pred.append(tree.predict_row(X[i]))\n",
        "                # Compute the mean of the votes    \n",
        "                row_pred = np.mean(row_pred)\n",
        "                # Save the rounded value as the prediction for the current row\n",
        "                predictions[i] = round(row_pred)\n",
        "            return predictions  \n",
        "        else:\n",
        "            raise ValueError(\"You should fit a model before `predict`\")"
      ]
    },
    {
      "cell_type": "code",
      "execution_count": 24,
      "metadata": {
        "ExecuteTime": {
          "end_time": "2022-01-17T20:27:52.387491Z",
          "start_time": "2022-01-17T20:27:51.255Z"
        },
        "id": "TE0dDWN4EtE6",
        "colab": {
          "base_uri": "https://localhost:8080/"
        },
        "outputId": "1f38b4c2-fcb8-447f-b2ff-651ad17bb4c2"
      },
      "outputs": [
        {
          "output_type": "stream",
          "name": "stdout",
          "text": [
            "\u001b[92m All good!\n"
          ]
        }
      ],
      "source": [
        "tests.test_random_forest(RandomForestClassifier)"
      ]
    },
    {
      "cell_type": "markdown",
      "metadata": {
        "id": "MoemCDBzEtE7"
      },
      "source": [
        "**Task 6 - 1 Point** Fit two models with \"n_estimators=10\" and \"n_estimators=100\" hyperparameters. **Explain** the results."
      ]
    },
    {
      "cell_type": "code",
      "execution_count": 25,
      "metadata": {
        "ExecuteTime": {
          "end_time": "2022-01-17T20:27:52.388380Z",
          "start_time": "2022-01-17T20:27:51.257Z"
        },
        "id": "yToXPBgsEtE7",
        "colab": {
          "base_uri": "https://localhost:8080/"
        },
        "outputId": "594a175d-5667-4511-b2a6-ab43b8eb1a58"
      },
      "outputs": [
        {
          "output_type": "stream",
          "name": "stdout",
          "text": [
            "n_estimators=10\n",
            "train accuracy:  1.0\n",
            "test accuracy:  0.7619047619047619\n"
          ]
        }
      ],
      "source": [
        "# Your code here\n",
        "model_n_10 = RandomForestClassifier(n_estimators = 10)\n",
        "model_n_10.fit(X_train, y_train)\n",
        "print('n_estimators=10')\n",
        "print('train accuracy: ', accuracy_score(y_train, model_n_10.predict(X_train.values)))\n",
        "print('test accuracy: ', accuracy_score(y_test, model_n_10.predict(X_test.values)))"
      ]
    },
    {
      "cell_type": "code",
      "execution_count": 26,
      "metadata": {
        "ExecuteTime": {
          "end_time": "2022-01-17T20:27:52.389380Z",
          "start_time": "2022-01-17T20:27:51.259Z"
        },
        "id": "hJ_ftsBHEtE8",
        "colab": {
          "base_uri": "https://localhost:8080/"
        },
        "outputId": "c37e28b7-968e-4453-909c-3cfa00b9a3d6"
      },
      "outputs": [
        {
          "output_type": "stream",
          "name": "stdout",
          "text": [
            "n_estimators=100\n",
            "train accuracy:  1.0\n",
            "test accuracy:  0.8809523809523809\n"
          ]
        }
      ],
      "source": [
        "# Your code here\n",
        "model_n_100 = RandomForestClassifier(n_estimators = 100)\n",
        "model_n_100.fit(X_train, y_train)\n",
        "print('n_estimators=100')\n",
        "print('train accuracy: ', accuracy_score(y_train, model_n_100.predict(X_train.values)))\n",
        "print('test accuracy: ', accuracy_score(y_test, model_n_100.predict(X_test.values)))"
      ]
    },
    {
      "cell_type": "markdown",
      "source": [
        "With more trees, the training and test accuracy increased. \"The official page of the algorithm states that random forest does not overfit, and you can use as much trees as you want.\""
      ],
      "metadata": {
        "id": "_EsHdskPTPTe"
      }
    },
    {
      "cell_type": "markdown",
      "metadata": {
        "id": "rvJ6lLg-EtE9"
      },
      "source": [
        "Now it's your turn to explore the various parameters of RandomForestClassifier and their influence on model quality."
      ]
    },
    {
      "cell_type": "markdown",
      "metadata": {
        "id": "uSFEyIp1EtE9"
      },
      "source": [
        "# Homework part 2. Random Forest in action"
      ]
    },
    {
      "cell_type": "markdown",
      "metadata": {
        "id": "Xr7v9A0vEtE9"
      },
      "source": [
        "_Note_: Consider **accuracy** as main metric of model performance on this dataset."
      ]
    },
    {
      "cell_type": "markdown",
      "metadata": {
        "id": "duM5OvsPEtE9"
      },
      "source": [
        "_Note_: For tasks 1 to 5 please use your custom RandomForestClassifier if it is completed."
      ]
    },
    {
      "cell_type": "markdown",
      "metadata": {
        "id": "FkWOxDiVEtE-"
      },
      "source": [
        "**Task 1 (0.5 points)** Split the dataset into train, test and validation parts (0.6 / 0.2 / 0.2). First two will be used for model hyperparameter tuning whereas the best model quality should be evaluated on validation part."
      ]
    },
    {
      "cell_type": "code",
      "execution_count": 27,
      "metadata": {
        "ExecuteTime": {
          "end_time": "2022-01-17T20:27:52.390375Z",
          "start_time": "2022-01-17T20:27:51.261Z"
        },
        "id": "AlAZpw6hEtE-"
      },
      "outputs": [],
      "source": [
        "# Your code here\n",
        "X_train_test, X_val, y_train_test, y_val = train_test_split(df.drop(columns='target'), df['target'], test_size=0.2, random_state=RANDOM_STATE)\n",
        "X_train, X_test, y_train, y_test = train_test_split(X_train_test, y_train_test, test_size=0.25, random_state=RANDOM_STATE) "
      ]
    },
    {
      "cell_type": "markdown",
      "metadata": {
        "id": "59w5rNe2EtE-"
      },
      "source": [
        "### Grid Search and Random Search"
      ]
    },
    {
      "cell_type": "markdown",
      "metadata": {
        "id": "GfoIWD84EtE-"
      },
      "source": [
        "If you have enough computational power for model training in a reasonable amount of time more sophisticated approach of hyperparameter tuning would be either Grid Search or Random Search.<br>\n",
        "\n",
        "In a nutshell Grid Search allows you to pass through all different combinations of given model parameters and their values and choose the best combination. Whereas Random Search would randomly choose values for given model parameters and evaluate them on test data untill it reaches the specified number of iterations.<br>\n",
        "\n",
        "More information here [Gentle introduction to Grid and Random search](https://medium.com/@senapati.dipak97/grid-search-vs-random-search-d34c92946318) and here [Detailed Explanation with code examples](https://machinelearningmastery.com/hyperparameter-optimization-with-random-search-and-grid-search/)."
      ]
    },
    {
      "cell_type": "markdown",
      "metadata": {
        "id": "DywSOwHwEtE_"
      },
      "source": [
        "![grid_random_search.png](data:image/png;base64,iVBORw0KGgoAAAANSUhEUgAAA54AAAIbCAIAAAAM59ZvAAAACXBIWXMAAA7EAAAOxAGVKw4bAAAgAElEQVR4nOzdeVhUZfsH8OcAw7DJIuKCoOwouKC4oLhllltmaZuVb/kre9VXM5fKtzQ1zVxKUwtNM23Tei0z911RWVxQUED2HVyQHWY9c87vj9FxGIZhgGHOzJnv5+rqmjnrPUe9uXnmWWxYliUAAAAAAObPiusAAAAAAAAMA6UtAAAAAPAESlsAAAAA4AmUtgAAAADAEyhtAQAAAIAnUNoCAAAAAE+gtAUAAAAAnkBpCwAAAAA8gdIWAAAAAHgCpS0AAAAA8ARKWwAAAADgCZS2AAAAAMATKG0BAAAAgCdQ2gIAAAAAT6C0BQAAAACeQGkLAAAAADyB0hYAAAAAeAKlLQAAAADwBEpbAAAAAOAJlLYAAAAAwBMobQEAAACAJ1DaAgAAAABPoLQFAAAAAJ5AaQsAAAAAPIHSFgAAAAB4AqUtAAAAAPAESlsAAAAA4AmUtgAAAADAEyhtAQAAgGNrNv/MdQjAEyhtAQAAgGNrt/7KdQjAEyhtAQAAAIAnUNoCAAAAAE+gtAUAAAAAnkBpCwAAAAA8gdIWAAAAAHgCpS0AAAAA8ARKWwAAAODYknlvch0C8ARKWwAAAODYJ/P/xXUIwBMobXWhC4q5DgEAwJwgbQIAt1Da6lK57CtJ7HWuowAAMBtIm9AyWGgXDAWlrU5WVO2uP8QnLnAdBwCAmUDahBbBQrtgKChtdaMITYv+Oi766zjXkQAAmAWkTQDgEkpbXSiKEEJYmUx8/Jzs1h2uwwEAMHVIm9AsUpn8w1VRI6bOI4SMmDrv49XbpDI510GBeUNpqwvLPn4hp2t27GXFEk7DAQAwdUiboL/4hJTIyXOKZeKX5r864K1nX5r/ar5UFPnCnPiEFK5DAzOG0lYXSu01K5bU/nqAs1AAAMwB0ibob8HKbwPCg95Z8lZoeA8rG+vQ8B4zl7zl3y94wcpvuQ4NzBhKW11YVfsDIYSmpZevMZXV3IUDAGDqkDZBT+uj9rl7ecz87wyN7e998rabl8dX2/ZxEhXwgA3XAZgTysZGfPy847TJXAcCHKML78quJdJFdylra6vOHsKBYTbdPLkOCsAUIW2CUsO0eeHKzVHTntV68KjnR5zbd3rx7GlGDhL4AaWtbmy9NzQtOR+LHM0Pazb/3LLFb2q+/1V6LYmwhNC0cov4xAUrl3b2T0XaTxxt0BgBzBHSJmjSmjZTb9x5819jVccMG9RH9donqFtaep6RgwTeQIcE3SjNDQwrS8KYXz5owRyKrFRWuXqzLCGZyGlVgiaEEJmcKS0XHTlT/uEX8uw8AwYJYIaQNuEJHWmTYllByV3x6UuK8kpCyPCIvpxFCfyCVtvmYeVyaex12749uQ5EC8W9UkJRlIO9VTtHrmPhp+qNO+nconrZWQ0rErMicdUX3zo8/4zDC2O1HgNggZA2LUppWeXKjbtvJGempGaHhvj3ZugFro4dtDWjBbo4ZOXe6+XfRXrpqiDYT9AjQLUrL6OgR3B34wUN/ILSttlkiSY3KYk05pro6DmmooooFEROC4cNtH9xnHV7V67j4pXaPf+jC4obq2ufUCjEJy7QhSXO8zTHRgBYLKRNC3HwxKUFy7eOfnHk9CXTuwV45xy/ePVi4rj41FU+nca7O2scPMzO9vyVO738uxCWpbPyY1KyR0191Chw4dDFUYP7GT184Al0SGgJuqCY6xCeqPlhX92vfyuK77EiMSuVsQwjuXil6tP1dHY+16HxhzTmujT+JisS63MwK5bIElOqvvyWlWPicYBHkDZ5r7SscsHyrZNnTHp93qtBfQIFZeW+QutXnuo7YWTfZXn3y+Sa7QJzvDwq75XvOXqFEMLSdFzxA8mlq6xCsWPN7vKi0o/mYAwZtBBK22ZjaZrOyOU6ikeq1kXJriYxDUouRiSu+vJbLAVkEIp7D2p+/L15M8/TCnladuXyjWxtXZvFBWA2kDYtwcqNu0e/OHLS9PGEELa2TnozmaVpQsj4oSHDBgZvKC5reMqqbh1z0gt/Onb1Tt59hlakJKTtmLc+KyHtm+VzjR098AhK2+ajFbKbyVwHQQghVRu20zkFrFSqdS8rp2u2/KjIN6GWEjNVs/03yqol/1IUxfeqNu40eDwA5ses0ua9xDtzP900dPIcl8CxQyfPmfvpptKySiPHaY5uJGcOGNlf+Vp6/Zb6gMLwYK9bYlnDU8KdHY6GdO9SeP/vQ7HXfzr196HYjgX3jw0OjQgPNVLQwEcobVtCbgJfWtVE/Uxn5rES7QlaiZXTVZt2MlWYL73l6vYeZMoq2JauaU7nF1Vv+dGwIQGYo7ZOm1KZ/MNVUSOmznMJHDti6ryPV2+TNvhnq0/aPHavPGL6R2J76+lLpu+N3TV9yfQ6J9tBE947eOJSW4bPBymp2X49fQkhsttprFhCGEa1y7uTW3q59p9EtlbUct8uh3t4E0IO9/Be0c3DuqgEaRNaA6Vti7AsXXSXw/vX/viHLCWjsYYHdUxFVc2W3UYIyewsmfdmk8fIbiRLouOZ6pqW34ZWyJPTJediWn4FAH5oy7QZn5ASOXlOsUz80vxX98buemn+q/lSUeQLc+ITngxf0ydtlsnpZXn3J4zoMzXcP6hPoJ2DXVCfwDfff3XyjEkLlm9F261uoSH+RbklirsP6LwiVlqvjbbwfkWwm5O+F0LahNZBadsSLE3LM3K4unvtL3/JbiTr34mTziuq3bO/TUMyR02u18A8KKvZuVd3A48+WKms9qc/6cKSVl4HwKy1adpcsPLbgPCgd5a8FRrew87BLjS8x8wlb/n3C16w8lvlAXqmzQ2FpSMGBI4fGsJUVqvP6jBp+vhRL4xcsRHNBLr07xV4+fAl2Y3bRKHQ2HUzraCPg53+l0LahNZAadsitELOyQzkDFP7wz7ZtSSmplb/k1ialsYmSM7Ftl1c/MPKZFXf/ND0VF96q/3lgKEuBWCW2ixtro/a5+7lMfO/mtPtvffJ225eHl9F7dU/bd4Wy/r16EYIYRlGUXiXzi1U7Ro0qv+N5EzDRs4zn8178/yfZ45f0uxUfTw2NToh88Ou7s29INImtAxKW51YtrE98jtGzXFMeaXkQlz5olXSa0lMVbO/H2el0tpf/5KlIi8/sWbzz43tYmpFVWujFPcftriLbUOK7HxJzHVDXQ3AdBk9bV64cnPE8yO0BCKWDB8ccvKPI/qnzbTKWh/PRxUYq1DIbt1RlD4a198twDs1NdtQMfMPUyuy3fHbKt8uR8/f/OPMjazCB1KZPKvwwf7T149FJ6307ewuaGIe/fneHTW2IG1Cy2DJBl0oimIbS9PWVnRWnk2AT1vcV/HgoeJeKVNazlRVM2UVdH6x4v5DIrBm6/SaV7WRizI13/3ktmqxFeYkJ4QQsnbrr1r7JCjyi6u/28NU1xqwyZYQwtK0aO9Bu8FhxAb/6IDPjJ8209Lz3w7qxtaJmFoRWydipVJWJGGqatg6UVe5OKusWv9uRT1cnUpKq7t1dnv0nmVl15LsnhpK2dsVZBWGhPgZNnLeUKXN8a6Og/r4bsgq3pecm15RG9zeOdRReLKPb5N1LSFkfjcPjS1Im9Ay+OuiS6OND4SwMlp2K601OVoqky9dt/NK4p2kWxl9+wQN6Rfy6chwEpcgS8uirG2IFUUIYRUKoprmWsvEKc3D1tZVf7vH9bMPWnshc6Z67ISQEVPnDekX8vlH7wptBcq94qNn6/48RmysieHaa1UYiaT2lwNOM14x+JUBTEebps2GpPE3WLGEXIyT2Akf3ZplVWPzWTlNKKrxszX1treNS859UtoSwsrk0quJdiMjrkff6N8riGhL3eo5xLwY5LNopE13gc1avy6GihBpE1oAHRJaiqYlF1ree1VjPO/UdydlZ2ePWrg2Li6RKBhWJmMlUlYiJQ2Wb2klRUFx1cYdhr2mGVF/7IQQ9WHUdEFJ5cpN4pPRhGHaoq4lhBBaIY25RucUtMnFAUxf69Km5sXyiyo+XV/74x+BTsLsglJWoSDK/9TmnCq4VxHQrhmjlz709rh8Le14bKr6Rqaq+u/VO8/+fWHFwhn6TMVgLlr/WQybNjcXlGq7B9ImNBtK21ZQMPI7WS07VWM8b6CQevvZ/r6BXssKHhg2Rg2snKbTsmt37m3Tu5gs9cdOCHk0jLpv4PyFX1Yu/5ouutuCfszNwsrp2t/+btNbAJi0VqRNDaJ/TjH3HrBS2TA72/NXtA9Qu3QzM9LRQf9rugtsVvl0PhadVK+36MlrR47EfjG8n4e7a5NTMZiR1nwWViSu/fWAYdPm5kLtP/6QNqG5UNrqpPObLKa2ru7vEy1YSVVjPC9TVa148JBl2LcnDnbt2iGqSNtvrobDSmXShNvV3+wy4Bgps6B1GDWdmTs9rJuLq0NUwf22aqytT1F8T3r5mhFuBMAN/dJmaVlla1b8ovOL5MnpLK0ghMzx8qi8V77n6BWNY/Ycja+4Wz7Xs32zwh/v7nyyj69dVvG+vy6988XefQdirPMfnOztM6625vPpi927dmh0KoZt+5p1I241Ma2Ezs8iPnaufMFK2eVrbfgdV31Im9AsKG1bhU7Prvh0vTy9ecNmNcbzyjNyVd3ThvcLvCxp80zBiiWy22mVy7+WJaU2fTRfqD92VqEghEhORsszclhaMTwswAiP/dGtxZK63w8pfyQDWCA6Pfu3d5YMGveuuJ1ti1f8Eh89x6p1PFjVrWNOeuFPx67eybsvlcnv5N3/5Uh8dkbRaq8OLYhQ2Vv0WEj37MjQYz29N3Tr6C6wYcWSy7mFEd07KO5raX0Y9fyIc/GJLbgXVxqbVoI0/llYmUxyMrpiwUrR4TOsRMqIJW0co9qtkTahOTCMTBeK0jUkQomprK5aG+X0r6l2Tw3V87LK8byPTq+qVtx7oOoc1q2zW2ZVs5uBW4KmFSX3a3f9TjnY248bZTdqiDFuyinVMGp5dr4iv5gQokrNxnvshBBCGLFY/Pdxh5efM9odAYymybRZJqeXpuROHBX2/KShNj7ehJCgPoFBfQJd3JwXLN8aObC3h3sTs7jQ+UWyxBT1oQjhzg5HQ7p/mX/v76zi1LLqEHfncAe7b3p2t7VqxhiyJmVW1r3h4iC7kUwJBDYBPjY+XqpdPkHd0tLzDHivtqb+Y0hDw8+iePBQfOqiNPpKayfqaQWkTdAfSltdmqxrH2GYun2HFCX3Hd94Uc8z7J3slS/kadmat2nOeN5WYqpqSFWN6I/DosNn2s18XdDD32i3NjKmTkRo2ur2HbGojrKyZhWKqU+F1TvCiI+d0Arx8Qu2Ef1tvD2Nd1MAo2gybSpX/Bo3pKf8djpTXWvbp6dy+6Tp46sqqlds3P3dFwt0X0H0z6mGs+faWlHLfQ02ML8x9kIBK5WxUpk8JV2ekSPs39uqg1vTp5kk1Y+hxjB1IlnCbWnMdTo7j7IRsDJZ6yfqaTmkTdAbSlud9K1tCSuVSqLj6ZyCdnPftnJz0X1wzx4+mbez+0b0YiqqFA/KWjOe1yAYkZiIxFVrv3VeMNO2b4iR795izMMK6Y3b8rRs5mE5YVnKTki5tLNu70q5tLN2dbZycSYUJc/IoWxsZCnp8rTsQHtBZlJmL/8uLEMTQqaM6qu6lPEfO6tQ1P3yl8sn84x5UwBjaCpt3hbLXlOu+KVQ0PlFTEWVcHA/yk5ICBk0qv/Pa3/RfTqdUyBPyeBkqECgi0N20cNe/l2IcloxOS25fEUYEW7d2SMvo6BHcHfjh9RcqrQZ6CBI/fVw7xAfIrS1srcjdkJKaEvZCQmhss9dDfJwqVr7nTwtm7K3Y0Viovy8XEPaBD2htNWFoii9i1vCSmXyrLzKZRucZk237RWs48inBoed+fNs34he8rRsjbaH5o7nNSSW1Gz6wXnBuwKTr25ZBVP385+SmGtWQiHTYBiflb09K7ChlB1qKYpSMIxYTAiJtLU5f+WO8seSBk4eO110T3zsnP2E0Ua+L0CbajJtqq/4RRQMU1ElORdjO6CvdUd3fVb8Eh08qd4cYEzKqRjq5xBKGn/Dbkj/C4cujhrcj5Oo9KSRNiMpcvZsQkgnF0KIghDKxoa1sqIowjLM+cOXIh9PZKGsa00H0qYKn+ZXNjgMI9NF/7pWhampq960U3z6oo5jFs+eVlH88PvPvleUlavn6JaN5zUglmWrNu2U3TTpCRplt9MqPlghuXyVyOmGdS0hhBGL2eoaprqGrROxtXXKupY0GEZ94EKS8gVXj52tE4n+PCbHfI3AL02mTeWKX/VOkcml8Qny7PwmV/ySp2fLM3O4mt2lsakYti+NKssq+mjONE6i0kfDtKnxWViaJjIZK5XtOXi5oqTsPx7tjB9kw4V2G0LaVOLT/MptwXrFihVcx2C6xIdOt6R5gGHladmKBw+F/Xs3dkivIN9fvv+joLRKKLBxdhBmFj48cTk5K7PoS28PTyHHv3XJbiQL+/eycuYgtTVJ9Oexur1/syIxYVrwewfpYWe7P+duQUWtUGDz/d+XQ3y7cPzYWZbOzrd/OpKDWwO0jSbT5u1acR6t6KWxYBVLmLLyUyfiunt5TXy60VGttT/sUzys4KrVltTPIfVSdxd3nyH9zCttNvpZOMqHES6Oeh2HtEnIy7OW+/ULePe/b3f07GAjsOno2SF8WFhuVtH//nfy3WkYaYfSVifRoVMtK6GIglGU3JPdSLbtFURp+6bbI69wSumDxMzCc6n5u05eLyt8ECilt/t7etvZtjbo1lMoZLfv2I0cQtlYcx1KPaIDx8WnL7HSlg9k8BQKXuvgklhw/1xqfqlYahKPXSpjxVLb0CDOAjBJzMNyeXa+PDVDUViiKChRFN21cnel8F2bOWgybfZzsl9zM5Oytg709lDffjwm5dSFxO8Durr27ak1bUpjE6Qx11kjzjnVkHoOUU/dXrbWZpc2G/ssJvFjSDdO02ZpWeXHX2xbveWXhZ9tOXw27mZyxsCwno4OTYzWaNlZWq2P2lcqEf3n81ka2/uHB9+ITSy6nDDQTmDhaRN9bdsMraDzCis//8Zt3SeUQ/2BqCxb9/s/gjqREcbztgxTUV39zQ8uH8/hOpAnRAdPik9dbP1PNdUwar+YlMM9vA0RWquwUpnk9EUbHy/hoLCmjzYWViKl84sVRSWKB2V0XpHAv5v91ImUdZv3X6ILSyTR8bLYBOXEw4QQihCWJUShYBnG/pnhdqMjrTt76L4ImDjlil/LopOqRZLwYC/vTm6F9ytuphVcvJ75uV9nl7v3daRNpqaWo6ifaGwqBnNMm8aZVkJPmwtK53fT6183h2nz4IlLC5ZvHf3iyOlLpncL8C7IKrx64cagCe9tWjlv8qhBjaVNHWe9MG54c2O4cOXmqGnPqt4yVTV0fpGisIRl2GE+Hc+dTnivutLC0yZKW10o0oxhZFoxIkntT3+2mz1dfWPdrweIiU89TdN0Vl7d74ccX3ue61AIIUR86LT4+HlWIuU6kDbByuQ123+x9mhv46t9mknjRULTkrMx0svXFMX3iK2AsrFmJFIip+VZueJLV9tNn2rbZj9ImOoa0f+OSK8lEQXDyp/0pFT/Byg5Fys5G2M7sI/d6EhBkK4emcAhfdLmeHfnQc4OG7KK9yXnplfUBrd3DnUUnuzj6y6wIUibBmJ2aXNz4QM9S1tSP20abUBVaVnlguVbJ8+YNGn6eOWWoD6BQb382ykU8z9cHxIW4O5o1zBtVvn7aDmrORM5a1DNSaychE5Rcp8wrHIFE28Pl8yKGkbtD90y0yY6JOgiallfW3UMwzwsZx6U2fbvpdwguXhFciqaqRUZIL42pWAUhSXWbq423bpyG4j4ZLTo8GmDJ+jNhaXzuzU9asFIWFZ2K80ucgAl5OyrQNnNlKpVm+mMHMXDcsKyhKZZmfzR33+GJVKZPDVTnpkr8PehHJuYDrO5JNHxVRu204V3ieqOWjEMYRhF0V1Zwm3Z9SSWVlh3aM/hEwOt9EybDtZWY9zaveHhOr9bxzc8XJ51cXRQfS2AtNlqbZQ221SzczLLym6lJTo6vfSfz207uT77+tiZS97q4u+VnJH31aaf+vTw9/I0cIb/+Itt3n39X5r5gmqL4l6pNPqKfwenGpHkSt69MU52DdPmp78d6T6q/0uzpmhcLbhvYHVVbUx0go7O5Vpt/uHPSW9NpO7el8ZcZ6pqCMOoploSS+UXrme810VtVLRFpk2UtrqID58xwHgFWqEoLSM0TTk5Si/Ei37/h5VwOO11cygUspvJtmEhVq5NzNTbdsSnLor+PtEWvetMq7QlhNAKeXq23YjBnNxcdPh03a8HWKlMvcVUAyuXK+6Vis9cooRCQaCPoW5d98dh8aHTTRS1GuQ0U1lNZ+WJj56hM3IJRWw6dyRt318C9IG0yeO02aZakpNpxfR9x/wjextnQNXqLb+Mf3Oce6dHU9fJ07Nlt+4QhYIwjJ3A+uztvDc8NP/QWbl8Y3bx6D7d3ds7W7XXbJ21sxeeOHD+3WkTmxXGqcvXHaXi9uXlDf+hpec/qCl68JK7s5bTLClt8vNTmRpWJBafuFD95Xfi4+dZBWdje1uCZWuifuZqsm7x6UviA8fNLkG3DCuX07kFtT/sM/6tFcX3RH8d13dCJYYVHzpVuWyDPK2J+Uf1IT56VnohrmVtS6xITBSMLDm9bu/BhzM/qlq/TXIhjimvbH1UYAqQNlvGotLm1vz7bm6Ob40doLH9vU/edvPy+GqbgdNpSmq2X09f5Wu2plZ+J0tVXHp3cksvr9Z6VlplrU+X9vK0bMm5GOZhhfoujYmct/7414vvfuo/9DX/oa+9+O6nUbsPaL3gMNd2Z/+OJgot/XOanKPdQtImWm11ER06ZbBZZmialclNYUGXZpPK6MK7QqPPRi763xHJ8fNMGyZoSt+5ZoyGYRX3SwnDGnnF45qdv7EVVUTv6oGV00xVjexaIltVKwj2b/GQcHlyeu1P+1v/namyKGdKy+SZOZIT0dIrN4lUatXOycrJxP58LQPSJiE8TpttqAWttpvulQ0f3rej0JoQYt2h3tzkQnvh+ROxb7z4jAEjPHw2LiAs0NXdhRAiu3GbFUtUPQHySsru5t57w0NLr9lTNWI/P08XByErldHFd4lUbt3BjVhZEUJy7uSWpBe8O+25wuL7by34MjE7b/jUp15674WnXxzl4O5y+Ej0waPRkQN6uTg7qa4mT07vdSn+h4yi3PKasCAv9RvtORp/P//BFr/O+nwWfqdNlLa6GKCvLQ8wDFNRSVHEeD3QaUXNjt9k129rXZHBUEyurlVSKOTZ+VaODjZ+RhpSJjkXI714pSVTqikUioJiyZnLVq4uNt2avao7Wyeq/PI7A7ctyWnCMGx1rTwlQ3r5qiwugRFLrdo5WbUzyT9rnkLaJIS3abNNtaC0XZd3f/LoMHtbG6aikhII1Fe5F9rZ/r7j7/nvvmzACG8mZ2QX3O0zuBedW0jnFan/PT979Y5nnXSMq1PDs+pN5MyyTGU1nVNoZS+0cml38n9nvF1dJz495K0FX1Yz8qVRH3v5ejq2c3Bs5+Dl6zniuWGnj146d+H6a5OfVl5KlTYNOScxH9MmZkjQpVkL7fIYK5HWHTxp3aWTbXiji1AYijw5vXb3/5jaOvMaAGFIMnndH4es2jm23XQESnRmrvhCnOz6rRY/apamWZqu2fM/Sex1pzdetPbs1NiRW3/861zsjVup2YSQPiH+z0SGv1nxkLRiiuKmY5NI6eJ79P4jor+OdfhhA1+7lJkgpE0lpE3jsFdWcgpGnpJBCW2tu+rVZqmyPmrfxStJqem5hJCQYN9REX0Xz250VbnlC2cMGveOY23tuD7d1fsDHI9NjU7IPNXbV+tZH3p7jL2W5uxgN35oCCGEsCwrl0sTU07sPnLmXML1E7uidh+olkk/3b6k4blLv/3o81lro3YfmDNjCiGk5vtflWkz3NnhaEj3L/Pv/Z1VnFpWHeLuHO5g903P7rZWVLM+vgbepE2UtqAfOV2z/VfXlQt1lC+tROcUSM7FSK8mEkJasy6DnvSfQ9H4WKms+rufXJwcBCH15iRvWCAq852e5Bk5kjOX6ZwCVk6zNbWU0JZVToPQSjK5PDm94pO1jtOn2j89TGNnYfH9eZ9tqZJJn3llzKtLphNCcu7k/bHr4NHSijXeHboaYaCuFcVKpZqTpAIYAe/SZpvSZ6FdDYEuDtlFD3v5dyGEsAqF9Gqi3bCBVh7uhJC8jIIewd11nBufkLJg5bfuXh4jpo35V1A35Snn/on+6/nZm5bPjQgPVR6mnjatampXdeu49NDlypIHGlMyr/TrrJy6riEdEzmv9O/ilJh8JvbGmFfGNBbn2FfGnDp0ec6MKaK/T8iz8lQjfdt2TmIzT5sobUFfrExWvXW325dLSKtrLA3S2OviE9GKBw9ZmibG6lfXrDkUOVH1zS63pfOtu3mSRgrE/f87c+pywtbP3/fu2sQPTknMdfHx82x5JSuXq2pZViQ2ZLgsEf1+mM4uaDdzGqGetBzM+2xLNSNfqtYg0Z4oer82asPPJz8pePhTYLN7MjQXZWXFSsw4R4NZU0+bhsVJ2mxTLUjIw+xsz1+5oyxtCSGEoiTxN+xHRFAu7S4cujiq8b7OUpl87rJvAvsFvfvJDNVG907tw4eH7Vize+6yb2IORrHXkhqmzXFOdgN7+zQ2JXNjdEzkLPr9cGJCxisfvdHYuX49fXZ9uUeacEt0/HybftOlztzTJkpbXfC1mgbmQdmdld/8t6C0xTVWvas9rJCcuyyOvkIpFGY67qFtSWVVX213+WSedWePhgWiR5cOg0cPWD13/bzPthzc9YXWCzDVNZLTlyTR8UQmN8ITZmUy6ZUb8oycdu+8JugZQAhp+EUbU10rvXaLMMyHb4xZ99Op3SVlMzzd2yWPSYwAACAASURBVDYsKysL/JaWQ0ibGpgHZdUbdzovnGmYqyFtqpnj5XEkOW/P0StvT3w8baKCkcRe//lqVnlR6UdRnzd24tJ1O4PCe7yz5K2Gu2YuemPn0qhFk9773Lez1ifsLrBZ69fs5tLGzmJlMlZOWyfcUgj6WXu0b3gAIYQoFDXbfyWt/4ZNf2aeNlHaQjOwNL34VJyos/vSn5+kDH1qLA2y5HTJ+Vh5YgoRCFixBD8LG8NU1VSti9rr56dnTywVOqdAcvayJOYaJRQaNUPRCqa0rHrjTmFkuP1zYzS+aGOlMtn1JNXbpwf1uBCdNEPbZQyJosw6R4O5Y2lanpZV98sBx+kt/2qLWEDabFknsVXdOi5JL/yJogaFdPfzbJ9TUn49OTcz++53Xy7ScdaVxDsvzX9VYyNTUUXnFtAFxQO6e/ydkMaIm7dIWIuFuDqm3cnvR1hr7y42QX5W9dtKs29l9Wxn9NZTM0+bKG2hGXaXlNUKBR++OlKeni0IrjdBVWM1ljpWTksvXhGfimZFYkYiJbTC1FfONAFMeeXJGyeenvtKYweoemIp30qvJoqPnlU8eMjKacISTtITK5NJL1+XXIhPSs5/ef6jEcpMWYXsxm1WLFUNK/bp0v7nyrYfzc2yrNSMczTwACuVSWOvU85ODpOf1XqAjsFMlpM2W9ZJTPuAqmAv++NnFb0CrTt10HpW0q2MT/sEqN7SxffojBymTkQYlhDKt6NLSpn2SWrbwig720MxyWFBXRUFJXRekSDIz8bHS9kZgCmrOLHjr4kCG6M22RKzT5sobaEZLtaKRz3dn5XTdEYuEQgE9Seo0qix1NGFJZJzMdJL14jAxsBdPC1Acnn11KpypqraykXLGjPKnlisSCw+dVESHc/WiU0hJSnHOjAymXVCkvh2KrEVsDRNGFZjWijKCF9fMywr5v6BgIVjRGLxkbOUk4PGUEsdg5m+mv1a3wcPkDabpHVAlaK0rGrNVudF72ld9Lhvn6DC7CIf/650dj6dX0xkclZtxoOckvIQrQt6tY0Znu4XMks2/HbmwzfGEELk2fnyrDyKEGIr2PDDUac68bvN7//QWmaeNlHa6kKh31h9ybWSKV3aE0JYhUKekk5kMkGPJ7/4KmssjVNk12+Jjp1TFN8jCoaVy0nj67iCDg5WlPTSNeHgMOXgX3VMTS0rlpT9Zyllb8fWiTgJrzEhLo7pOffCgroSbY3HeXfLe2qbBtLAGIUp1PqWA2mzMaxMVvf7IbamzuGFscotjQ1mCvPv8v0XP877bPPR3v4CBY202TJMZXXVmm+d570tCA3W2DUwoNvJnQf+NTyUEggari5+PTk33MHOWGESQsiabh0+yX+wfvfJ0RE9fbq0J4Tk3S0/F3/HSSJd66W94bltmXnaRGkLzeNoL3z0SsHIs/JYmdy2T88nux8vzcJU1UjOxUii41mRxKz/hZiCEFfH9PwHYUFdJXEJtr172vh6K7cr7j6QZ+SkX0nt2c6eMIyp1bVE7Ys2rXvPxd+ZaISfHxRl1s0PwCsyufjEBaa2zunNKaTBYCZWKqNzC+i8IiKn336m/y9S2Re5d1eY9kQuJo4VS6o27nR840X70ZHKLbIbyaIjZxZXPJxwPWNPdc3bEyM0Ttlz9Ep2ZtE3PXVNHGZwXYW2PwV57S4puxCd9EtlLUuo0Hb2E9s5vOvf5nPIaGfmaROlLTSDqsZ69J5W0AXFTJ3Itk9PK0eHnDt5vXsF0hk54nMx0viblKMDa8Lr4rRgDkWuPCkQGVaenK64V2rl2o4uvMvK5BTLnotJnqj6fcPEaHzRpu6rX047SaRGSNysnMYvV2A6WLFEevma4kGZ0/QpqsFMTFkFnVtIF90lAoGqjXZAL9+DOXc5DZYXaIVo3yF5YqqNj5c0NoGpFRGFQiCTre3ecVl60daqc8MHBHfr7EYIKbhXcelmZsXdsnXeHVu59kHLzPB0b/Nhtfox97SJ0haaQUsjHK1g7j+UnL4kCPA5seuf52xtqr7ZReRywrKmXNeSFs2hyBX1ApFVKBT3SxXlFcqZLDcYq0BsMVP4oo2pqTXOjQD0wYol8qTUittpSUnpHwkpybkYVix91NdT7ctxP8/2xhzMxGOsTCZLSpVn5al/tRXu7HCsl09UUenF09eyaiSEZQNdHIY62M8NMWp7rcky67SJ0haaQUcj3JfLdzqJZP/n28kEvxbnAVMoEFvGFL5oM+tZbIC3GCbUrV1eXGJ3D+2TTBl5MBPvaf3ZNMfLY47xQzEHZp02UdrqwrIYDqFJR431pWnXWBpMeaHdhkyhQGwNbr9oY/DrlhEhbeov3EF44VrGWxMGad1r/MFM3DKjTmKWwKzTJkpbXShCIUlrMPcaS8X0F9ptyHR6YpkZTJxkREib+vtvt44TU/L2sIyJDGbiltklZJ4z57SJ0lYXND80BjUWmBFWZOnrkRoT0qb+bK2otd07mdpgJgBi5mkTpa0umKARgAdYIy/kY9mQNpsFg5lUzKuTGO+ZddpEaasLixQNYP7MejyE2UHabAEMZiLm2UmMx8w6bVpxHQAAQNsy6wkaAQCMz6zTJkpbXSiCfk4A5k9Ocx2BBUHaBOADc06b6JCgC0sIoSii+j9hKYpSjpGgqEejgCmKsIRQFPX4ezhW9ZqiKEIIq9zy+IJP8r56/n98ANEYgfFke73jVXd//JolhBAFS6gG/dwoSvMtS1THqF+HKBjNqLTdrt5G1aWU5xJWyx11X4olrELXvx9K/QnUxxJCaDP+twdG03CNeGg7SJtaDlPfiLQJ5sCs0yZKW1067FynTEOPci1hCctShGJZ9lGPMpZ9NGiCZVlWmZ1Z5Qhhiig3Ks9kKUKxqlOU6h+pvLr6jcija2veqN71CSGs5lmEenTBeuE1OPJxSA2PZCny5IMoz2IfB6x+lipg9bNUAaudRajHe+pdn7DK26puRFjlT8EGH4SwLFvv+hR5fJry4MdPXu3ZkoZHqn+QxY4uDs8OITK5cp/qj/XRiwaXevToWJaiHv3JsnK56oLUoz9Y5Y9p1fNUdTts8ElpRcODWbU/ceUG7denFY8u+fhxUeTx4318nNpfHpYon7byIFrx6Fkpw1CN+dE4TBUApQzj8V0YhtIYAt/gUo/jeRQApfb5Hv8RqJ72o9Mf/aE/uZoyFvZJaUMIyzKqs6gne9U+PvXk06vVOiwhFEsrHv0lgbaHtMnjtPnoyDZKmzEpwqHhSJtIm62H0lYnq3ozr1ANXhBtexs70iz/gvDXZy+M5ToEAD5C2oSW2fBTu3+/yXUQwAfoawsAAAAAPIHSFizUms0/cx0CAAA8smQemmzBMFDagoVau/VXrkMAAIBHPpn/L65DAJ5AaQsAAAAAPIHSFgAAADiGTmJgKChtAQAAgGPoJAaGgtIWAAAAAHjC4ue1bXxGYueAZ40cCxgZ/ogtSnXWKa5D4AukTWgb+Ptjasw0bfKitFUoWImMlUhYqYwRS8ij/0sZiZRIpKxUxtTUshIZKxIxdWIik7EiCSuTsTI5kdMsTXfYs5HrDwAAYFxImwDAU2Zf2tJ5hZUrv6GsrYm1FbGyIhQhhCIMQyiKMAxLKwhFiLzxJbPNcxE5AIAWQ9oEAB4z/9K25AElsGGlMiJv2QXYJo8w0wZ5ACD4ilMbpE0wQc4Bz+KvjYkw97Rp9sPImHsPWKmsFRdA8wMAWBakTQDgMbMvbQU9AoiNNddRgPnBHIpgsZA2wQRhoV0wFPMvbUMCrTt5cB0FmB/MoQgWC2kTTBAW2gVDMfvSlhDisuQ/1p06tPBkjIcAAMuDtAkAfMWH0tbK2clt1Ye2fXpa2dtxHQsAgBlA2gRTg05iYCh8KG0JIURo67zoPeHTwyg7YbPOQ+sDAFgopE0wJegkBobCl9KWEEKI48sThQP7Us1phGh6DhsAAP5C2gQAnuFVaUsIcXhxHKEbn2m8ISRpALBsSJsAwCd8K22t3N1Yphl5l8JXawBg2ZA2AYBP+FbaMqXlVHPma0Trg8XCHIoASkibAMAnfCttJdeTKHt7/Y9H84PFwhyKAEpImwDAJzZcB2Bg4gMnWFkzFpBk0QABAJYNaRMA+IRvrbbWXTtzHQKYB8yhCKCEtAmmAJ3EwFB4V9o2c30dfLNmsTCHIoAS0iaYAnQSA0PhW2lr2y+UsrXV/3gWX6wBgGVD2gQAPuFdadu/FyuXcx0FAIDZQNoEU4BOYpt3//Xcu5/6Dn3Nd+hrz737adTuA1xHZK74VtpStrZ2T0c243h8swYAlg1pE0yBJXcSKyy+P+mdT346c8lpbN/nts9/bvt8p7F9fzhzcdI7nxQW3+c6OvPDt9KWEOLw/LPESt/PhaG+AABImwAcmvPZ5kK5ZNymWX4j+7Tr7Naus5vfyD7jNs3Kk4v/vewbrqMzPzwsba1c2jmMHannwRTFwycAANAsSJsAXInafeCuRDThq/ca7pr01b8LJXXomdBc/MxQ9s8/QwkEXEcBAGA2kDYBOHEyNiHghaGN7Q19cdjhy9eMGQ8P8LO0pRzs7V94lhLqMeYXfcYsFeZQBFCHtAnAiVsp2R7B3o3t9Qj2TruTa8x4eICfpS0hxOG5McROyHUUYLowhyKABqRNAE4I2+la6ZrFfHvNxNvSlhDi9PJzVu0cmzgIQ30BAB5D2gQwsh49fUuSshvbW5pe2DPEz5jx8ACfS1vh8EFWHu5cRwEmCnMoAjSEtAlcsdhOYpOGDUzdf7GxvWkHY8YNG2DMeHiAz6UtIcThhbGUo4OuI9DMb6kseQ5FAB2QNoETFttJbM6MKZ5Ch8OLv2+469jiHZ2F9vNnTDV+VGaN56Wtbd8QKwddXVgwHgIAQB3SJoCRfb/qAx+B/bEF23Kib9Xcq6i5V5ETfevYgm2dbWx3rlrAdXTmx4brANrE+qh9F68kpabnEkJ6dHCNkErmeLbnOigtSssqV2zcfS05Iz01JzjEb2CvoBULZ3i4u3IdV9PMN3LyOHhCiEvgWPMK3nwfu/lGbmlKyypXbtx9/UbGnYJ7PVydetvbfujt4S4wm58Ua7ftPR+XmKZM/sG+zwzpt3j2NK6DAr2s2fyzxTbcenftdHjXmqjdBw6fuBa/8S+KokJD/GeMGaGjvRZJVQe+tdrGJ6QMeX72xeQ7I6aNWbt31dq9q0a8OTbGTjAhOS+hWqTlBO7GQxw8cWnAhJkZdkyvDyb/++yGXh9MThXSAybMPHjiElch6cl8IydqwRNCzCt4833s5hu5pTl44tKgCe+J29lOXzRt14q3XntpuCSg69hbucfLqusdZ5LDyOITUgZNmnUo8XaHqRGTf1w0+cdFHaZG/JmYNHDSrPiEFK6jg6ahk9icGVOO7/oyL+6P3Njfj/zwhY66FklVN7P5XVwfUpl87rJvAvsFvfvJDNVGt2F9e1nTu/++tCS96GhId1srk0jKpWWV85dvCX19dNi0p5RbOof6dA71sXdxmr98S+TA3ib7u5f5Rk7qB3/lp5M2drbmErz5PnbzjdzSlJZVLli+dfKMSZOmj2cqqqRxCQHeHQO8Ozo72C2LThrk7GDKbbdSmXzW0k0ufX0jFz6pBpw8XLsPCYn+ev+spZuu/LNNaIsFKYAPkFSbxKtW26XrdgaF91CvawkhrExGCHl7YkRgkNeaoocap1AcNT+s2Lg76LkI1d9LlbBpT/lNHLT0612cRKUP842cmHPwiBza2sqNu0e/OHLS9PHkcdpUGj80ZNjA4A3FZaotXKVNHT5dt9M1zE+9rlUZuehl1zC/j9fuMH5Ulkkqky9eFTVkylyXwLFDpsz9ePU2qUzOdVC8gqTaJF6VtlcS70Q8M1hjI3O/jLAsIWRAL98bIonGXq5mQr6WnOE9LFTrLt/hva8nZxo5Hv2Zb+TEnINH5NDWbiRnDhjZX/lalTaVwoO9bomfFLsmOIF8zM1Un6f6NrbX56m+sYnok2AM8QkpgyfPviaqCJ41fubp9cGzxsfUlg2ePBt9QgwISbVJvCptk25lBPcJUN/CKhh5QRErpwkhfp7tUzR6jHEnPTWnYyML63Xw98xMzTFyPPoz38hJ/eAHvTNefZeJB2++j918I7c0KanZfj19Sf20qeTdyS293FSSp1aptzM7hXZvbK9HkFfarSxjxmOx5q3Y6tLHN3LBVM8wf1sHoWeY/4iFLzn26T5vxVauQ+MPJNUm8aq07dsnqDC7SH0LnZVLWVsrX+eUlIe4O2uew9E3a8EhfhX597XuephdEmTCS4+Yb+SkfvAapa2JB2++j918I7c0oSH+RbklpH7aVCq8XxHs5vTkvel1SAjpHViee6+xvaUZRSF9gowZj2Vau22vwNMtcpFmt5CRi15mu7h8tW0fJ1HxD5Jqk3hV2g4O63nmYLTqLSuVydOyWemj79GuJ+eGO9hxFJqmgb2CMk4naN1VeDklvFegkePRn/lGTsw5eEQOba1/r8DLJ+I00qbSzbSCPiaTPLWK7Bdy50h8Y3vzzidFhPU0ZjyW6WzcTd8JA7XuCp44+Fis9jwAzYWk2iRelbarP56ZdT1tx5rdyrey5DTVrj1Hr2RkFn3i1UHjFM6GkS2ckXP0auK+8xrbE/edTzsSv3rRO5xEpQ/zjZzUD/7qruOq7aYfvPk+dvON3NIsXzjjwsELBzdqTsB0PDY1OiHzw65PVt81wWFkX3w8szYpL/rr/Q13RX+9vzwxe92S94wflaXJSM9zD/DUuss9wDM7I1/36Ra70G5zIak2yXQnc2kBoa3g29UfLFj57deLN48YEdalpoooFAX3Ki7dzKy4W7bOu2PDmb9YjpaM9HB33bzy/XmfbRZX1foO793B3/Nhdknh5ZS0w3EbV8415Zk7zDdyUj/4hJ9P93/jaXMJ3nwfu/lGbmk83F03vP3i4qh9lcVB4cFe3p3cCu9X3EwruHg9c6VfZ/WZv7hKmzoIbQXbVy+Yt2LruWV7/CcMUhZYZVkl6UevsHcrd6xeaMkzf23e/dfpmBspqdmEkNAQ/wmR4XNmTGmje9k23rrPNvUbkcWu19BcSKpN4lVpSwiJCA+NO7Ttq237Tn3/V2ZZDWHZQBeHoQ72c0O0jzCguFsy8oVxwyMH9l6xcfeVTQczUnMCQ/z69Qrce/wH0/97ab6RE7XgEwjZPnqxGQVvvo/dfCO3NE/n5Jzs7bMhq3hfcm56RW1we+dQR+HJPr4aM9pymDZ1iAgPvXZ4+1fb9p38K+5SRj7FskHBPi8N6bdkx+tch8aZwuL7cz7bXCwRBb0w9Ln3nyOElKYX/nDw4vHL16M+n+/dtZNhbxcU7HM/Nd97YHDDXWVZJcFBjY7zg+ZCUtWNb6Wt0vxh/WYkJrESaZNHctv44OHu+t0XZrk8tPlGTh4H/8sfx6uzTnEdS/OY72M338gth/x2GlNd6y6wWevXRfeRJtdmq2bx7GlYWVdlzmebC+WSCZtmqba06+zmN7LP4cXf/3vZN8d+/NKwtxs7pP+fh+K0lrbpR6+8NKSf7tMteaHdFkBS1YFXfW1VRCcu6FPXEkIoK34+AQCAZkHa5Jmo3QfuSkQTvtLSyXjSV/8ulNRF7T5g2Dsunj2NKals2OM5+uv9zN3KJbObaD7HQrtgKPzMUHR6NtchAACYE6RNnjkZmxDwwtDG9oa+OOzw5WsGv+mWFfPqbuVf3PhnSWK2TCQtScyO3XSg5lZe1Ir3DX4vgMbwsLRlamqbsVaO6Q31BQAwMqRN/rmVku3RyMT+hBCPYO+0O7kGv2lEeOiVf7YNdWyftv34jjEfpm0/Hmbvcu2f7RHh2lfPAmgLPOxryzysoGwFLE03fSghpt1tDADAGJA2eUnYzl7H3jZaMFloK1i/bE5bXBlAT3xsta2ooqz1/lxofrBUmEMRQAVpk3969PQtSWq0k0lpemFPLFsFPMXD0palaVbB6H10W4YCJgxDcQFUkDb5Z9Kwgan7Lza2N+1gzLhhA4wZD4DR8LC0JQoFUSj0PBYpGgAAaZN/5syY4il0OLz4+4a7ji3e0VloP3/GVONHBWAEvCxtGf2/L8MXaxZrzeafuQ4BwGQgbfLR96s+8BHYH1uwLSf6Vs29ipp7FTnRt44t2NbZxnbnKpObEhWdxMBQ+FjaUoSyttbzWDQ/WCzMoQjwBNImH3l37XR415r3xoysOnHz8L+/OTJrc+3JpBljRpz4ca3BlyJrPXQSA0Ph4QwJlI0NK5XpezDaHwDA4iFt8ticGVPmzJjCdRQAxsPHVluBgAj0LdnR/AAAgLSprrSs8j+fbho0ebZL4NhBk2f/59NNpWWVXAfFf+gkBobCw9KWshMSvdeBpAiaHwDAom398a9XNvw4IDZ54I2stzOLd5eU6T6e32nz4IlLAybMzLBjen0w+d9nN/T6YHKqkB4wYebBE5e4Do3n0EkMDIWPHRKcnZrTrMD7BggAAO0Ki+/P+2xLlUw65sURk58KJXI672754bjUCxlFa7p37Cq0beQ83qbN0rLK+cu3hL4+OmzaU8otnUN9Oof62Ls4zV++JXJgbw93V24jBIAm8bDV1sarC9F/gkZ0GgMASzXvsy3VjHzp9iURE4d1cHbs4Oo0oGe3D/9vXI2b0ycFDxs9jb9pc8XG3UHPRajqWpWwaU/5TRy09OtdnEQFAM3Cw9KWECLo4c91CAAAJi1q94FqmfTTbz9SvrXu4Kba9eEbY6qc7JrsmcA/15IzvIeFat3lO7z39eRMI8cDAC3A09I22J/Y6NfXgr/ND6Ab5lAEC3cm9saYV8ao3lp3aK+eD58e1OOCpJE5E/ibNtNTczoGe2vd1cHfMzM1x8jxAEAL8LO0tQn0tbIX6nUob/uMQRMwhyJYuKSULL+ePqq3Vu5ulNokCT5d2qdW1mk/k79pMzjEryL/vtZdD7NLgkL8jBwPALQAP0tbQaAvKxLrdShvWx8AAJrg6Oyoem3V3pXIafW9VGM1LH/T5sBeQRmnE7TuKrycEt4r0MjxAEAL8LO0JYRYe3XhOgQwaZhDESxc79CAOzfS1bdQzk6q13l3y3u6OjU4iedWLJyRc/Rq4r7zGtsT951POxK/etE7nERlIdBJDAyFt6WtbV/tQwE08bfTGOiGORTBwj07tP+x306ob7Hu3FH1+lz8neEOdtrP5G/a9HB33bzy/du/nY3bfvheSh4tkd1Lybv2/dHbv53duOI/mPmrTaGTGBgKb0tbm0AfK0eHpo+z4m2OBgDQYc6MKa62wtVz16u2WLV3VXa3/eqX004S6bud3bSfyeu0+cK44TeO/xAitbm16eD20YuTNh3sLiY3jv/w8vhRXIcGAHrh4ZINSoJAX1YiafIwfi+rAwCgw9bP35/32ZZVs9Y++8oYv54+hFbcuZ17Li7VSSJd69WhsbN4nzY93F2/+2IB11FYnDWbf0bDLRgEb0tbyt6OcndjHzQxLyN/R/oCADTBu2ung7u+iNp94NShyz988aNIIrWlSI1I2tPZcVdJ+ZLunWy1NdCaZtqUyuSfrtsZczM19XZmSO/AEf1DP//oXaGtgOu4QF9rt/6K0hYMgrcdEgghtqHBTR5D8bfTGACAPubMmLJk1rT2bi6jJ434YN7LO5e89sILkSXeHSem5idUixoeb4JpMz4hZfDk2ddEFcGzxs88vT541viY2rLBk2fHJ6RwHRoAGBufS1tBzwDKtrE10B9hTbQBAgDAeBas/DYgPOidJW/1GhZmZ2/X06fTWxMG+QV7Lyt40PBgE0yb81ZsdenjG7lgqmeYv62D0DPMf8TClxz7dJ+3YivXoQGAsfG5tLXp7kWsm/iAJtj8AABgTOuj9rl7ecz87wxCCOXSTjUBwtsTB7t27RBVVKpxvKmlzbXb9go83SIXTdXYPnLRy2wXl6+27eMkKgDgCp9LW8rejjBMk0cZIxQwPZhDEUDpwpWbI54foXxN2diw7JO0Obxf4GWJvMEZppU2z8bd9J0wUOuu4ImDj8VqX4IBAPiK36WtkKUVXEcBJgrjFQCU0tLzfYK6PXojsCHMk/4G3Tq7ZVY1styuychIz3MP8NS6yz3AMzsj38jxAAC3eF3a2tg03WprWq0PAAAcsHeyV76grKwIW78rbcPuB6aXNm0bW12CENbEuk8AQFvjc2lLKEozRwM8hoV2AZR69vDJvJ395L1a2iy4VxHQrtGq0UQEBfvcT9XeNFuWVRIc1N3I8UDLoJMYGAqfS1tWJqdsmpq4F7/QWyostAug9NTgsDN/nn30hmEoa2vVrks3MyMbLutoYmlz7JD+mYfitO5KP3rl6SH9jBwPtAw6iYGh8Lm0ZWpqiaCp0hatugBg2RbPnlZR/HDHmj2EEEYqI1aPfi7sORpfcbd8rmd7zRNMLG0unj2NKamM/nq/xvbor/czdyuXzH6dk6gAgCt8Lm3ZmjrKxrqJg0yr9QEAgAObls/Nvpm+c+1PKVdTJXL6Tt79X47EZ2cUrda63K7ppc0tK+bV3cq/uPHPksRsmUhakpgdu+lAza28qBXvcx0a6AudxMBQ+Fzaym7dUTU/AABAYyLCQ2MORnWztd//ze/vrPjp70OxHe9VHOvZPdy5QW8EkxQRHnrln21DHdunbT++Y8yHaduPh9m7XPtne0R4KNehgb7QSQwMpanv682aQkHkdBPHmFinMQAATghtBeuXzREdOC45fYkRiXUdapJpUxk/11EAAPf43Kgpu53WRIIGAAA1SJsAYO54W9qydSI6t1CPA02x+QEAwPiQNgGAB3hb2kpjr1PtnPQ40MTG+oKxYA5FAA1Im2B8Upl88aqoIVPmEkKGTJn78eptUlnDtZ0BmoFvfW23/vjXudgbt1Kz2TpxiKNwpKPdDE93XSdw12mstKxyxcbd15Iz0lNzgkP8BvYKWrFwhoe7K1fxNMvabXvPv2mXMQAAIABJREFUxyWmpecSQnoE+z4zpN/i2dO4Dkov6o/94Lk4PHbjMN/I+U0qky9dt/NK4p2kWxl9+wT1r6v9yMPF1qqprGiSfW3BHMUnpMxausklzDd41vjIoJkPM4pizt0cPHn29tULMAQQWow/rbaFxfdfeOfTA+fjBk4evuqruZ/9Z3L46H6HGfatjKJiqayxsyiOcvTBE5cGTJiZYcf0+mDyv89u6PXB5FQhPWDCzIMnLnESj/7iE1IGTZp1KPF2h6kRk39cNPnHRR2mRvyZmDRw0qz4hBSuo2sCHrvxmW/kvBefkBI5eU6xTPzS/Ff3xu6a8uazRR6uE1PzE6pFuk/kKm0C/8xbsdWlj2/kgqmeYf62DkLPMP8RC19y7NN93oqtXIcGZow/pe28z7ZUM/Kl25cMHj3Atbra3VE4oGe3D/9vXI2b0ycFDxs7i5Pv1UrLKucv3xL6+uiB/57YOdTHxs62c6jPkFmTQl8fPX/5ltKySi6C0otUJp+1dJN9qPeoVW91HxLi5OHq5OHafUjI6FVv24Z0nbV0kyl/kaTx2G/8dhaPva2Zb+SWYMHKbwPCg95Z8lZoeA87B7sge+u3xg3wC/ZeVvBA94nojgAGsXbbXoGnW+SiqRrbRy56me3i8tW2fZxEBTzAk9I2aveBapn0028/IoQwIrGi/EmZ8uEbY6qc7HaXlGk9UX1JSaNZsXF30HMRYdOe0tgeNu0pv4mDln69y/gh6enTdTtdw/wiF2pmIkLIyEUvu4b5fbx2h/Gj0pPGY7+667jyBR572zHfyHlvfdQ+dy+Pmf+doXyrSptvTxzs2rVDVFGpjnM5SZvAP2fjbvpOGKh1V/DEwcdiE4wcD/AGT0rbM7E3xrwyRvmauf+Qqr9Sw9ODelyQNNYngYMGiGvJGd7DtPci8h3e+3pyppHj0V/MzVSfp/o2ttfnqb6xiab7FTMeu/GZb+S8d+HKzRHPj1C9VU+bw/sFXpbobk1Huy0YQEZ6nnuAp9Zd7gGe2Rn5Ro4HeIMnw8iSUrJe+fjRgHfF/VJWoVDf69Ol/c+VdY2cykGnsfTUnNHB3lp3dfD3zEzNMXI8+ku9nTkidFZjez2CvNJuZRkznmbBYzc+843cvKzZ/LPWlZyWzHvzk/n/auyAyzGJr81+6dVZUwghf/zwz59HYtX3+t2vIITM9+44v5sHIWRzQenmwscdFWJSyN5Tum/hHPCsPjHgAEs+oKKsas/kzzQOGPTO+EHvjCeEiMVS1d8iU/sUfXsFSlkmPTWnfQfXstIK0wyy9QeotP4WRsaT0pYQ4ujsqHzBVNU03EuZUjNDcIhfRf59d38tv60+zC4JCvEzfkh6CukdWJ57zyPIS+ve0oyikD5BRg5Jf3jsxme+kZuXT+b/S/fPj4YH+EW8uvnQVw6O9sq3U0b0fnFgoPJ1ebVoRdSha/0D1I+f381DWeMSQmy6e7l+vkjrLVS1SHXWqdYHiQP4fcD5hNudXx3mPTC44d6yrJK+YcGnf97AeZAaBxw8cWn+8i124X6Bw0JH+Xs+zC7JvXQ75+jVzSvff2HccBMJsvUHaPxS0fpbGBlPOiT0Dg24cyNd+ZqVSDX25t0t7+nayGSNXAz1HdgrKOO09l5EhZdTwnsFGjke/UX2C7lzJL6xvXnnkyLCehoznmbBYzc+842c93r28Mm8na16q542C+5VBLSz03UyZkgAQxg7pH/moTitu9KPXnl6SD8jx9Mk8x0Cbml4Uto+O7T/sd9OEEIIyxJWs4H2XPyd4Q6NZGouUvSKhTNyjl5N3HdeY3vivvNpR+JXL3qHg5j088XHM2uT8qK/3t9wV/TX+8sTs9ctec/4UekJj934zDdy3ntqcNiZP88+elM/bV66mRnp6KDrZFS2YAiLZ09jSiob5ofor/czdyuXzH6dk6h0MN8h4JaGJ6XtnBlTXG2Fq+euZ2VyUn8M2Ve/nHaSSN/t7MZVbA15uLtuXvn+7d/Oxm0/fC8lj5bI7qXkXfv+6O3fzm5c8R9TXj5AaCvYvnqBLLX43LI9+XGptaWVtaWV+XGpp5bulqQW7Vi9UGgr4DrGRmk8dkIIHntbM9/IeW/x7GkVxQ93rNlDCFFPm3uOxlfcLZ/r2Z7L4MBibFkxr+5W/sWNf5YkZstE0pLE7NhNB2pu5UWteJ/r0LQw37HIloY/fW23fv7+vM+2rJ67YWRgF5+OLoSQvLvl5+LvOEmka706NH4eN+0PL4wbHjmw94qNu69sOpiRmhMY4tevV+De4z+YcoGlFBEeeu3w9q+27Tv5V9yljHyKZYOCfV4a0m/JDpP7Dbsh9cdOCEnadBCPva2Zb+S8t2n53LnLvtm59qchw8O8FEx2/v3rybnZmUXrvDs2dSqabcEwIsJDr/yzbdm6nRe3H0+9lRHSJygirOe6f7ab5i+95jsW2dLwp7T17trp4K4vonYfOPrrwV8elLOECm1nP7Gdw7vahg2ZAg931+++WMB1FC20ePY0M10oFY+dE+YbOY9FhIfGHIxatm7nn98fvJWUHuLuHO5g903P7k0vtAtgOEJbwfplcwghzgHPxh/4lutwdDHfsciWhj+lrdKcGVP+r1unuj8OsY0vrlsPcjgAWCpVVSE5G4O0CaDbwF5BqacThmgrbU18LLKl4UlfW3XCyAGsnNbzYCyGbrHWbP6Z6xAATIUybZbJ6SU5dyem5PvHpExMyV+Sc7dMWy5F2jQ4qUy+eFXUkClzXQLHDpky9+PV2yxwDeol897kOoQmmO9YZEvDw9KWshMKh/TX82ATmu0WjEv3DNUAFoWyE55u7z72Vq7Mv8trLw3f9enrr700XBLQdeyt3ONl1RoHI20aVnxCyuDJs6+JKoJnjZ95en3wrPExtWWDJ8+OT7CstfpMamJUrcx3CLil4VuHBCW7kRHyxFSmTtTkkRS+WgMAi1daVvnJxRsTn+4/btCj+fMDvDsGeHd0drBbFp00yNnBXfDkhwXSpmHNW7HVpY9v5IKpyreeYf6eYf7RX++ft2LrtcPbuY0NNJjvEHCLws/SVhDsT7VzJHqUtiwaIADA4q3cuHv01Kcm9PRkauulzfFDQ6pFkg05d9f6dFJtRNo0oLXb9go83SIXTdXYPnLRy6eW7v5q2z7LGX+5ZvPPpt9wS8x8LLKF4GGHBCW7p4dRdsImD0OnMQCAG8mZA0b2t/HtRtlYa+wKD/a6Ja43vAxp04DOxt30nTBQ667giYOPxWpfQJGX0EkMDIW/pW3kQH1G+6LxAQAgJTXbr6evTbeuLK3Q2OXdyS29vF53W6RNA8pIz3MP0D5DpXuAZ3ZGvpHjAeAB3pa2lKO9cHDTK1Cj8QEAIDTEvyi3hAhsrLt21thVeL8i2M1JfQvSpmHZNrYOPCEsGsgBmo+3pS0hxG5kBKV7JXRCCBIHAFi8/r0CL5+II4TY+HhRgnoLQd1MK+ijUXshbRpOULDP/VTtTbNlWSXBQd2NHA8AD/C5tBWEBFrZN/rbsBK+WbNYpj+HIoDRLF8448LBC4d/OW7t4U6pTYZwPDY1OiHzw67u6gcjbRrQ2CH9Mw/Fad2VfvTK00Oa/u4RADTwubQlhNg9M5wS6hpMhvEQFssshuICGIeHu+umle//s/vwr1v+yKGJVMFmFT7Yf/r6seiklb6d1Wf+IkibBrV49jSmpDL66/0a26O/3s/crVwy+3VOogIwa/yc/EuFraxmFZqjIuqx5nlxDwCgD+WEnSs37v71uwNpRQ+C2zuHOgpP9vHVqGsJQdo0sC0r5s1auunixj8DRvfrEOT1MKMo73xSza28HasXch0agFnieYaSXLpKaJ2L7qL5wVJhoV0ADR7urt9+seB4qE92ZOixnt4bunXUUtcSpE0DiwgPvfLPtqGO7dO2H98x5sO07cfD7F2u/bM9IjyU69CMCp3EwFD43Gorv53WRJMtQY62XGu3/oo+CQAakDY5IbQVrF82h+soOIaEDIbC51ZbaVwCK5Y0cRCLEREAAI8gbQKAueNzaStLz2n6IDQ/AAA8hrQJXEEnMTAU3nZIYKVStqKyycMw1BcAQAlp09Ks3bb3fFxiWnouIaRHsO8zQ/otnj2Ns2DQSQwMhLelLZ1bSNnbs7V1ug/D92oAAEpIm5YjPiHl/RVbbTzdfKdGTA6YQggpyyr589jVPyZFb10xz9JGsAHP8Le0zSloejAEVowEAHgMadNCSGXyWUs3ufT1jVw4VbXRycO1+5CQ6K/3z1q66co/24S2Ah1XADBlvO1rK88tbHowBJofAAAeQ9q0EJ+u2+ka5qde16qMXPSya5jfx2t3GD8qAEPhbWnLlFXodRw6jVkqzKEIoAFp00LE3Ez1eapvY3t9nuobm5hizHgADIu3HRKYqhp9DkOKtlgYrwCgtD5q38UrSanpuUydKNjRPtLRdo6Xh47jDZU2TWoMk0VJvZ05InRWY3s9grzSbmUZMx4Aw+JtaUtEYn2OwvyMAGCx4hNSFqz81t3LY8S0Mf8K6iY5G5NfVHrpevqR5LxV3TqGOztoPav1aRNjmLgV0juwPPeeR5CX1r2lGUUhfYKMHBKAAfG3Q4IePcYIZrGxYJhDESycVCafu+wbn95+Cza8Hz48zL1TezcH27CgrvNeH+0d7LWk4IGM0V7DtjJtKscw2Yd6j1r1VvchIU4ersoBTKNXvW0b0nXW0k1Smbw114cmRfYLuXMkvrG9eeeTIsJ6GjMeJXQSA0PhZ2nL1NZRWpc+bwilraVau/VXrkMA4NLSdTuDwnu8+8kM5VtWJidWj34ivD0xIjDIa03RQ+1nti5tYgwT5774eGZtUl701/sb7or+en95Yva6Je8ZPyp0EgND4WdpS1lbk0baGzSwGOwLABbpSuKdiGcGq95SVpR6V4MBvXxviLR/99XKtIkxTJwT2gq2r14gSy0+t2xPflxqbWllbWllflzqqaW7JalFO1YvxMxfYNb4WdoSKytWv+5gFKZoBACLlHQrI7hPwJP39dti/Tzbp5RVaz2xlWkz9XZmp9Duje3FGCbjiAgPvXZ4+0thfR/8FXfwnY3//N/XD/6Ke6lf34TD33PV1xmdxMBQeDqMzIr6//buPK6pK/0f+Ak7iIAiYhGUPbKKIgpSS90r6tC6TNVOZ4axVHRqFfdf1YoV/aoVqNoK1Sp2GbGjdXC3UhdEC4goIIRNNsWFIoiIyqLk98dt05gFgobc3HM/71dfvshdkofT5MnDueecK1BxqgMGJAAALw30dr1VWuUwwJ55KCZEILVmbdmdOndLM8VnvlraxBwm7bFk7kztWZUCN9oFdaGz11agqytWbUACAAA/DfNx+yUpRfJQ8OLFrit55b4mRl3xuto5hwkAqEFnaUt0dFRdnwadtgDAS1HLw25cKdy5IeH3x1J9sXuPZxSXVH1i20vxma+WNrVzDhMAUIPS0pYQouIKCQAAvGRooP9l1MKb18uil2zNSs2ura570NiUXXx7+4/nb5ZUbbLrbaDTJX/6Yw4TAHQpaus/HXOztvt1HR+nR20LQPuwhiKAv69H2pG4LXGJZxNPFxZVtj1+4mpmPNzE+CN3pdO8CFFD2mTmMG2JS/z5p7TU4kqBWOwqtJ8WMGjFzlmv+MwAANQWdrrWVqqUtrhlA29hvgIAQzKX6OHm+Nb8og6PV1fa1Ko5TABADWoHJOi+1t490CWwri0AAANpEwAoQG1pq+/iKFBpwBZ6bXkKaygCyEDaBBZhkBioC7WlrZ6DLdHV7fAwDEjgLdxoF0AG0iawCIPEQF2oLW11ra1UWv8LORoAgBCCtAkAVKC2tCWEGLi5dHgMBo0BAEggbQJbMEgM1IXaFRJqautXZxdfE90sfPBogIWpl7HBUjsrS7nFbl/xZuivaGPcvnNp2YVF5YSQAUKHsQGDuDJfuKa2PjImITOvuEhUJnR39PN0jVwUamVpwXZcKmGanRDSf9h0bjU73jDQ1fQ8XVsLbrQ1NbVzDLtpE7SNuj7duNFup3D360AD6Oy1TTqVOjT4wxaHPjPfDdq9ctaMaSOanPuOzy0/WdsgeyhLV9bSs/KHTg4/kn2911T/kD2LQ/Ys7jXV/2B2jt/k8PSsfFZCUl3SqdQhwWHFRm2eC0PmnPncc2GIyPDZkOCwpFOpbIfWAelmJ4RwqNnxhgHNMHBz6bhTFgMS4A/4dGsep78ONIPCXtua2vqINdtDQidPfn/Ck+NnSWurs11vZ7veZiZGq1NyhpqZvNh3y8KVteaW1vBVseYDHQIXTZVsNLWy6B/gnhJ9IHxVbMbhOK29H09Nbf2CNds8Zo3ymTmS2dLHw76Ph72xuemCNdsC/by0titOvtlNrSw40ex4w4DG6PbtQ/T0CGlu9ygMSABC8OlmA6e/DjSGwl7btTEJo94Jmvz+BEKIbm9LyfYJw91f9xN+frv2haPZ6H5YuWmXhY+j9PtSImjxdAsfx+Ubd2o+KhVFxiS4TvKXJDIJn5kjHScOXRW9m5WoVMHdZudu5ITLbxjeMvAUdnAEem2BEIJPNxs4/XWgMRSWtlfzSoYEDWZ+1rO2Irp//o6+Qtvcpy0vHs5Cjr50TWQ/cqCyvfYjB/6arb3XFDLziu1e91C4y2GE15W8Eg3HozqZZh86e4L0Xm1udrxhQJMMvAYIDA3aPQSlLRCCTzcbOP11oDEUlrb5olJHNwfmZ51ePaRnPNhZ9yiqkxluy8KVNdH1EmsPpbdot3K1Lcy9ocl4OqVIVNZbaKdwVy8nmxJRmYbjUZ1Ms8uUttrc7HjDgCbpDXDqKC9iQAIQgk83Gzj9daAxFJa2Hu5OVeV3mJ8FJsZEatDJreoHwh6mLxzNxpU1dy+XuvJ7yvbWFFe5e7tqMp5OEbo7PqisVrjrfukdV3dHDcejOu42O3cjJ1x+w/CWbq+egu7d2jsCAxKAEIJPNxs4/XWgMRSWtoM9XS6eSpM81LXuJfn5WuFNbxOjF45mI0cHDnIvOJaubG/FuRx/HzdNxtMpfp6uxclZCnfdupjv69nxophskWn2y7tPSu/V5mbHGwY0zMC73XcUSlsghKj7040b7aqC018HGkNhabtmUej5pPNHv/+9cNG1thLo6xNCTv4qSskqWdrX8oWj2biwtn55WGNORUr0AfldKdEH6rJLN634UPNRqShyUWjZ8cvZiedktmcnnis8lh61eDYrUalCptmlS1stb3a8YUDDDLzddLqZKN2N8QhACFH3pxuL2qqC018HGkPh4l9Wlhaxaz+OWLP94YOGoW8O7mdvU1J+51pB5YUrJWsd+8jetYGN3gdDA/34qIj5kdvPrt7rFDzU0tmGEFJ7407R8Qzx3fqdUYu0eeUOK0uLrWs/nv/p1qcPGx1GePVysrlfeufWxfzCo2kxaz/S5qVeZJqdENJYU8+JZscbBjRM392l7clTpbvRaQuEEHy62cDprwONobC0JYS8/daIQD+vtTEJ3238TiQqE/bu4WGg+7O3g4K7kbF0Zc3f1yPzaPyWuMSff0pLLa4UiMWuQvtpAYNW7JzFSjydwjRvZExCRmxSsajMxd1xkKfLvpPfaH8ik252Qsjhf0VzpdnxhgFNEhgZ6jnbPyspV7wXAxLgD2r8dG/Y+h06blXB6a8DzaCztCWEWFlafLk+gvn5SdLPT47+Qp49kz+M3QtrS+bO5Oid8awsLb76o3k5h2l2M+dxlRkKruloM7xhQGMMPIXPym9pYdoEbaOuTzdutNsp3P060AAKx9rK03d30TE2ZDsKAADOQNoEAI6ittdWmr6ro7hJ8X0jcWUNAEBGTW392m8PZ2aICh80DrAw9TI2WGpnJRnQhbS5MW7fubTswqJyQsgAocPYgEHoPwPQHrzotSWE6DkqXuKYWTwBAAAYSadShwZ/+LS7wazZE3evnDVj2ogm577jc8tP1v5+vxs+p830rPyhk8OPZF/vNdU/ZM/ikD2Le031P5id4zc5PD0Ld4EC0Aq86LUlhOi7OrQWlcpvF2PYGF9hDUUAeTW19RFrtoeETp78/oRWUXFrcbmzXW9nu95mJkarU3KGmplY6uvxNm02t7SGr4o1H+gQuGiqZKOplUX/APeU6APhq2IzDsdhfjoA6/jSa6vrYCcwNpbfjitrvIX5CgDy1sYkjHonaPL7EwghOj3Mid7v3R8Thru/7if8/HYt4XHaXLlpl4WPo3RdKxG0eLqFj+PyjTs1HxUAyOBLaatnbUV0Ff6yPM3RAADyruaVDAkazPys062b9I3HfIW2uU9bCCG8TZuXronsRw5Uttd+5MBfszEmAYB9fCltdXr3EitagZy3V9Zgw9bv2A4BQOvki0od3Rx+f9DNWHrxLzvrHkV1DYTHaVN0vcTaQ/G0DUKIlattYe4NTcZDGQwSA3XhS2krMNAX6CkaWMzXK2uwcfsPbIcAoHU83J2qyu8wPwt0dQU6f35H3Kp+IOxhSgh/06a7l0td+T1le2uKq9y9XTUZD2UwSAzUhS+lLSGK0zFvB40BAMgb7Oly8VSawl3XCm96mxgRHqfNwEHuBcfSle2tOJfj7+OmyXgAQCE+lbZ8vYgGAKCiNYtCzyedP/r9SeahZOzByV9FKVklS/tashca+9YvD2vMqUiJVnAXw5ToA3XZpZtWfKj5qKiBQWKgLnwpbduePCVtCkpbVLsAABJWlhaxaz8+nHD0h20/Fl0tbG5+duPWbweSr5xIyVnr0Ie5awNv06ahgX58VESL6PbZ1Xsr00SNNfWNNfWVaaLTqxKaRFU7oxZh5a9XQfcgsZra+n+vjB0aMtfcZfzQkLn/XhlbU1vPdlDU4su6ts/KbhIDfdLaKrOdt1fWAAAUevutEYF+XmtjEr5bn1Bw45awp5lHN8OfvR1wNzJCiL+vR+bR+C1xiT//lJZaXCkQi12F9tMCBq3YOYvt0EB7JZ1KXbBmm+skf8+FIW862dwvvSNKvT4kOGzr2o/ffmsE29FRiC+lbcu1PAGPOxsAAFRnZWnx5fqIxu9/akm72vb4CdvhaJ0lc2fizrqgopra+gVrtnnMGuUzcySzpY+HfR8Pe2Nz0wVrtgX6eVlZWrAbIX34MiChJSNbcYLmcfcDAEA7kDYBXl1kTILrJH9JXSvhM3Ok48Shq6J3sxIV3XhR2rZcyyfiNrajAO2CNRQB2oG0CaAWmXnFdq97KNzlMMLrSl6JhuPhA16Utk9PnWtrVHJNDb0PfIU1FAHagbQJoBZForLeQjuFu3o52ZSIyjQcDx/QX9o+v33vWUWV8v1I0gAAL0DaBFAXobvjg8pqhbvul95xdXfUcDx8QH9p21pSznYIoI2whiKAMkiboHm0DhLz83QtTs5SuOvWxXxfTxcNx8MH9Je2Ldn54qZmpbvR+8BXdK+hCPAqkDZB82gdJBa5KLTs+OXsxHMy27MTzxUeS49aPJuVqOhG/+Jfz8putrcbU30BAF6EtAmgLlaWFlvXfjz/061PHzY6jPDq5WRzv/TOrYv5hUfTYtZ+hJW/ugL9vbbi5pZ29grQ/wAA8CKkTdA8igeJvf3WiKsnv3Fv1suNTYoftSQnNqn/U3L15DfTJ7zJdmh0or/Xtn24iQMAQKcgbUJX2Lj9B1rHJBBCrCwtvlofwXYUfEF/ry3Rae93FOCW3wAAMpA2AYCz+F7aAgCALKRNAOAs+vOXTvdu7e3GfAgAgBchbQIAd9Ff2urZWLezV4AczVe0rqEI8OqQNgGAu+gvbQUW5u3sFWNGBF9RPF8B4BUhbQIAd9Ff2upa9SR67SwEge4HAIAXIG0CAHfRX9oKTIx1jAyV7sWVNb6ieA1FgFeEtAmah0FioC48KG2Njdqb7YsUzVe40S6AMkiboHkYJAbqQn9pq2Ns1M4S42KMGQMAeBHSJgBwF/2lrcDQgLQpz8S4sgYA8CKkTdA8DBIDdaG/tH1e+4DoKv01kaIBAGQgbYLmYZAYqAsPStv7D8QtrUp3I0kDALwIaRMAuIv+0ratrl6gq6t8P3I0AMALkDYBgLvaWbmQEs9v321rfKx8PyZEAAC8AGkTOKS5pXXlpl2XrolE10vcvVzeGOzx2bIPDA302Y4LWEN7r+2z562lN9s7AFfW+AprKAIohrQJ3JGelT8sZG7mkwfC8AlhyZuF4RMuNdYOC5mbnpXPdmjAGspL26ZLmQLlC48TQnBljbewhiKAQkibwCHzI7ebezsERky18XEyMDG08XF6Y9G0bt7950duZzs0YA3lAxKafrkobu+yGpspuqa2PjImITOvuEhUJnR39PN0jVwUamVpwVpAnbExbt+5tOzConJCyAChw9iAQUvmzmQ7KJWg2VnB3ch5YvOOxAsZOaKickKIq6H+cD0yz9ZK6dHaWtly+tPNXSw2+8a4ffo2PQIXT5XZHrR4+ulVCVviEtvPM3jD0IqGXtvNOxIn/WOFo/+7jv7vTvrHii1xicz2prOXnt+vYzc2ZZJOpQ4JDis2avNcGDLnzOeeC0NEhs+GBIclnUplO7QOpGflD50cfiT7eq+p/iF7FofsWdxrqv/B7By/yeHafwFIutl9/z4Wza4B3I2cJ9Kz8gP+MvdCXsEbM8ds3LcuamN44JhBF40Mg/MqshqesB1dJ3A3qXKaGpv9JQaJnUm75hDsp3CXcOKwE79mtXMu3jAU43avbXpWfsTaLy1trd6YOebvrv0IIRXFN88eTvnpL3Ojl84W/nhU3NTcwVOwMWisprZ+wZptHrNG+cwcyWzp42Hfx8Pe2Nx0wZptgX5eWvtXY3NLa/iqWPOBDoGL/vwr2dTKon+Ae0r0gfBVsRmH47R28L5Msx8Mi/GfMwnN3qW4GzlPNLe0frT6C5dBrh98EkoIEbe0Pr1c7ePYx8exz97j6SuKqo679zfQkUuS2jfWlrtJldPU2+wvMUisuKjCzVk2eu4dAAAgAElEQVS2y5Zh6WxzsbhS2Yl4w9CNw722TFK293KM+Pxj3xE+ltY9La17+o7wWbxlQT8vx49WbGluecZ2jIpFxiS4TvKXfKIkfGaOdJw4dFX0blaiUsXKTbssfBylyxSJoMXTLXwcl2/cqfmoVIRm1zzuRs4TqzbtcvUdwNS1hJDW6wWkrY35+Z8T/V1cbTdU3Wcvuk7g7qeb07Sh2Q1MjJTtEiv/G0wbIoeuw+HSViYpS5v997ec7a03VNzr+FnY6H7IzCu2e91D4S6HEV5X8ko0HI/qLl0T2Y8cqGyv/ciBv2Zr7yVmNLvmcTdynsjILvAfO4z5+XnV3ed3a4j4z4W9hng6XH3SpOA07eu15e6nm9PU2+wvcaNdV6F9tUhx12ztjTtC1/7KTsQbhm7aOyBhR8KhHd/+T377vH+8My90CiHkWPKvj1taLqdclTlg0rtjRlsaDXHvvzuv/OxvD+SfIdTGMtTGkhCScK9+7+rtgg27lL0Ew/PN95Ud0GGQCg+4WVXdK7esj4c9ISTnx/PZ/z3/5z4xeXSvzvPN91/xJaQP2LD1u7hvk+QP+H/z/9bZAx42NN5YdktywNDZEwa++yYh5PLukzk/nhcT0tL41G7wlHae4dVjeOkDCvNLyyPipHftGrec+S08QoaXiMq0IUiFBzxsaLQocLfxcSJ/NLX0XqbZdyQc0p6m1s43DPNC0gfI3NhzX1zkpLHD5Z+TYjm5xSu9nQkh4qbm5mt55Hmb9F5Hm575tQ2y5+jpaV9lS4pEZaOEdgp39XKyKRGVaTgenlBvs2/c/kNnxySMDxh88EianZ9QQWzHM6YFDFJ2It4wdNPe0va9qeMmjQ2U325u1o354c7dmq+OROvqyd4yR7/whqCx0dGm573HTSlDXOWfweyPe6NP69Mz5J9TjEYMVfYSjBM/bFF2QIdBKjwg5MNV1p72zM8DJg5zfMNbsqumpKpg9+mju9a/4ktIH/DJgr//W6pSl6f6AePeX+b274mWzjYyBzAly73r5SV7fkn+fvOrvETXHTDAw8nj48k9HV5jHu4at/zvhyKZn++X3nF1d9SGIBUeMO79ZdZuv3c/SKpDCabZ35s6jt0gFR6gDW8YSemcd/47mQOwANxAb9dbpVUOA+xbruULxLJ3Yii7U+duaSZ/llj77tggdHd8UFlt6ST7TiN/fLo1HxIfsN7sS+bO/O/klJToA0GLp0tvT4k+0Ha3fsXOWcpOZD1y6FLaW9qam5mam5m2c8BAb9emJ00OA+ylNz4ru9ny5LG4rY1JyraG7c1QMdPTMellYWxr3X4k/ZQf0GGQCg8YPshddCn/NS9HQoihqbGhqbFkV+GRNP9BbtKv+HIvIX+MWg4YMcQz/ew1pvtQhqGp8e30wuG+HsqeSmNBKuPn6Sppdoak5W9dzPf1dNGGIBUeINPs0m8YQoh8s2vPb6FVb5gOj+ehYT5uvySlhP5V53ltnWSUrcSVvHJfuYGMAqKNAxL8PF1FyVkBiioVyacb1E4bmn1b5PzwVbEXYg46jxrUy9X2fnFVxbmcR7kVO6MWtXOWNkQOXYfDY22ZpCy9RfzocUtuAXn2nChJyvJYSdGRi0LLjl/OTjwnsz078VzhsfSoxbNZiEk165eHNeZUpEQfkN+VEn2gLrt004oPNR+VitDsmsfdyHkiannYjfT8nf+3l0mb0vYezyguqfrEtpf8WdpX2XL4081p2tDs/r4eGYfjhnfrWRh/cueYpYXxJ32MzTMPx/v7Kh5Ky9CGyKHraG+vbYeilocFhszbuSHhwz9mkrXkFhAdHdLWtvd4RmlJ1RduSoeQ/4mNJG1labF17cfzP9369GGjwwivXk4290vv3LqYX3g0LWbtR9q85oihgX58VMT8yO1nV+91Ch7KXGiuvXGn6HiG+G79zqhF2ryQk0yzD/nHuHv5FWj2LsXdyHnC0EB/k5fjigtXtz98PGKIsF+fHoSQm/cepF4reXC3dpNdbwUrfxFtrG25m1Q5TUua3dBAf/PqeZ06RUsihy7C4dLW0ED/y6iFEWu/jF6y9c2QILvuRq0Vdypv3+8gKb+IrUFjb781ItDPKzImISM2qVhU5uLuOMjTZd/Jb7T/E+Xv65F5NH5LXOLPP6WlFlcKxGJXof20gEHtjGrSHjLN/jDzBpq9q3E3cj5oTr/m87jxpEf/HVU1F5IzbzxqImKxi7nJcBPjj9yVdg1o4VhbwuWkymncbXbuRg4d4nBpSwjx9/VIOxK3JS7xbOLpgmuFpK2tw6Qsi73eBytLi6/WR7D28q9mydyZHL1RKpqdFdyNnG6PEw8z97WZZ2vViV4vreu0/R2nP93cxd1m527k0D5ul7aMJXNnfuRs26jbRp7LDhfrgIAItO/KGmjGhq3fYYI88FlTcmrbo8ZOn4a0CV3jJW60C6AQh6eRSXtyOqXTde3vkKN5SmZNUwC+QdoErYK+BlAXGkrb1qJS8aPHL3kyUjQA8A/SJgDQiobStiXrOmlpfYkTxdo5GwIAoIshbYK2eYkb7QIoRENp+/y3++KXvKymjavYAAB0NaRN0DYYJAbqQkNp21Yvd5dzAABQDmkTAGhFQ2lL2l7hAhm6HwCAh5A2AYBSNJS2+kJHtkMAAOASpE0AoBUNpa1hkD/Ro2GBXtAkrKEIfIa0CQC0oqG01bN9zXCg+0uejCtrfIU1FIHPkDYBgFY0lLaEEKNRwwWm3V7iRNxWBwD4CWkTAKhESWmr7ynU6WbyMmciRfMV1lAEnkPaBK2CQWKgLpSUtoQQ43FvCAwNOnsWVh/nLayhCIC0CdoDg8RAXegpbQ3fGNbZ5WwEunoYNAYAvIW0CQD0oae0FRjoG47w6+Q5SNEAwF9Im6A9MEgM1IWe0pYQYjz6dYFBZy+uIUkDAH8hbYKWwCAxUBeq1jXUtX1Nz6l/a0FJJ85B/wMA8Jiu7Wt7mp6llN7Of/SUEOLR3Tiom1GojWV75yBtAoAWo6q0JYQYj3n9WflNcVOzymdgQgQA8NSt29XzP91W39QSNHbI1N7mhJCKu3VH00Tni6s29O/dV+kMM6RNjdoYt+9cWnZhUTkhZIDQYWzAoCVzZ7IdFID2ompAAiHEYIi36hfXBATdDwDAX/M/3dbQ1rp67xo/T4deFqa9LEyHuPVb+q+3HvUw/eTmfYWnIG1qUnpW/tDJ4Ueyr/ea6h+yZ3HInsW9pvofzM7xmxyenpXPdnQAWoq20pYQYvxWkI6RoSpHisViDBrjLayhCDy3I+FQQ0vzyi+XEUL0XewFurqSXUvfG/PQ1CjhTq38WUibGtPc0hq+KtbYw+7Ndf/oH+BuamVhamXRP8B91Lp/Grj3DV8V29zSynaMANqIwtLW8I1hbc0tqh6NFM1XWEMReO6XX6+O+esY5mfd/n3Fz59L7x09dMD5JiWJFGlTI1Zu2mXh4xi4aKr8rqDF0y18HJdv3Kn5qAC0H4WlrU53U6PhvmxHAQCg1XLybzi62TM/CwwM9Oxek95r/1pPUf1jFsKCP1y6JrIfOVDZXvuRA3/NxpgEAAUoLG0JIYYjh+uYGKt2LPofeAprKAJ0M+sm+VnX3k6g98LEYoHS6WJIm5ogul5i7dFf2V4rV9vC3BuajKerYZAYqAudpa2+i4NO73YXr5FAiuYrrKEIPOfl4VxwtUjyUNeyh8DURPKw4m6dm4Wp4jORNjXC3culrvyesr01xVXu3q6ajKerYZAYqAudpS0hxGjsG0Rfv+PjMNUXAHhp3PDBJ/5zSnqLnmN/ovP7l8LZ9IIRJkaKz0Ta1IjAQe4Fx9KV7a04l+Pv46bJeAC4gt7S9nU/gX7Hq/YKkKMBgJfmhU6xMDCM+mizZItePxuBrg4hZMv3yaZNzR/06aHwRKRNzVi/PKwxpyIl+oD8rpToA3XZpZtWfKj5qLoOBomBulBb2hJCjIL8BcZKeh3+IBZj7XEA4Kntn31srqO/LnxjxtkrNXfv19y9f63m8eZvT5s0Pt1o20vZWUibmmFooB8fFdEiun129d7KNFFjTX1jTX1lmuj0qoQmUdXOqEWGBipcmeQODBIDdaHtbmTSjEYHPk2+0MFB6H4AAL6y62udtHv9joRDp49c3L0hgQgEXs79JurqfOBk095pSJua4u/rkXk0fktc4s8/paUWVwrEYleh/bSAQSt2zmI7NADtRXNpq2tlaTDQvSXrejvH4MoaAPDcvNAp80KnSB42bNuDtKlVlsydiTvrAqiO5gEJhBCjUYE6pt2U7sZlNQCAFyFtAgCnUV7aGngKBd1M2jkASZq3sIYigEJImwDAaZSXtoQQo3FvEF1lv6YACzTyFtZQBFAGaRNA8zbG7Rv/92X9h03vP2z6+L8v2xKXyHZEXEXzWFuGbl9rgZGh+PFThXuRpAEAZCBtAmhSelb+x5Hb9Wx6OEz1D3GeQgipvXHn4InLP05O2R4539/Xg+0AOYb+XluBjq7M3SP/pKuDqb68hTUUAZRB2gTN4+0gseaW1vBVscYedm+u+0f/AHdTKwtTK4v+Ae6j1v3TwL1v+KrY5pZWtmPkGPpLW6KrQ54/V7oXKZqvsIYigFJIm6BxvB0ktnLTLgsfx8BFU+V3BS2ebuHjuHzjTs1HxWk8KG2bm8UC5YPGAABABtImgKZcuiayHzlQ2V77kQN/zc7XZDwUoL+0bat7KGhrU7hLICBI0wAAMpA2QfN4O0hMdL3E2qO/sr1WrraFuTc0GQ8F6C9tnz94KFaSowlBigYAkIW0CZrH20Fi7l4udeX3lO2tKa5y93bVZDwUoH+FhLbqGvHTJoW7xGIxu/MhNsbtO5eWXVhUTggZIHQYGzCIK7ecqamtj4xJyMwrLhKVCd0d/TxdIxeFWllasB2XSphmJ4T0HzYdza4Z3I2cn7Q5bbYDbzNukfkGZDsc1gQOck8/lm61aJrCvRXncvx93OS3c7d+0ADaem1raus/Whk7PGSeucv44SHzPloZey+vuL0TWFp8PD0rf+jk8CPZ13tN9Q/Zszhkz+JeU/0PZuf4TQ5Pz9L2UTVJp1KHBIcVG7V5LgyZc+Zzz4UhIsNnQ4LDkk6lsh1aB6SbnRCCZtcM7kbON5L82XfT3on5lSvK7ta2PlNwnFbeswFvMw5R+A1oH+DOiVSsduuXhzXmVKREH5DflRJ9oC67dNOKD6U3crp+0Ayqem2TTqVGrNk+6p2g91e838/Z7uaNWxlnr4w+fCXK3nqCpZnic9jofWBW+jAf6CA9I5JZ7CMl+kD4qtiMw3GGBvosRKaCmtr6BWu2ecwa5TNzJLOlj4d9Hw97Y3PTBWu2Bfp5aW0fiXyzS9ZYQbN3He5Gzjd/5s9l7/UqvlFVXZdVVDU+s2idfP7Uvk5bvM04hNPfgF3B0EA/PipifuT2s6v3OgUPtXS2IYTU3rhTdDxDfLd+Z9Qi6dZA66mCnl7bmtr6iDXbQ0Inz5r/rqu3i5GJkau3y6y/jZ80evDqimrFfQ+EsHJljdMrfUTGJLhO8pd8f0j4zBzpOHHoqujdrESlCplmHzp7gmQXmr3rcDdyXpHOn062VsbdTZzter87ZnBw0EAF+VP7BiTgbcYhnP4G7CL+vh6ZR+On+Qz87ae0pNkxh/8V/dtPadMGDcw6+rXM/RrQeqqgp7RdG5Mw6p2gye9PkN4ofvBwwnCP1/2En9+uVXiWgI0czemVPjLziu1eV3xnFIcRXlfySjQcj+pkml26tCVo9i7D3ch5RTp/ih88JM9/n0M2Ybi7fP5kJW22D28zDuH0N2CXWjJ3ZvJ3n99M/29lxoHk7z5fMXeW/DFoPVXQU9pezSsZEjRYZuPzunrxs2e+Qtvcpy3yp7CVnjm90keRqKy30E7hrl5ONiWiMg3Hozo0Oyu4GzmvSOdPJm1KdsnkT62ragkheJtxCqdTMevQeqqgp7TNF5U6uslOsWyrqyeE2Fn3KKprkD9FLBazMh2C0yt9CN0dH1RWK9x1v/SOq7ujhuNRnUyzX959Unovmr2LcDdyXpHOn0zalJDJn2ylzfbhbcYhnP4GZB1aTxX0lLYe7k5V5Xekt4ifNjF9D7eqHwh7mCo+jY0ra4GD3AuOpSvbq2ylDy3h5+lanJylcNeti/m+ni4ajkd1Ms0uU9qi2bsIdyPnFUn+lKRNCQX5U/sGJOBtxiGc/gZkHVpPFfSUtoM9XS6eSpPe8vx+nUBXlxByrfCmt4mRwrNYydCdXelDq0QuCi07fjk78ZzM9uzEc4XH0qMWz2YlKlWg2VnB3ch5RZI/JWlTQj5/al1hi7cZp3A6FbMOracK3cjISLZjUA8/H7eVq7cLdHSFA3//A731Rnnbg4cnfxUlp4vinW1MdGXreIGenqH/YN3elgqf8P+2fc/88P8+fl+9oerp6vq4OR078EvllUIdYwM9I/2WJ013c8suf33sWflv8Z8ttLfro95XVKNuJkYOdq/t3Zb4pOGxvrGhkZnJb0W3Cv53SXTwQszaj/y8B7AdoFIyzV58+or7XwLQ7F2N9ci77oNME0n+dDTRa3vwULJdPn+ylTbbx/rbDFSn7BswPe7o84oaLU/FrNNM/cD1tEnPurZWlhaxaz+OWLP94YOGoW8O7udsV5JVcDXnxoUrJWsd+1jqK/5N2Ro0xqz0sSUu8eef0lKLKwVisavQflrAoBU7FcyI1DZvvzUi0M8rMiYhIzapWFTm4u44yNNl38lvtH/lSOlmJ4Qc/lc0ml0DuBs5f0jyZ623w2CnPnbWPW5VP7hWeFNh/tTCsbYEbzNOUfgNWHFFVCc6znZoHMDp+kEz6CltyR+pbW1MwncbvxOJyoQ9zTxMDH72dlBW1xLC8qW1JXNncvTOeFaWFl+tj2A7ipfENLuZ87jKDAXXdLQZd5udu5Hzx9tvjfC3t1kVvjoxu6ToQaOwp5lHN0PF+VMLRyQQQvA24xqZb0Az53EsBsM53K0fNICq0pYQYmVp8eX6CEJI0/m0x4mHxU3N7R8v0NokDQCgWRb3ftsk7Ie0CQCcRs80MhktV/M6TNBErI1TfQEAWIG0CQAUoLa0bb1RrtJxSNF8tWL+39gOAUC7IG0CAAXoLG2f/3afPHuu0qHaOSECut4nC/7OdggAWgRpEwDoQGdp+6z0pkrH6ergyhoAAEHaBABa0FnathbeEDe3dHwcwZU1/tqw9Tu2QwDQIkibwC4MEgN1obO0fXbrTscHMfkZ3Q98tXH7D2yHAKBFkDaBXRgkBupCZ2nbVn1flcPEYjFWsQEAIEibAEALCktbcVNz29MmVQ/GhAgA4D2kTWAdBomBulBY2rY1PBK0c/sxGbiyBgC8h7QJrMMgMVAXKkvbRoGermrHCnBlDQAAaRMAqEFhaSt+9FisYuYVYKovAADSJgDQg8bS9ulTwbNnqh0qxpAxAACkTQCgBo2l7ZOmTmReDBrjK6yhCCCBtAkA1KCxtCVigcqZFxmat7CGIoAE0iYAUIPC0paIibhVtStrBN0PAABImwBADwpL284lXaRovsIaigASSJvAOgwSA3WhsLTtxHLiYiw9zl9YQxFAAmkTWIdBYqAuFJa2AmNjgaGBykej/wEA+A5pEwCoQWFpq2NqIm5rU/VopGgA4D2kTWAdBomBulBY2gq6mXQi9aL7AQB4D2mTPs0trUvW7QiY8pG5y/iAKR8tj4prbmllO6j2YJAYqAuFpa1ONxOio3LmxaAxAOA9pE3KpGflDwuZm/nkgTB8QljyZmH4hEuNtcNC5qZn5bMdGkCX02M7APUTmHcnzS2qHCkW48oaAPBaTW392piEq7lF+QVlAyxMvYwNltpZWeor/WqgMm02t7Su3LTr0jWR6HqJu5fLG4M9Plv2gaGBPttxvbz5kdvNvR0CI6YyD218nGx8nFKiD8yP3J55NJ7d2FhUU1sfGZOQmVdcJCoTujv6ebpGLgq1srRgOy5QM0p7bVUjILiyBgD8lXQqdWjwh0+7G7z/yT92r/7bjGkjmpz7js8tP1nboOwU+tImfR2cG+P26dv0CFw8VWZ70OLp4tfMt8QlshIV65JOpQ4JDis2avNcGDLnzOeeC0NEhs+GBIclnUplOzRQMwp7bQkhAtNu4vqHHR+nKxDQ1/8AqsEaisBzNbX1EWu2h4ROnvz+BELI0zu3ne10ne16m5kYrU7JGWpmorjvlrq0SV8H55m0aw5TAxTuEk4cduLgr0vmztRwSKyrqa1fsGabx6xRPjNHMlv6eNj38bA3NjddsGZboJ8X+m5pQmGvLSFEx8xU1UOpStHQCVhDEXhubUzCqHeCmLqWECJZ/GvCcPfX/YSf365VeiZFaZPKDs7iogpLZxuFuyydbUqLKzUcjzaIjElwneQvqWslfGaOdJw4dFX0blaigi5CZ2mr28dKlcMERIDpEADAT1fzSoYEDZY8FEgN5fIV2uY+VTxjgbK0eSbtmkOwn8JdwonDTvyapeF41MXAxEjZLjFd40lUlJlXbPe6h8JdDiO8ruSVaDge6FJ0lrYCY6WfamlisZiyQWOgOqyhCDyXLyp1dHOQPBTo/zlrys66R1Gd4uG2lKVNKjs4XYX21SLFkdfeuCN07a/heFTUpYPEikRlvYV2Cnf1crIpEZV13UuD5tFZ2uqYd1fxSHoyNHQS1lAEnvNwd6oqvyN5KH03slvVD4Q9lA7roixt0tfBOT5gcMmRNIW7io5njA4YpOF4VNSlg8SE7o4PKqsV7rpfesfV3bHrXho0j87SVmBiTPRUmyHHzcwFAPCKBnu6XDwlVQDp60ny4bXCm97KCz6a0iZHOzjbt2TuzLY79SnRB2S2p0QfaLtbv2LuLFaiYpefp2txsuLhJbcu5vt6umg4HuhSlJa2uroqHYalxwGAr9YsCj2fdP7o9yeZhwKd378OTv4qSskqWdrXUuFZlKVNjnZwdmhb5PzHuZUXYg7eyS5tedJ8J7v019hDj3IrdkR+zHZoSnXpILHIRaFlxy9nJ56T2Z6deK7wWHrU4tld99KgeXSWtmIdHYFex9WtWExTigYA6AQrS4vYtR8fTjj6w7Yfi3NLmppaSu/cP5B85URKzlqHPsru2kBZ2qS1g9Pf1yPjcNzwbj0L40/uHLO0MP6kj7F55uF4f1/FU6m0QZcOErOytNi69uPr/zmTFn/0Xn7Fs6aWe/kVmV8fv/6fMzGR/8bKX5ShdF1b1XptCSECiq6sAQB0yttvjQj081obk/Ddxu9EojJhTzMPE4OfvR3auRsZoS5tboucH74q9kLMQedRg3q52t4vrqo4l/Mot2Jn1CK2Q3slhgb6m1fPYzsKLcK82yNjEjJik4pFZS7ujoM8Xfad/AZ1LX3oLG2Jnq6q18zoytEAAJ1iZWnx5foIQkhT6uXH3x8SNzd3fA5daZPp4Fy9adeF+JOi3GJ3b1d/H7dNh+M5faNdUMjK0uKr9RFsRwFdjs7SVqCvJ9DTFauQommb6wsA8FL4nDbRwQlAEzrH2gr09MRtbR0fJ6ZrQgR0Bm60CyANaRMA6EBnaUtUmENGCCEC2q6sgepwo12AFyBtAgAV6CxtBXp6RMVpvEjRAABImwBAC9rG2m7ekXghIydfdEPc1CzsZhzYzWCerVW7Z7CWpGtq6yNjEjLziotEZUJ3Rz9P18hFoVyZqrkxbt+5tOzConJCyAChw9iAQUvmzmQ7KJVImr0wv3SAhxOaXTO4GzmP6OsJdHRQ2wJbMEgM1IWeXtv0rPyAv8y9kFfwxswxG3f+v7Xz33l9/JCLRobBeRVZDU8Un8PeAo1Jp1KHBIcVG7V5LgyZc+Zzz4UhIsNnQ4LDkk6lshWSitKz8odODj+Sfb3XVP+QPYtD9izuNdX/YHaO3+Tw9Kx8tqPrgHSzE0LQ7BrA3cj5RqCnp9KatXStawvaA4PEQF0o6bVtbmn9aPUXLoNcP/gklBDS9rChydykZ7e+Pq599x5PX1FUddy9v4GOop4GNnofamrrF6zZ5jFrlM/MkcyWPh72fTzsjc1NF6zZFujnpbWdiM0treGrYs0HOgQumirZaGpl0T/APSX6QPiq2IzDcVq7Yg6aXfO4GzkfqTjWlqDTFgC0GiW9tqs27XL1HcDUtYQQYmAgyb3/nOjv4mq7oeq+4jPZmA8RGZPgOslfUmBJ+Mwc6Thx6Kro3ZoPSUUrN+2y8HGULlMkghZPt/BxXL5xp+ajUhGaXfO4GzkPCbqbqjzWFrUtqF+X3mgXeIWS0jYju8B/7DDJQx0jQ/Gz55KHQzwdrj5pUniigI3+h8y8YrvXFd/t0GGE15W8Eg3Ho7pL10T2Iwcq22s/cuCv2dp7iRnNrnncjZyHdC3MxM0tqhzJStoE6nXpjXaBVygpbXNyi4Xezn8+FgikL6452vTMr22QP0ssFrOSootEZb2Fdgp39XKyKRGVaTge1Ymul1h79Fe218rVtjD3hibj6RQ0u+ZxN3K+qamt/2j11omim06X8ifmV64ou1vb+kzhkWylTYo1t7QuWbcjYMpH5i7jA6Z8tDwqrrmlle2gADiMktJ2oLfrrdIq6S06BgaSn8vu1LlbmsmfpfJ0YDUTujs+qKxWuOt+6R1Xd0cNx6M6dy+XuvJ7yvbWFFe5e7tqMp5OQbNrHncj55WkU6lDgz982t1g5qzRu1fOmjFtRJNz3/G55ScV9QiwlTZplZ6VPyxkbuaTB8LwCWHJm4XhEy411g4LmYtJlgAvjZLSdpiP2y9JKdJbdKSmBF3JK/c1MVJyKgv9D36ersXJWQp33bqY7+vpouF4VBc4yL3gWLqyvRXncvx93DQZT6eg2TWPu5HzR01tfcSa7SGhk2fNf1c4WGhooO9s1/vdMYODgwaurqhW0neLblu1mR+53dzbITBiqo2Pk4GJoY2P0xuLpnXz7j8/cjvboQFwFSWlbdTysBtXCoS5kGYAABnqSURBVHduSJBs0elpQXQEhJC9xzOKS6o+se2l8ERWpkNELgotO345O/GczPbsxHOFx9KjFs9mISbVrF8e1phTkRJ9QH5XSvSBuuzSTSs+1HxUKpJp9qGzJzA/oNm7Dncj54+1MQmj3gma/P4EIpU2CSEThru/7if8/Hat/CmYRaYuG+P26dv0CFwsO88yaPF08WvmW+ISWYkKgOsoKW0NDfS/jFp483pZ9JKtWanZtdV1D5rbckrubP/x/M2Sqk12vRWv/CUWs5KkrSwttq79+Pp/zqTFH72XX/GsqeVefkXm18ev/+dMTOS/tXYJKkKIoYF+fFREi+j22dV7K9NEjTX1jTX1lWmi06sSmkRVO6MWafNCTjLNPvi90Wj2rsbdyPnjal7JkKDBzM86ZmZE8OeXgq/QNvep3MQyltImlc6kXXMI9lO4Szhx2IlfFV9lAoD2UbKuLSHE39cj7UjclrjEs4mnC4sqCSEu+oLhRoYfuSudxUIIa/0Pb781ItDPKzImISM2qVhU5uLuOMjTZd/Jb7S5wGL4+3pkHo3fEpf4809pqcWVArHYVWg/LWDQip2z2A6tY2h2zeNu5DyRLyp1dHNgftaxtCDkz5G0dtY9iuoUDLdFaasuxUUVbs4KlsYjhFg621wsrtRwPC+nuaV15aZdl66JRNdL3L1c3hjs8dmyD/BXa4e2JvyUfOlqvqiUEOLh7hQc6DsvdArbQVGCntKWsWTuTMkNPBv3/NiUonSc3+/Yu7OOlaXFV+sj2Hr1VyTdztwiafYNW7/j3M1vuNvs3I2ceh7uTlXld+xd+zEP9Wxfe1Z5m/n5VvUDYQ9TBefghmTqY6B0HggRc+FPiPSs/PBVseY+DsLwCYGuYfeLqy6dvTYsZG58VIS/r+LFFpXhz412b92unvfp1ttNT1zfHj7p40mEkJqiW98kXTh58cqOzxbY9bVmO0DOo2RAgkKGw30FyrPG77iQO6ArYA1FAELIYE+Xi6fSJA/17GwkKydeK7zprTCFIm2qiavQvlqkuGu29sYdoWu7lxy1gxqnwXGur+Glzft0663Wprdiwx2DvLv36dG9Tw/HIO+3YsMrWp/OWf0F29HRgObSVn+As66VZXtHiDHTFwB4bc2i0PNJ549+f5J5qNOrp043E0LIyV9FKVklS/vKpVCkTfUZHzC45Eiawl1FxzNGBwzScDydhWlwL2FHwqG7TU+CtyiYQTt5y5xbTY93JBzSfFSUobm0JYSYhv6V6LT/OyJJAwB/WVlaxK79+HDC0R+2/VicW9L0pKnCwPhActaJlJy1Dn0s9RUOWkPaVI8lc2e23amXX0IkJfpA2936FXO1fTy6eqfB8eRGuz//muX89nBlez3eef3oxUxNxkMlyktbPYd+JpPHCKRu3wAAANLefmvE5RM7uzW2fLfxu1nDZ//w1f8Mnumc9hVO6tGd7dDoty1y/uPcygsxB+9kl7Y8ab6TXfpr7KFHuRU7Ij9mO7SOFRdVWDrbKNxl6WxT2slpcDwZJJabX2ql5L6YhBAroV1hQbkm46ESbdPI5Bm+MezpqfMKd4kJ7hgJAECsLC2+lJrV+vx+Xf0nm8TNcit/IW2qm7+vR8bhuNWbdl2IPynKLXb3dvX3cdt0OJ4rKwxwfRocKwy7G7ezV4xpmq+M/tJWt1dPZW8UgeQfAAD4A9KmJhka6G9ePY/tKF4GMw3Ozk8ov4sr0+A0b4Cbw52cUvvhipePqCm65abFd33nCsoHJDD0+lgp2yXAn5UAAHKQNqFDXJ8Gx4rJr/uJDlxQtrcw6dJbrw/RZDxU4kVpq+/qpHC7WIwra/zFnzUUAV4C0iZ0iOvT4FgxL3SKjaHJ0SVfy+86sWRnH0PjBaGK7+IBquNHaevhKjAylN8ukL7xDvAMf9ZQBHgJSJugCk5Pg2PL1+sW2usbn4iIK0vJfXTvwaN7D8pSck9ExPXRM9i1jqs3ctIq9I+1JYQYeAoVzocgRIBBYwAA8pA2QRVcnwbHCru+1kd3b9iRcOjoqcz0mJ8EAoGHu1PomDfQX6suvChtiYG+vtCptfCG/B6MGeMtLt5oF0BzkDZBNeqaBse3QWLzQqfMC53CdhR04sWABEKIwUA3gZ5sHS8Wi5GkeYsnaygCvDSkTdAk9DWAuvCltNV1sCNyt9UREIL14wAAFELaBAAu4ktpq2drI259JrsVY8YAAJRA2gRN4smNdkED+FLa6nTvRp4/l9koFouxQCMAgEJIm6BJGCQG6sKX0pYQItDVld+GQWMAAMogbQIA5/CltG1rfCKfjpGfAQCUQdoEAC7iS2n7/PY9gdwye8pukg4AAEibAMBFfCltW3NFpE1RRkYXBF/xbQ1FgM5C2gQALuLHLRsIeXr2V/HTpzIbkZ75DGsoArQPaRMAuIj+0rb5QsaT42cEOjrynQ9iMbofAABkIW0CAHdRW9qKW1qfnjjb9EsqedbWJtfxAIAb7QLIQNoEFmGQGKgLnaXt08Onn5w4K9DVbXv8pJ3DBARX1/hr4/YfUNoCSCBtAruQkEFdaCttW68XNu490PbkqbipucN5vGKxGEkaAHgOaRMAaELVCgmPfzzSsD3h+f068RPVLqUJCG6rAwB8hrQJWgI32gV1oae0bdzzY1PqZXFzi+qn4MoaAPAZ0iZoD9xoF9SFkgEJjd8dbM7KFTe2N0RMnlhMxGJkaQDgI6RNAKASDaXt0/+dak6/Jm536oNSuLIGAPyDtAkAtOJ8aduSU/DkxDlxSycuqEkIkKIBgH+QNgGAYtwea9tW3/Ao/vuXS9CEmeqLJM1XWEMR+AlpEwDoxu3StnH3ftL67FWeQdzhUjdAKayhCPyEtAkAdOPwgIQnx355Vlopbm19lSdRpffBzHncq7wEAICWQNoEbYa3DagFV0vbZxW3nhw4TnR0iI4OIZJuhD/WEmcumYnFxECfiAkhYgEhhAjEYrFAQMRisYAIxMwsX1xZAwB+QNoEAD7gammrZ2/X69vY9o95/N9j3f46STPxAABoOaRNAOADrpa2qjCeMPJVTm+4cVpdkYAWMnMeh//FADKQNgGA67g9jax9Ot27sR0CAACXIG0CW3CjXVAXmktbAAAA4ATcaBfUBaUtAAAAAFACpS0AAAAAUAKlLQAAAABQAqUt8BRutAsAAEAflLbAU7jRLgAAAH1Q2gIAAAAAJVDaAgAAAMswSAzUBaUtAAAAsAyDxEBdUNoCAAAAACVQ2gIAAADLcKNdUBeUtgAAAMAy3GgX1AWlLQAAALBsX1wk2yEAJVDaAgAAAMsmjR3OdghACZS2AAAAAEAJlLYAAAAAQAmUtgAAAABACZS2AAAAAEAJlLYAAAAAQAmUtgAAAABACZS2AAAAAEAJlLYAAAAAQAmUtgAAAABACZS2AAAAAEAJlLYAAAAAQAmUtgAAAABACZS2AAAAAEAJlLagvQpKKpNTMjs8zMx53MT3lmognq6wddcBM+dxW3cdYDsQAKBKVOxeM+dxqqRQHkrPyjdzHjdjzhq2A4Euocd2AECz6pq6/UlnTp+/nJqRw2zpZ2vtKXQcP3JY6IzgDk8f927Ew4bGdcvDFoRNf8Uw1ny+++Ll3JtV1YSQ4NEBs2dNGhvk9yrPqS6PGh9L/gUAOsyYs+bEmTTpLSOGDZw2eaQqeY8mB4+dT0g8zuT/frbWM0JGh/3tL9ZWPdmOizxqfCL5F+iD0ha6SnJK5r8i/u9hQyMhxMvN0cKsOyEkt6D0xJm0E2fSGh497rBg7de39/WGxr6vWb1KGNU1dUPGf/CwodHczHTEsIH1DY+YAE7/GOvv6/EqzwwAoBBTM0nyXuXte6kZOakZOQUlFZtXz2M7Og2Jit27+at95I92yC0o3fzVvrzC8v1fr2U7NKAcSlvoEulZ+VNnrySEBI8OWLPkX24u/aV3HTqR4u5q3+GTXDoa/+qRRMfvf9jQGDw6QJJPC0oql0R+ib/XAaBLRS6ZLbk6lLD/xIJVX8R/mzQlOIgPf1RX19Qxda10J8LWXQfSruSxGhfwAkpb6BIfLN5ICJk1ZWz8ZtlRsP6+HprM7PmF5YSQ2bMmSba4ufQ//p/PNRYAAEDojOBv/nPkekHZLxcy+VDa5opKCSEjhg2U/mUXhE1/xdFlAKrANDJQv4T9J25WVfeztZava+Uxw/mjYvemZ+V7vvm+9JywGXPWmDmPS8/Klz4+KnYvc5jd4ClRsXura+pUCSnjan77Bxw8dn7ie0vNnMeZOY/zfPP9qNi9MgcUlFSGL/uceWlm/oHM/AwmWkLIsnU7mPAOHjsvfa7d4CnM9vBlnxeUVMq3A/MMzJPLHwAAnMYMTpBWXVMXFbs3cHI488EPnByesP+E9AHMNNPklMzklExJglKYH6QTyMT3liqbPZackik5zG7wFPk8Jv2KTGBMymIy7cFj5yUb5ZOkvNyC0vZTdHVNnUxelUn4hJCE/SdkkrP0c7bzDcKc207zSgJgknPg5HDMuqMDem1B/X4+l0EICXvvL6oczAwMyCss//r7I4SQEcMGSuacyY/0D1/2+b5Dycxh9Q2PNn+17+TZ9Paff9rkkakZOZu/2tfdtJuyDoNl63bEf5vUz9Y6/B9vm5manDybvvmrfWlX8iWdu8y4YULIxDEBtiFWVXdr9h1KPnEm7afd6yUXHJk4mQi93BwfPnpcWFJBCEnPyp8etvphQ2M/W2tvN6fK2/f2HUq+dfs36Z5j5hWZ0cDMcOS8orIzB7Zqw3wLAFCLytv3CCEDXOyZh9U1daOnL7hZVR08OmDCKP+GxieJ//tlwaovbt/9bVXEP5ljmAmmPx0/v+9Qcjv5QTrJ9O/bJ7egdOrslV5ujjIBMImO/DH4tfL2PWbiwdaohZL5bfKvmJqRw6Qsu7699x1K7mdrzWzc/NW+hsYnyoYOjw3y62drfbOqesq/Pvkm5v9Jj0mTKCipZOYKB48OmBEyuupuzfFf0mTyKjMhz8vNcdm/ZxFC9h8+I5Oc2/kGkf6+IISkZuQsWPWF7WtWkievvH2PmYkxYtjAytv3rheUTZ29EtMwaCAGUDePoL91dxp7+vxlVQ4+ff5yd6ex3Z3GDp80595vtdK7gmctkX4e5kjbQe+kXcmTbLEd9E53p7HBs5a08xJzlm5mXsIj6G9f7PyvzKswTyvz6u9++Gl3p7F7Eo8zD/ckHn/3w0+lD/hi53+7O42ds3SzTLTSZzGGT5ojc+Tp85eXfvYV8/O6mATmrDlLNzPPf++3WqYBZZ4HALhCJneJiiuYlDJ80hzJMaLiiuGT5kiymVgsTruSx6QpyRYV8wPzcpIkc++3WknSk8+f0pmZyWO2g96RJDf5V2SiYv5bF5PAHHbg6DnmxHYaIe1KHpOfmWeT/0Zgwpb+ReRbYPikOQeOnpM8lPz6ouIK6d9LPodLIpS08L3fapd+9hXzUPosyVMx/4+kczVwFAYkgPoxa2xJY1ZYlP5P5rqPuZnpoT0b2u+k/On4eULIkrkzJX9Sjw3yO7BrXYfxxG9euueLT5guhNWbdg0Z/4H0ZSnmaSPmzJB+dWZsLtP9TAgJnRG8/+u10gcw0+Bu3f5N5rWW/XuW9Po+6Vn51wvKZMZmjA3yk+nqCB4dEL95KfP81lY9mQ7v23dlnxwAOGTq7JVMuhs2IezEmbRZU8Ye2rNBstfNpf+lo/HSHYTMz/L5s/38UFBSmZqRY25mKkky1lY94zcvDR4dIP0kTKKb8/5fpNc9XBA23cvN8WFD44kzL1z+kn5Ff18Pptdz3fIwSXfytElv9rO1ftjQKD9+QPrXufLzN7OmjCWE7DuUPHX2yonvLZWMJWDC9nJzlE6YzGvdrKqWPO2lo/HTJr0pOcDaqmf/vn0IIVV3XkiP8t8gB4+eI4R8tuwDSQtbW/XcvHqedIP3s7U+tGeDpEd54Yd/JYqyOnAOBiSA+pmbmTJrfkn0fa03kxwJIbkFpQ8bGjOu5ktnWG83pw4vvjMZR2ZpBRWvHE2b9Oa0SW8mp2R+sfO/zGUpQgiTUq8XlBJCfrmQyYwfYFTdrSFyqx4WlFSmZ+Uz3yjMAfKGDfaQOYUQ4imUvTIow3OAg/RD5ndU9hIAwAnMdf/6hkfM37dj3vCTz3LVNXWpGbnSyUde+/mBKfK83Zzkz5JeW/fi5VxCyJg3ZNfznjDK/3pBmcwf0jKvGDDEIzUjRyb39u/b52ZVdftLzTBF9tqls3f9cOTr74+kZuRM+dcnTA2aX1ROCHn46LHMmF1m2IbM0yanZErmSzAHyJD/BskrKiOEKBwIIf0rSJ/FfJsofH7gFpS2oH7ebk6pGTmi4gpJ8Ro6I1jyp/nE95ZKxkJ1Sn3Do1cMbGyQ39ggP2YA1qebv/mjtC0jhDBDsmR0NzVhfmBu+qDwmPYxXxgy3xMqQucBAKdJFv9iVv6K+HSbh9BButiKit379fdHZDoCVCTJDw8fqXTDF6YzmJVRpNZWPVdF/HPMG37Tw1ZfLyjbn3RmQdh0ppq/WVXNrBEmQ5J7Dx47H7llt3xPdode+vd9idcCbYMBCaB+494cSgjZ9Z8j6n1a+fnFL4e5bCe5lMZMtvhp9/qGG6dl/pMshRsdv3/foeTg0QGnf4xldv20e70qr9XdtBtB/ysAv4XOCJ41ZezDhsatu/4r2Xjw2PnNX+3r17f3ni8+keScl3hy8+7dVDrMzJQQ0s74ga7m7+sx5/2/EEKYpW2Z6XQjhg2UT7wNN04zJWlBSWXEp9seNjzeGrWwJG0/s0tyAbB9zO+LpWb4CaUtqN+Mt0ebm5nerKreuuuAGp+W+TteVFwhvfElMrVksJdDv9cIIXY21qSjno/E//1CCNkataCzfQDMJTzmUiAA8NaCsL8SQvYdSpYUW8xg0Ig5M6THkr4EJjHmFpTKbM8rLJd+GOjnRRSVeswiM5J1G7pUQ+MTQkg/W2tCiO1rVqSja3Gnz19+2NA4850xoTOCO7tcDDNCg8VSHliE0hbUz9qq52fLPiCErN60a9m6HdLJtLqm7qXHFYwfOYwQsiUu8c/vhmPnp4etbucUZqVD6UljzNACQsiIYQOZXMk8bezX+2XWX0xOyZS8kLlZN/LHIuQMZk5GhyQr4EiPJ0tOyVRlSUgAoIabS39mQtVPx84xWyzMTQkh0qNs5VddVYW/rwczo2vZuh3MluqaOmbNLOnDmET36eZvpKu9Zet2MOOAX7G8ljdjzhqZBbyTUzKZPoKxb/hJwr5eUCbzW1fX1ElWBDfr3o38cdsdRnpWvnwRr9C0ySMJIdHxf35fMKsIo9jlA4y1hS7BDGP9dPM38d8mxX+bJLmXumSUrcx0KxWfk7mdz7AJYcwyhDerqqVXMZTHdB4vWPXFp5u/Yf6IZyaxmZuZrl70T8nTZlzN33coecj4D2a+M8bM1KSh8cmJM2k3q6p/2r2eGRg3I2T05q/2/Svi/5gD9h8+87BBpfFthJDIJbP/tXDD5q/27T98pn/fPpKwO/vrAwCnTZ345r5DyV9/fyTsb3+xturJPNz81b6quzW2r1mlXclnFjp4iaG3TJKJ/zbpxJm0/n37MM/j5ebITCRgSBLduHcjmIQsSYbfRK9Q6y9KCCEW5qb7DiUzi3xL5tIRQmZNGSuZg/FN9IrpYasXrPri4NFzAUM8CCF5heUnzqSNGDaQKbWDR/t/utk0NSNn4ntLA4Z4MAuKMyMNOiTzfUH++PZ5ia8e4ByUttBVQmcE+/t6JOw/nl9YLqk+vdwcA4d6S99FnbmaJpk0IE1+16E9G9Z8vvv4L2mpGTn9bK2X/XvWqoh/2g2eoiwGN5f+GSd3bd3134uXc5kY+tlaz3xnzOLwF5b6it+8dNhgj4NHzzHrmZubmQb6eUnf/51Z8mb/4TPx3yYxexd++FeZDmNlv8i0SW+ad++2e98xplzuZ2s9a8pY5uok+WMwLvOvwl8fADhH4Yd3bJAfU27mikrHBvUcG+S354tPYr/eL7mtwJ4vPjl49Jx0b6uK+YEpBGO/3n+9oIy5B8TCD/+acVUkXdqSPxIdU/ARQvrZWk8cE7Ag7K/SM9vaeUWFAShLU5KkKkn+waMDpk0eKd097O/rcfrHWOn87OXmGP6PtxeHz2AOsLbqeWDXui92/vfEmTRmpbBl/57V3bTb6k27VAnj0J4Nu344sv/wGebJRwwbOG3ySCart3OWiqUzaDW2F9YFAAAAAFAPjLUFAAAAAEqgtAUAAAAASqC0BQAAAABKoLQFAAAAAEqgtAUAAAAASqC0BQAAAABKoLQFAAAAAEqgtAUAAAAASqC0BQAAAABKoLQFAAAAAEqgtAUAAAAASqC0BQAAAABKoLQFAAAAAEqgtAUAAAAASqC0BQAAAABKoLQFAAAAAEqgtAUAAAAASqC0BQAAAABKoLQFAAAAAEqgtAUAAAAASqC0BQAAAABKoLQFAAAAAEqgtAUAAAAASqC0BQAAAABKoLQFAAAAAEqgtAUAAAAASqC0BQAAAABKoLQFAAAAAEqgtAUAAAAASqC0BQAAAABKoLQFAAAAAEqgtAUAAAAASqC0BQAAAABKoLQFAAAAAEqgtAUAAAAASqC0BQAAAABKoLQFAAAAAEqgtAUAAAAASqC0BQAAAABKoLQFAAAAAEqgtAUAAAAASqC0BQAAAABKoLQFAAAAAEqgtAUAAAAASqC0BQAAAABKoLQFAAAAAEqgtAUAAAAASqC0BQAAAABKoLQFAAAAAEqgtAUAAAAASqC0BQAAAABKoLQFAAAAAEqgtAUAAAAASqC0BQAAAABKoLQFAAAAAEqgtAUAAAAASqC0BQAAAABKoLQFAAAAAEr8f729uVAp+JTfAAAAAElFTkSuQmCC)"
      ]
    },
    {
      "cell_type": "markdown",
      "metadata": {
        "ExecuteTime": {
          "end_time": "2022-01-17T10:10:45.984304Z",
          "start_time": "2022-01-17T10:10:45.969369Z"
        },
        "id": "SP9lbgrtEtE_"
      },
      "source": [
        "**Task 3 (1 point)**. Compare your previous results with [GridSearch](https://scikit-learn.org/stable/modules/generated/sklearn.model_selection.GridSearchCV.html) hyperparameter tuning. You may tune best hyperparameters for forest with several trees and then increase it while measure the quality on validation dataset."
      ]
    },
    {
      "cell_type": "code",
      "source": [
        "from sklearn.ensemble import RandomForestClassifier as rfc\n",
        "from sklearn.model_selection import GridSearchCV\n",
        "from sklearn.model_selection import RandomizedSearchCV"
      ],
      "metadata": {
        "id": "-4m7txmA1QO7"
      },
      "execution_count": 28,
      "outputs": []
    },
    {
      "cell_type": "code",
      "execution_count": 36,
      "metadata": {
        "ExecuteTime": {
          "end_time": "2022-01-17T20:27:52.391365Z",
          "start_time": "2022-01-17T20:27:51.265Z"
        },
        "id": "4ifzGlg_EtFA",
        "colab": {
          "base_uri": "https://localhost:8080/"
        },
        "outputId": "8c8207c8-1697-416f-99a2-6e3d48ae27df"
      },
      "outputs": [
        {
          "output_type": "stream",
          "name": "stdout",
          "text": [
            "Best model has following parameters :  {'criterion': 'entropy', 'max_depth': 6, 'n_estimators': 100}\n",
            "Training accuracy:  1.0\n",
            "Validation accuracy:  0.8809523809523809\n"
          ]
        }
      ],
      "source": [
        "# Your code here\n",
        "model = rfc(random_state=RANDOM_STATE)\n",
        "space =  {'n_estimators': [3, 5, 10, 50, 100, 150, 200],\n",
        "          'criterion': ['gini', 'entropy'],\n",
        "          'max_depth': range (1,10,1),}\n",
        "search = GridSearchCV(model, space, scoring='accuracy', cv=5)\n",
        "result = search.fit(X_train_test, y_train_test)\n",
        "best_model = result.best_estimator_\n",
        "best_model.fit(X_train_test, y_train_test)\n",
        "print('Best model has following parameters : ', result.best_params_)\n",
        "print('Training accuracy: ', accuracy_score(y_train_test, best_model.predict(X_train_test)))\n",
        "print('Validation accuracy: ', accuracy_score(y_val, best_model.predict(X_val)))"
      ]
    },
    {
      "cell_type": "markdown",
      "metadata": {
        "id": "7uCNCxEZEtFA"
      },
      "source": [
        "**Task 4 (1 point)**. And finally tune forest hyperparameters with [RandomSearch](https://scikit-learn.org/stable/modules/generated/sklearn.model_selection.RandomizedSearchCV.html). Compare results to previous attempts."
      ]
    },
    {
      "cell_type": "code",
      "execution_count": 37,
      "metadata": {
        "ExecuteTime": {
          "end_time": "2022-01-17T20:27:52.392364Z",
          "start_time": "2022-01-17T20:27:51.266Z"
        },
        "id": "yLhyT-IYEtFB",
        "colab": {
          "base_uri": "https://localhost:8080/"
        },
        "outputId": "95dc3faa-fbaf-4360-9abb-d668a4a5ecd4"
      },
      "outputs": [
        {
          "output_type": "stream",
          "name": "stdout",
          "text": [
            "Best model has following parameters :  {'n_estimators': 100, 'max_depth': 9, 'criterion': 'gini'}\n",
            "Training accuracy:  1.0\n",
            "Validation accuracy:  0.8809523809523809\n"
          ]
        }
      ],
      "source": [
        "# Your code here\n",
        "model = rfc(random_state=RANDOM_STATE)\n",
        "space =  {'n_estimators': [3, 5, 10, 50, 100, 150, 200],\n",
        "          'criterion': ['gini', 'entropy'],\n",
        "          'max_depth': range (1,10,1),}\n",
        "search = RandomizedSearchCV(model, space, scoring='accuracy', cv=5)\n",
        "result = search.fit(X_train_test, y_train_test)\n",
        "best_model = result.best_estimator_\n",
        "best_model.fit(X_train_test, y_train_test)\n",
        "print('Best model has following parameters : ', result.best_params_)\n",
        "print('Training accuracy: ', accuracy_score(y_train_test, best_model.predict(X_train_test)))\n",
        "print('Validation accuracy: ', accuracy_score(y_val, best_model.predict(X_val)))"
      ]
    },
    {
      "cell_type": "markdown",
      "metadata": {
        "id": "LYm5dY2nEtFB"
      },
      "source": [
        "**Task 5 (0.5 points)**. Tell us about your experience in hyperparameter tuning with the approaches above. What do you think would be the best option for this task and why?"
      ]
    },
    {
      "cell_type": "markdown",
      "metadata": {
        "id": "rRYWvTbkEtFB"
      },
      "source": [
        "Your cool ideas here...\n",
        "\n",
        "\n",
        "\"Grid search is great for spot-checking combinations that are known to perform well generally. Random search is great for discovery and getting hyperparameter combinations that you would not have guessed intuitively, although it often requires more time to execute.\"\n",
        "\n",
        "We can see that our results before hyperparameter tuning are good comparing to models with GridSearchCV and RandomizedSearchCV. \n",
        "Randomized search is giving not the best model sometimes, while GridSearch is more consistent approach. Still, it is a perfect method, when you are searching parameters for the model. \n",
        " \n",
        "\n",
        "\n"
      ]
    },
    {
      "cell_type": "markdown",
      "metadata": {
        "id": "wtrk28cDEtFB"
      },
      "source": [
        "### Desicion tree explained"
      ]
    },
    {
      "cell_type": "markdown",
      "metadata": {
        "id": "512Tr989EtFC"
      },
      "source": [
        "Remember the [Titanic](https://www.kaggle.com/c/titanic) competition from last week? Wouldn't be a good idea to visualize one of possible desicion-making processes of _survived_ / _dead_ labeling?"
      ]
    },
    {
      "cell_type": "markdown",
      "metadata": {
        "id": "DoamU0wkEtFD"
      },
      "source": [
        "**Task 6 (1 point)**. Load titanic dataset, split it into train/test parts, apply simple hyperparameter tuning of [DesicionTreeClassifier](https://scikit-learn.org/stable/modules/generated/sklearn.tree.DecisionTreeClassifier.html) (use one of the approaches above) in order to have **test accuracy more than 0.65**. <br>\n",
        "\n",
        "Draw the best tree decision making process. You may use [sklearn.tree.prot_tree](https://scikit-learn.org/stable/modules/generated/sklearn.tree.plot_tree.html).<br>"
      ]
    },
    {
      "cell_type": "code",
      "execution_count": 31,
      "metadata": {
        "ExecuteTime": {
          "end_time": "2022-01-17T20:27:52.393362Z",
          "start_time": "2022-01-17T20:27:51.269Z"
        },
        "id": "1mH6LxCIEtFD"
      },
      "outputs": [],
      "source": [
        "from sklearn.tree import DecisionTreeClassifier\n",
        "\n",
        "# your code here"
      ]
    },
    {
      "cell_type": "markdown",
      "metadata": {
        "id": "3dMBeeM3EtFD"
      },
      "source": [
        "Is it easy to interpret its results? Are you able to explain to a random person why would they survive / die on the titanic?"
      ]
    }
  ],
  "metadata": {
    "kernelspec": {
      "display_name": "Python 3",
      "language": "python",
      "name": "python3"
    },
    "language_info": {
      "codemirror_mode": {
        "name": "ipython",
        "version": 3
      },
      "file_extension": ".py",
      "mimetype": "text/x-python",
      "name": "python",
      "nbconvert_exporter": "python",
      "pygments_lexer": "ipython3",
      "version": "3.7.7"
    },
    "toc": {
      "base_numbering": 1,
      "nav_menu": {},
      "number_sections": true,
      "sideBar": true,
      "skip_h1_title": false,
      "title_cell": "Table of Contents",
      "title_sidebar": "Contents",
      "toc_cell": false,
      "toc_position": {
        "height": "calc(100% - 180px)",
        "left": "10px",
        "top": "150px",
        "width": "235px"
      },
      "toc_section_display": true,
      "toc_window_display": true
    },
    "colab": {
      "name": "Copy of rf_classifier.ipynb",
      "provenance": []
    }
  },
  "nbformat": 4,
  "nbformat_minor": 0
}